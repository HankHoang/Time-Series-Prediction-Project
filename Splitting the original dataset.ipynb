{
 "cells": [
  {
   "cell_type": "code",
   "execution_count": 3,
   "id": "bcb8a787",
   "metadata": {},
   "outputs": [
    {
     "data": {
      "text/plain": [
       "(690454, 28)"
      ]
     },
     "execution_count": 3,
     "metadata": {},
     "output_type": "execute_result"
    }
   ],
   "source": [
    "df = pd.read_csv('crime_data.csv')\n",
    "df.shape"
   ]
  },
  {
   "cell_type": "markdown",
   "id": "b6266a24",
   "metadata": {},
   "source": [
    "The original dataset contains 690454 observations and 28 columns, which is quite a lot of data, so I split the dataset into two smaller parts (each containing 5000 rows) for further training and testing the ML model."
   ]
  },
  {
   "cell_type": "code",
   "execution_count": 4,
   "id": "a794ea16",
   "metadata": {},
   "outputs": [],
   "source": [
    "\n",
    "import pandas as pd\n",
    "part1 = df.iloc[:5000, :]\n",
    "part2 = df.iloc[5000:10000, :]"
   ]
  },
  {
   "cell_type": "code",
   "execution_count": 5,
   "id": "a6db05db",
   "metadata": {},
   "outputs": [],
   "source": [
    "part1.to_csv('data_0.csv', index=False)\n",
    "part2.to_csv('data_1.csv', index=False)"
   ]
  },
  {
   "cell_type": "code",
   "execution_count": null,
   "id": "bbf4b543",
   "metadata": {},
   "outputs": [],
   "source": []
  }
 ],
 "metadata": {
  "kernelspec": {
   "display_name": "Python 3 (ipykernel)",
   "language": "python",
   "name": "python3"
  },
  "language_info": {
   "codemirror_mode": {
    "name": "ipython",
    "version": 3
   },
   "file_extension": ".py",
   "mimetype": "text/x-python",
   "name": "python",
   "nbconvert_exporter": "python",
   "pygments_lexer": "ipython3",
   "version": "3.10.9"
  }
 },
 "nbformat": 4,
 "nbformat_minor": 5
}
