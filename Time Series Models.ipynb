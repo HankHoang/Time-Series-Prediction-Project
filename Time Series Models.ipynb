{
  "nbformat": 4,
  "nbformat_minor": 0,
  "metadata": {
    "colab": {
      "provenance": []
    },
    "kernelspec": {
      "name": "python3",
      "display_name": "Python 3"
    },
    "language_info": {
      "name": "python"
    }
  },
  "cells": [
    {
      "cell_type": "markdown",
      "source": [
        "# Constructing ARIMA and RNN prediction model on crime dataset\n",
        "\n",
        "\n",
        "**Date created: 09 May 2023**<br>\n",
        "**Last modified: 11 May 2023**<br>\n",
        "\n",
        "### Author: Hank Hoang"
      ],
      "metadata": {
        "id": "C0vMW0sxkV-X"
      }
    },
    {
      "cell_type": "markdown",
      "source": [
        "ARIMA (AutoRegressive Integrated Moving Average) is a time series analysis and forecasting model used to make predictions based on past patterns and trends in a given data set.\n",
        "\n",
        "ARIMA models consider three main components of a time series:\n",
        "\n",
        "* Autoregression (AR): This component looks at how the current value of the time series depends on the previous values. In other words, it considers how the series is correlated with itself over time.\n",
        "\n",
        "* Integrated (I): This component deals with trends in the data by differencing the series. This means it looks at the difference between consecutive values to remove any overall trend or seasonality.\n",
        "\n",
        "* Moving Average (MA): This component considers the error terms or residuals in the data and how they are related to each other over time.\n",
        "\n",
        "By combining these three components, an ARIMA model can make forecasts for future periods based on the historical patterns and trends observed in the data. As a result, ARIMA models can be used for various applications, such as predicting stock prices, weather patterns, and sales volumes.\n"
      ],
      "metadata": {
        "id": "BIGADJxDlioE"
      }
    },
    {
      "cell_type": "markdown",
      "source": [
        "## Importing the necessary libraries and loading data"
      ],
      "metadata": {
        "id": "0OQ4Ws71nL6o"
      }
    },
    {
      "cell_type": "code",
      "source": [
        "import pandas as pd\n",
        "import numpy as np\n",
        "import matplotlib.pyplot as plt\n",
        "import statsmodels.api as sm\n",
        "from statsmodels.tsa.stattools import adfuller"
      ],
      "metadata": {
        "id": "9-jEx3eWnLCq"
      },
      "execution_count": 28,
      "outputs": []
    },
    {
      "cell_type": "code",
      "execution_count": 29,
      "metadata": {
        "id": "B4bvLfJkkJw0"
      },
      "outputs": [],
      "source": [
        "#Reading the data\n",
        "df_day = pd.read_csv('day_time_series.csv')"
      ]
    },
    {
      "cell_type": "markdown",
      "source": [
        "### Subset the data from 2020 to 2022"
      ],
      "metadata": {
        "id": "cZIEM3dcbDBZ"
      }
    },
    {
      "cell_type": "code",
      "source": [
        "# Set the 'Date' column as the index\n",
        "df_day.set_index('Day', inplace=True)"
      ],
      "metadata": {
        "id": "xAPy0EsZ65aq"
      },
      "execution_count": 30,
      "outputs": []
    },
    {
      "cell_type": "code",
      "source": [
        "df_day = df_day[(df_day.index >= '2020-01-01') & (df_day.index <= '2022-12-31')]\n",
        "df_day"
      ],
      "metadata": {
        "colab": {
          "base_uri": "https://localhost:8080/",
          "height": 455
        },
        "id": "AardjxPavpK5",
        "outputId": "ab44b236-3476-4494-efc0-aecb8f138e1d"
      },
      "execution_count": 31,
      "outputs": [
        {
          "output_type": "execute_result",
          "data": {
            "text/plain": [
              "            Occurrence\n",
              "Day                   \n",
              "2020-01-01        1070\n",
              "2020-01-02         526\n",
              "2020-01-03         593\n",
              "2020-01-04         539\n",
              "2020-01-05         505\n",
              "...                ...\n",
              "2022-12-27         474\n",
              "2022-12-28         612\n",
              "2022-12-29         566\n",
              "2022-12-30         669\n",
              "2022-12-31         555\n",
              "\n",
              "[1096 rows x 1 columns]"
            ],
            "text/html": [
              "\n",
              "  <div id=\"df-a0d382ee-c0c4-4285-ad9d-78c269de76a4\">\n",
              "    <div class=\"colab-df-container\">\n",
              "      <div>\n",
              "<style scoped>\n",
              "    .dataframe tbody tr th:only-of-type {\n",
              "        vertical-align: middle;\n",
              "    }\n",
              "\n",
              "    .dataframe tbody tr th {\n",
              "        vertical-align: top;\n",
              "    }\n",
              "\n",
              "    .dataframe thead th {\n",
              "        text-align: right;\n",
              "    }\n",
              "</style>\n",
              "<table border=\"1\" class=\"dataframe\">\n",
              "  <thead>\n",
              "    <tr style=\"text-align: right;\">\n",
              "      <th></th>\n",
              "      <th>Occurrence</th>\n",
              "    </tr>\n",
              "    <tr>\n",
              "      <th>Day</th>\n",
              "      <th></th>\n",
              "    </tr>\n",
              "  </thead>\n",
              "  <tbody>\n",
              "    <tr>\n",
              "      <th>2020-01-01</th>\n",
              "      <td>1070</td>\n",
              "    </tr>\n",
              "    <tr>\n",
              "      <th>2020-01-02</th>\n",
              "      <td>526</td>\n",
              "    </tr>\n",
              "    <tr>\n",
              "      <th>2020-01-03</th>\n",
              "      <td>593</td>\n",
              "    </tr>\n",
              "    <tr>\n",
              "      <th>2020-01-04</th>\n",
              "      <td>539</td>\n",
              "    </tr>\n",
              "    <tr>\n",
              "      <th>2020-01-05</th>\n",
              "      <td>505</td>\n",
              "    </tr>\n",
              "    <tr>\n",
              "      <th>...</th>\n",
              "      <td>...</td>\n",
              "    </tr>\n",
              "    <tr>\n",
              "      <th>2022-12-27</th>\n",
              "      <td>474</td>\n",
              "    </tr>\n",
              "    <tr>\n",
              "      <th>2022-12-28</th>\n",
              "      <td>612</td>\n",
              "    </tr>\n",
              "    <tr>\n",
              "      <th>2022-12-29</th>\n",
              "      <td>566</td>\n",
              "    </tr>\n",
              "    <tr>\n",
              "      <th>2022-12-30</th>\n",
              "      <td>669</td>\n",
              "    </tr>\n",
              "    <tr>\n",
              "      <th>2022-12-31</th>\n",
              "      <td>555</td>\n",
              "    </tr>\n",
              "  </tbody>\n",
              "</table>\n",
              "<p>1096 rows × 1 columns</p>\n",
              "</div>\n",
              "      <button class=\"colab-df-convert\" onclick=\"convertToInteractive('df-a0d382ee-c0c4-4285-ad9d-78c269de76a4')\"\n",
              "              title=\"Convert this dataframe to an interactive table.\"\n",
              "              style=\"display:none;\">\n",
              "        \n",
              "  <svg xmlns=\"http://www.w3.org/2000/svg\" height=\"24px\"viewBox=\"0 0 24 24\"\n",
              "       width=\"24px\">\n",
              "    <path d=\"M0 0h24v24H0V0z\" fill=\"none\"/>\n",
              "    <path d=\"M18.56 5.44l.94 2.06.94-2.06 2.06-.94-2.06-.94-.94-2.06-.94 2.06-2.06.94zm-11 1L8.5 8.5l.94-2.06 2.06-.94-2.06-.94L8.5 2.5l-.94 2.06-2.06.94zm10 10l.94 2.06.94-2.06 2.06-.94-2.06-.94-.94-2.06-.94 2.06-2.06.94z\"/><path d=\"M17.41 7.96l-1.37-1.37c-.4-.4-.92-.59-1.43-.59-.52 0-1.04.2-1.43.59L10.3 9.45l-7.72 7.72c-.78.78-.78 2.05 0 2.83L4 21.41c.39.39.9.59 1.41.59.51 0 1.02-.2 1.41-.59l7.78-7.78 2.81-2.81c.8-.78.8-2.07 0-2.86zM5.41 20L4 18.59l7.72-7.72 1.47 1.35L5.41 20z\"/>\n",
              "  </svg>\n",
              "      </button>\n",
              "      \n",
              "  <style>\n",
              "    .colab-df-container {\n",
              "      display:flex;\n",
              "      flex-wrap:wrap;\n",
              "      gap: 12px;\n",
              "    }\n",
              "\n",
              "    .colab-df-convert {\n",
              "      background-color: #E8F0FE;\n",
              "      border: none;\n",
              "      border-radius: 50%;\n",
              "      cursor: pointer;\n",
              "      display: none;\n",
              "      fill: #1967D2;\n",
              "      height: 32px;\n",
              "      padding: 0 0 0 0;\n",
              "      width: 32px;\n",
              "    }\n",
              "\n",
              "    .colab-df-convert:hover {\n",
              "      background-color: #E2EBFA;\n",
              "      box-shadow: 0px 1px 2px rgba(60, 64, 67, 0.3), 0px 1px 3px 1px rgba(60, 64, 67, 0.15);\n",
              "      fill: #174EA6;\n",
              "    }\n",
              "\n",
              "    [theme=dark] .colab-df-convert {\n",
              "      background-color: #3B4455;\n",
              "      fill: #D2E3FC;\n",
              "    }\n",
              "\n",
              "    [theme=dark] .colab-df-convert:hover {\n",
              "      background-color: #434B5C;\n",
              "      box-shadow: 0px 1px 3px 1px rgba(0, 0, 0, 0.15);\n",
              "      filter: drop-shadow(0px 1px 2px rgba(0, 0, 0, 0.3));\n",
              "      fill: #FFFFFF;\n",
              "    }\n",
              "  </style>\n",
              "\n",
              "      <script>\n",
              "        const buttonEl =\n",
              "          document.querySelector('#df-a0d382ee-c0c4-4285-ad9d-78c269de76a4 button.colab-df-convert');\n",
              "        buttonEl.style.display =\n",
              "          google.colab.kernel.accessAllowed ? 'block' : 'none';\n",
              "\n",
              "        async function convertToInteractive(key) {\n",
              "          const element = document.querySelector('#df-a0d382ee-c0c4-4285-ad9d-78c269de76a4');\n",
              "          const dataTable =\n",
              "            await google.colab.kernel.invokeFunction('convertToInteractive',\n",
              "                                                     [key], {});\n",
              "          if (!dataTable) return;\n",
              "\n",
              "          const docLinkHtml = 'Like what you see? Visit the ' +\n",
              "            '<a target=\"_blank\" href=https://colab.research.google.com/notebooks/data_table.ipynb>data table notebook</a>'\n",
              "            + ' to learn more about interactive tables.';\n",
              "          element.innerHTML = '';\n",
              "          dataTable['output_type'] = 'display_data';\n",
              "          await google.colab.output.renderOutput(dataTable, element);\n",
              "          const docLink = document.createElement('div');\n",
              "          docLink.innerHTML = docLinkHtml;\n",
              "          element.appendChild(docLink);\n",
              "        }\n",
              "      </script>\n",
              "    </div>\n",
              "  </div>\n",
              "  "
            ]
          },
          "metadata": {},
          "execution_count": 31
        }
      ]
    },
    {
      "cell_type": "code",
      "source": [
        "print('Mean:', df_day.mean())\n",
        "print('Median:', df_day.median())\n",
        "print('Mode:', df_day.mode())\n",
        "print('Standard Deviation:', df_day.std())\n",
        "print('Variance:', df_day.var())\n",
        "print('Skewness:', df_day.skew())\n",
        "print('Kurtosis:', df_day.kurtosis())\n"
      ],
      "metadata": {
        "colab": {
          "base_uri": "https://localhost:8080/"
        },
        "id": "9Le4R_Wkwx2M",
        "outputId": "6bbbc7dc-c507-4f91-d0e2-df60fb173b25"
      },
      "execution_count": 32,
      "outputs": [
        {
          "output_type": "stream",
          "name": "stdout",
          "text": [
            "Mean: Occurrence    584.29562\n",
            "dtype: float64\n",
            "Median: Occurrence    573.0\n",
            "dtype: float64\n",
            "Mode:    Occurrence\n",
            "0         541\n",
            "1         581\n",
            "2         618\n",
            "Standard Deviation: Occurrence    86.401073\n",
            "dtype: float64\n",
            "Variance: Occurrence    7465.145405\n",
            "dtype: float64\n",
            "Skewness: Occurrence    2.085835\n",
            "dtype: float64\n",
            "Kurtosis: Occurrence    7.199973\n",
            "dtype: float64\n"
          ]
        }
      ]
    },
    {
      "cell_type": "markdown",
      "source": [
        "### 2.\tStationarity Test\n",
        "Check the stationarity of the time series using statistical test the Augmented Dickey-Fuller (ADF) test. If the time series is not stationary, apply differencing to make it stationary."
      ],
      "metadata": {
        "id": "WhOEnUkOY0jn"
      }
    },
    {
      "cell_type": "code",
      "source": [
        "# Perform the ADF test\n",
        "result = adfuller(df_day)\n",
        "# Print the test statistic, p-value, and critical values\n",
        "print(f'Test Statistic: {result[0]}')\n",
        "print(f'p-value: {result[1]}')\n",
        "print('Critical Values:')\n",
        "for key, value in result[4].items():\n",
        "    print(f'   {key}: {value}')"
      ],
      "metadata": {
        "colab": {
          "base_uri": "https://localhost:8080/"
        },
        "id": "vBL1BTz-YzfH",
        "outputId": "b56f1435-06cb-4e93-bb9d-1ace9d71b475"
      },
      "execution_count": 33,
      "outputs": [
        {
          "output_type": "stream",
          "name": "stdout",
          "text": [
            "Test Statistic: -3.6268158323067254\n",
            "p-value: 0.0052685826822577945\n",
            "Critical Values:\n",
            "   1%: -3.436436308605049\n",
            "   5%: -2.8642273405849363\n",
            "   10%: -2.568200833956216\n"
          ]
        }
      ]
    },
    {
      "cell_type": "markdown",
      "source": [
        "The result of the Augmented Dickey-Fuller (ADF) test consists of a test statistic, a p-value, and critical values.\n",
        "\n",
        "* The test statistic, in this case, is -3.626. This means it is against the null hypothesis, and there is strong evidence that the time series is stationary..\n",
        "\n",
        "* The p-value in this case is 0.0053. A p-value below a certain significance level (usually 0.05) indicates that we can reject the null hypothesis of non-stationarity and conclude that the time series is stationary.\n",
        "\n",
        "* Overall, this result suggests that the time series data is likely stationary and suitable for further analysis using stationary time series models.\n",
        "\n",
        "### *With this evidence, there is no need to perform differencing*"
      ],
      "metadata": {
        "id": "9k22BCK4eJ-L"
      }
    },
    {
      "cell_type": "markdown",
      "source": [
        "## Plot the autocorrelation function (ACF) and partial autocorrelation function (PACF) \n",
        "The plots help identify the appropriate values of p, d, and q parameters for the ARIMA model."
      ],
      "metadata": {
        "id": "wGPn34dfjS2J"
      }
    },
    {
      "cell_type": "code",
      "source": [
        "# plot the ACF\n",
        "fig, ax = plt.subplots(figsize=(8,3))\n",
        "sm.graphics.tsa.plot_acf(df_day, lags=10, ax=ax)\n",
        "ax.set(title='Autocorrelation Function (ACF)')\n",
        "# plot the PACF\n",
        "fig, ax = plt.subplots(figsize=(8,3))\n",
        "sm.graphics.tsa.plot_pacf(df_day, lags=10, ax=ax)\n",
        "ax.set(title='Partial Autocorrelation Function (PACF)')\n",
        "\n",
        "plt.show()"
      ],
      "metadata": {
        "colab": {
          "base_uri": "https://localhost:8080/",
          "height": 666
        },
        "id": "VRgKKnzUjRIa",
        "outputId": "9cfbfbe5-8901-4b3f-9a4d-22b064c906c6"
      },
      "execution_count": 34,
      "outputs": [
        {
          "output_type": "stream",
          "name": "stderr",
          "text": [
            "/usr/local/lib/python3.10/dist-packages/statsmodels/graphics/tsaplots.py:348: FutureWarning: The default method 'yw' can produce PACF values outside of the [-1,1] interval. After 0.13, the default will change tounadjusted Yule-Walker ('ywm'). You can use this method now by setting method='ywm'.\n",
            "  warnings.warn(\n"
          ]
        },
        {
          "output_type": "display_data",
          "data": {
            "text/plain": [
              "<Figure size 800x300 with 1 Axes>"
            ],
            "image/png": "[encoded data removed]"
          },
          "metadata": {}
        },
        {
          "output_type": "display_data",
          "data": {
            "text/plain": [
              "<Figure size 800x300 with 1 Axes>"
            ],
            "image/png": "[encoded data removed]"
          },
          "metadata": {}
        }
      ]
    },
    {
      "cell_type": "markdown",
      "source": [
        "## *Chosen parameters: p=1, d=0, q=1*\n",
        "* The series appears to be stationary, then d=0\n",
        "* In the PACF plot, the significant spike is at lag 1, so p=1\n",
        "* In the ACF plot, the significant spike is at lag 1, so q=1"
      ],
      "metadata": {
        "id": "lNNozKPDoXuN"
      }
    },
    {
      "cell_type": "markdown",
      "source": [
        "## Splitting dataset "
      ],
      "metadata": {
        "id": "aLnvQF-KpFfP"
      }
    },
    {
      "cell_type": "code",
      "source": [
        "# Set the training set size to 80% and the testing set size to 20%\n",
        "train_size = int(len(df_day) * 0.8)\n",
        "test_size = len(df_day) - train_size\n",
        "\n",
        "# split the data into training and testing sets\n",
        "train_data, test_data = df_day.iloc[:train_size], df_day.iloc[train_size:]\n",
        "\n",
        "# print the shapes of the training and testing sets\n",
        "print(\"Training data shape:\", train_data.shape)\n",
        "print(\"Testing data shape:\", test_data.shape)"
      ],
      "metadata": {
        "colab": {
          "base_uri": "https://localhost:8080/"
        },
        "id": "6jSbLgJgpFvP",
        "outputId": "1d7390b1-0171-4a10-8e28-d5f703f99f09"
      },
      "execution_count": 35,
      "outputs": [
        {
          "output_type": "stream",
          "name": "stdout",
          "text": [
            "Training data shape: (876, 1)\n",
            "Testing data shape: (220, 1)\n"
          ]
        }
      ]
    },
    {
      "cell_type": "code",
      "source": [
        "\n",
        "# create the ARIMA model\n",
        "model = sm.tsa.ARIMA(train_data, order=(1, 0, 1))\n",
        "\n",
        "# fit the ARIMA model\n",
        "results = model.fit()\n",
        "\n",
        "# print the model summary\n",
        "print(results.summary())\n",
        "\n",
        "# plot the residuals\n",
        "fig, ax = plt.subplots(figsize=(8,3))\n",
        "ax.plot(results.resid)\n",
        "ax.set(title='Residuals')\n",
        "plt.show()\n",
        "\n",
        "# make predictions\n",
        "forecast = results.forecast(steps=10)\n",
        "print(forecast)\n"
      ],
      "metadata": {
        "colab": {
          "base_uri": "https://localhost:8080/",
          "height": 1000
        },
        "id": "D8cCeIgJjROF",
        "outputId": "a7053565-d4ad-4dc7-aa26-b5fdc659ac5c"
      },
      "execution_count": 36,
      "outputs": [
        {
          "output_type": "stream",
          "name": "stderr",
          "text": [
            "/usr/local/lib/python3.10/dist-packages/statsmodels/tsa/base/tsa_model.py:471: ValueWarning: No frequency information was provided, so inferred frequency D will be used.\n",
            "  self._init_dates(dates, freq)\n",
            "/usr/local/lib/python3.10/dist-packages/statsmodels/tsa/base/tsa_model.py:471: ValueWarning: No frequency information was provided, so inferred frequency D will be used.\n",
            "  self._init_dates(dates, freq)\n",
            "/usr/local/lib/python3.10/dist-packages/statsmodels/tsa/base/tsa_model.py:471: ValueWarning: No frequency information was provided, so inferred frequency D will be used.\n",
            "  self._init_dates(dates, freq)\n"
          ]
        },
        {
          "output_type": "stream",
          "name": "stdout",
          "text": [
            "                               SARIMAX Results                                \n",
            "==============================================================================\n",
            "Dep. Variable:             Occurrence   No. Observations:                  876\n",
            "Model:                 ARIMA(1, 0, 1)   Log Likelihood               -4879.140\n",
            "Date:                Thu, 11 May 2023   AIC                           9766.280\n",
            "Time:                        08:28:10   BIC                           9785.381\n",
            "Sample:                    01-01-2020   HQIC                          9773.586\n",
            "                         - 05-25-2022                                         \n",
            "Covariance Type:                  opg                                         \n",
            "==============================================================================\n",
            "                 coef    std err          z      P>|z|      [0.025      0.975]\n",
            "------------------------------------------------------------------------------\n",
            "const        571.9271      9.748     58.669      0.000     552.821     591.034\n",
            "ar.L1          0.8547      0.022     39.261      0.000       0.812       0.897\n",
            "ma.L1         -0.5102      0.035    -14.438      0.000      -0.579      -0.441\n",
            "sigma2      4028.6490    102.320     39.373      0.000    3828.106    4229.192\n",
            "===================================================================================\n",
            "Ljung-Box (L1) (Q):                   0.32   Jarque-Bera (JB):              4666.94\n",
            "Prob(Q):                              0.57   Prob(JB):                         0.00\n",
            "Heteroskedasticity (H):               1.30   Skew:                             2.09\n",
            "Prob(H) (two-sided):                  0.02   Kurtosis:                        13.51\n",
            "===================================================================================\n",
            "\n",
            "Warnings:\n",
            "[1] Covariance matrix calculated using the outer product of gradients (complex-step).\n"
          ]
        },
        {
          "output_type": "display_data",
          "data": {
            "text/plain": [
              "<Figure size 800x300 with 1 Axes>"
            ],
            "image/png": "[encoded data removed]"
          },
          "metadata": {}
        },
        {
          "output_type": "stream",
          "name": "stdout",
          "text": [
            "2022-05-26    594.255019\n",
            "2022-05-27    591.010081\n",
            "2022-05-28    588.236734\n",
            "2022-05-29    585.866440\n",
            "2022-05-30    583.840623\n",
            "2022-05-31    582.109220\n",
            "2022-06-01    580.629443\n",
            "2022-06-02    579.364724\n",
            "2022-06-03    578.283808\n",
            "2022-06-04    577.359982\n",
            "Freq: D, Name: predicted_mean, dtype: float64\n"
          ]
        }
      ]
    },
    {
      "cell_type": "markdown",
      "source": [
        "#\tEvaluate the Model: Evaluate the performance of the ARIMA model"
      ],
      "metadata": {
        "id": "6SV3NBJ0oXqp"
      }
    },
    {
      "cell_type": "code",
      "source": [
        "from sklearn.metrics import mean_squared_error, mean_absolute_error\n",
        "# make predictions\n",
        "forecast = results.forecast(steps=len(test_data))\n",
        "\n",
        "# evaluate the model\n",
        "mse = mean_squared_error(test_data, forecast)\n",
        "mae = mean_absolute_error(test_data, forecast)\n",
        "rmse = np.sqrt(mse)\n",
        "print(\"Mean squared error (MSE):\", mse)\n",
        "print(\"Mean absolute error (MAE):\", mae)\n",
        "print(\"Root mean squared error (RMSE):\", rmse)\n",
        "\n",
        "# plot the predicted values and the actual values\n",
        "fig, ax = plt.subplots(figsize=(8,3))\n",
        "ax.plot(test_data.index, test_data, label='Actual')\n",
        "ax.plot(test_data.index, forecast, label='Predicted')\n",
        "ax.set(title='ARIMA Model Performance')\n",
        "ax.legend()\n",
        "plt.show()\n",
        "\n",
        "\n"
      ],
      "metadata": {
        "colab": {
          "base_uri": "https://localhost:8080/",
          "height": 366
        },
        "id": "hwLrGh8vqIkl",
        "outputId": "40327f17-3c8b-4f07-e257-d2a8f0dbc1e9"
      },
      "execution_count": 37,
      "outputs": [
        {
          "output_type": "stream",
          "name": "stdout",
          "text": [
            "Mean squared error (MSE): 15055.97428031186\n",
            "Mean absolute error (MAE): 74.53525957273489\n",
            "Root mean squared error (RMSE): 122.70278839664509\n"
          ]
        },
        {
          "output_type": "display_data",
          "data": {
            "text/plain": [
              "<Figure size 800x300 with 1 Axes>"
            ],
            "image/png": "[encoded data removed]"
          },
          "metadata": {}
        }
      ]
    },
    {
      "cell_type": "markdown",
      "source": [
        "**The predictions of the ARIMA model went around 600 cases, and it didn't capture the pattern of the high number of occurrences on the first day of every month. MAE is 74, which is relatively high, which means the models often couldn't predict precisely in a range of 10 cases of error.**"
      ],
      "metadata": {
        "id": "fgtzxZcJzcru"
      }
    },
    {
      "cell_type": "markdown",
      "source": [
        "# RNN model for time series"
      ],
      "metadata": {
        "id": "sT9abHjdxXxD"
      }
    },
    {
      "cell_type": "code",
      "source": [
        "#Reading the data\n",
        "df_day = pd.read_csv('day_time_series.csv')"
      ],
      "metadata": {
        "id": "5mYv3n5G2HVH"
      },
      "execution_count": 38,
      "outputs": []
    },
    {
      "cell_type": "markdown",
      "source": [
        "### Training the RNN model"
      ],
      "metadata": {
        "id": "E7uQ83iz28-P"
      }
    },
    {
      "cell_type": "code",
      "source": [
        "#Import libraru\n",
        "import tensorflow as tf\n",
        "from sklearn.preprocessing import MinMaxScaler\n",
        "\n",
        "# Normalize the data\n",
        "scaler = MinMaxScaler(feature_range=(0, 1))\n",
        "scaled_data = scaler.fit_transform(df_day['Occurrence'].values.reshape(-1, 1))\n",
        "\n",
        "# Split the data into training and testing sets\n",
        "train_size = int(len(scaled_data) * 0.8)\n",
        "train_data = scaled_data[:train_size]\n",
        "test_data = scaled_data[train_size:]\n",
        "\n",
        "\n",
        "# Function to create time series dataset\n",
        "def create_dataset(data, window_size):\n",
        "    X, Y = [], []\n",
        "    for i in range(len(data) - window_size):\n",
        "        X.append(data[i:i + window_size])\n",
        "        Y.append(data[i + window_size])\n",
        "    return np.array(X), np.array(Y)\n",
        "\n",
        "# Set the window size for creating the dataset\n",
        "window_size = 10\n",
        "\n",
        "# Create the training dataset\n",
        "train_X, train_Y = create_dataset(train_data, window_size)\n",
        "\n",
        "# Create the testing dataset\n",
        "test_X, test_Y = create_dataset(test_data, window_size)\n",
        "\n",
        "# Define the RNN model\n",
        "model = tf.keras.Sequential([\n",
        "    tf.keras.layers.LSTM(64, input_shape=(window_size, 1)),\n",
        "    tf.keras.layers.Dense(1)\n",
        "])\n",
        "\n",
        "# Compile the model\n",
        "model.compile(loss='mean_squared_error', optimizer='adam')\n",
        "\n",
        "# Train the model\n",
        "model.fit(train_X, train_Y, epochs=100, batch_size=32)\n"
      ],
      "metadata": {
        "colab": {
          "base_uri": "https://localhost:8080/"
        },
        "id": "Xg69hNGLxUyL",
        "outputId": "efb953cb-a83e-4aac-fd13-9ef507256ef9"
      },
      "execution_count": 39,
      "outputs": [
        {
          "output_type": "stream",
          "name": "stdout",
          "text": [
            "Epoch 1/100\n",
            "30/30 [==============================] - 2s 7ms/step - loss: 0.0332\n",
            "Epoch 2/100\n",
            "30/30 [==============================] - 0s 8ms/step - loss: 0.0053\n",
            "Epoch 3/100\n",
            "30/30 [==============================] - 0s 8ms/step - loss: 0.0046\n",
            "Epoch 4/100\n",
            "30/30 [==============================] - 0s 7ms/step - loss: 0.0046\n",
            "Epoch 5/100\n",
            "30/30 [==============================] - 0s 7ms/step - loss: 0.0046\n",
            "Epoch 6/100\n",
            "30/30 [==============================] - 0s 7ms/step - loss: 0.0046\n",
            "Epoch 7/100\n",
            "30/30 [==============================] - 0s 8ms/step - loss: 0.0045\n",
            "Epoch 8/100\n",
            "30/30 [==============================] - 0s 8ms/step - loss: 0.0046\n",
            "Epoch 9/100\n",
            "30/30 [==============================] - 0s 8ms/step - loss: 0.0047\n",
            "Epoch 10/100\n",
            "30/30 [==============================] - 0s 7ms/step - loss: 0.0046\n",
            "Epoch 11/100\n",
            "30/30 [==============================] - 0s 7ms/step - loss: 0.0048\n",
            "Epoch 12/100\n",
            "30/30 [==============================] - 0s 7ms/step - loss: 0.0045\n",
            "Epoch 13/100\n",
            "30/30 [==============================] - 0s 7ms/step - loss: 0.0046\n",
            "Epoch 14/100\n",
            "30/30 [==============================] - 0s 8ms/step - loss: 0.0048\n",
            "Epoch 15/100\n",
            "30/30 [==============================] - 0s 8ms/step - loss: 0.0046\n",
            "Epoch 16/100\n",
            "30/30 [==============================] - 0s 8ms/step - loss: 0.0045\n",
            "Epoch 17/100\n",
            "30/30 [==============================] - 0s 8ms/step - loss: 0.0045\n",
            "Epoch 18/100\n",
            "30/30 [==============================] - 0s 7ms/step - loss: 0.0045\n",
            "Epoch 19/100\n",
            "30/30 [==============================] - 0s 8ms/step - loss: 0.0045\n",
            "Epoch 20/100\n",
            "30/30 [==============================] - 0s 8ms/step - loss: 0.0045\n",
            "Epoch 21/100\n",
            "30/30 [==============================] - 0s 8ms/step - loss: 0.0045\n",
            "Epoch 22/100\n",
            "30/30 [==============================] - 0s 7ms/step - loss: 0.0045\n",
            "Epoch 23/100\n",
            "30/30 [==============================] - 0s 7ms/step - loss: 0.0047\n",
            "Epoch 24/100\n",
            "30/30 [==============================] - 0s 12ms/step - loss: 0.0046\n",
            "Epoch 25/100\n",
            "30/30 [==============================] - 0s 11ms/step - loss: 0.0044\n",
            "Epoch 26/100\n",
            "30/30 [==============================] - 0s 11ms/step - loss: 0.0045\n",
            "Epoch 27/100\n",
            "30/30 [==============================] - 0s 11ms/step - loss: 0.0044\n",
            "Epoch 28/100\n",
            "30/30 [==============================] - 0s 13ms/step - loss: 0.0044\n",
            "Epoch 29/100\n",
            "30/30 [==============================] - 0s 11ms/step - loss: 0.0044\n",
            "Epoch 30/100\n",
            "30/30 [==============================] - 0s 11ms/step - loss: 0.0044\n",
            "Epoch 31/100\n",
            "30/30 [==============================] - 0s 11ms/step - loss: 0.0045\n",
            "Epoch 32/100\n",
            "30/30 [==============================] - 0s 11ms/step - loss: 0.0044\n",
            "Epoch 33/100\n",
            "30/30 [==============================] - 0s 8ms/step - loss: 0.0043\n",
            "Epoch 34/100\n",
            "30/30 [==============================] - 0s 8ms/step - loss: 0.0043\n",
            "Epoch 35/100\n",
            "30/30 [==============================] - 0s 7ms/step - loss: 0.0044\n",
            "Epoch 36/100\n",
            "30/30 [==============================] - 0s 7ms/step - loss: 0.0045\n",
            "Epoch 37/100\n",
            "30/30 [==============================] - 0s 7ms/step - loss: 0.0044\n",
            "Epoch 38/100\n",
            "30/30 [==============================] - 0s 8ms/step - loss: 0.0044\n",
            "Epoch 39/100\n",
            "30/30 [==============================] - 0s 7ms/step - loss: 0.0044\n",
            "Epoch 40/100\n",
            "30/30 [==============================] - 0s 7ms/step - loss: 0.0043\n",
            "Epoch 41/100\n",
            "30/30 [==============================] - 0s 8ms/step - loss: 0.0043\n",
            "Epoch 42/100\n",
            "30/30 [==============================] - 0s 9ms/step - loss: 0.0044\n",
            "Epoch 43/100\n",
            "30/30 [==============================] - 0s 8ms/step - loss: 0.0043\n",
            "Epoch 44/100\n",
            "30/30 [==============================] - 0s 8ms/step - loss: 0.0043\n",
            "Epoch 45/100\n",
            "30/30 [==============================] - 0s 7ms/step - loss: 0.0042\n",
            "Epoch 46/100\n",
            "30/30 [==============================] - 0s 7ms/step - loss: 0.0043\n",
            "Epoch 47/100\n",
            "30/30 [==============================] - 0s 7ms/step - loss: 0.0043\n",
            "Epoch 48/100\n",
            "30/30 [==============================] - 0s 7ms/step - loss: 0.0042\n",
            "Epoch 49/100\n",
            "30/30 [==============================] - 0s 7ms/step - loss: 0.0044\n",
            "Epoch 50/100\n",
            "30/30 [==============================] - 0s 8ms/step - loss: 0.0044\n",
            "Epoch 51/100\n",
            "30/30 [==============================] - 0s 8ms/step - loss: 0.0043\n",
            "Epoch 52/100\n",
            "30/30 [==============================] - 0s 7ms/step - loss: 0.0042\n",
            "Epoch 53/100\n",
            "30/30 [==============================] - 0s 7ms/step - loss: 0.0043\n",
            "Epoch 54/100\n",
            "30/30 [==============================] - 0s 7ms/step - loss: 0.0043\n",
            "Epoch 55/100\n",
            "30/30 [==============================] - 0s 7ms/step - loss: 0.0043\n",
            "Epoch 56/100\n",
            "30/30 [==============================] - 0s 8ms/step - loss: 0.0042\n",
            "Epoch 57/100\n",
            "30/30 [==============================] - 0s 8ms/step - loss: 0.0042\n",
            "Epoch 58/100\n",
            "30/30 [==============================] - 0s 8ms/step - loss: 0.0042\n",
            "Epoch 59/100\n",
            "30/30 [==============================] - 0s 8ms/step - loss: 0.0043\n",
            "Epoch 60/100\n",
            "30/30 [==============================] - 0s 8ms/step - loss: 0.0043\n",
            "Epoch 61/100\n",
            "30/30 [==============================] - 0s 7ms/step - loss: 0.0042\n",
            "Epoch 62/100\n",
            "30/30 [==============================] - 0s 7ms/step - loss: 0.0042\n",
            "Epoch 63/100\n",
            "30/30 [==============================] - 0s 8ms/step - loss: 0.0041\n",
            "Epoch 64/100\n",
            "30/30 [==============================] - 0s 7ms/step - loss: 0.0042\n",
            "Epoch 65/100\n",
            "30/30 [==============================] - 0s 8ms/step - loss: 0.0044\n",
            "Epoch 66/100\n",
            "30/30 [==============================] - 0s 7ms/step - loss: 0.0042\n",
            "Epoch 67/100\n",
            "30/30 [==============================] - 0s 7ms/step - loss: 0.0042\n",
            "Epoch 68/100\n",
            "30/30 [==============================] - 0s 7ms/step - loss: 0.0042\n",
            "Epoch 69/100\n",
            "30/30 [==============================] - 0s 8ms/step - loss: 0.0041\n",
            "Epoch 70/100\n",
            "30/30 [==============================] - 0s 7ms/step - loss: 0.0041\n",
            "Epoch 71/100\n",
            "30/30 [==============================] - 0s 7ms/step - loss: 0.0041\n",
            "Epoch 72/100\n",
            "30/30 [==============================] - 0s 8ms/step - loss: 0.0041\n",
            "Epoch 73/100\n",
            "30/30 [==============================] - 0s 8ms/step - loss: 0.0041\n",
            "Epoch 74/100\n",
            "30/30 [==============================] - 0s 7ms/step - loss: 0.0041\n",
            "Epoch 75/100\n",
            "30/30 [==============================] - 0s 9ms/step - loss: 0.0043\n",
            "Epoch 76/100\n",
            "30/30 [==============================] - 0s 12ms/step - loss: 0.0042\n",
            "Epoch 77/100\n",
            "30/30 [==============================] - 0s 11ms/step - loss: 0.0041\n",
            "Epoch 78/100\n",
            "30/30 [==============================] - 0s 11ms/step - loss: 0.0042\n",
            "Epoch 79/100\n",
            "30/30 [==============================] - 0s 11ms/step - loss: 0.0042\n",
            "Epoch 80/100\n",
            "30/30 [==============================] - 0s 12ms/step - loss: 0.0041\n",
            "Epoch 81/100\n",
            "30/30 [==============================] - 0s 11ms/step - loss: 0.0041\n",
            "Epoch 82/100\n",
            "30/30 [==============================] - 0s 12ms/step - loss: 0.0041\n",
            "Epoch 83/100\n",
            "30/30 [==============================] - 0s 12ms/step - loss: 0.0041\n",
            "Epoch 84/100\n",
            "30/30 [==============================] - 0s 8ms/step - loss: 0.0042\n",
            "Epoch 85/100\n",
            "30/30 [==============================] - 0s 8ms/step - loss: 0.0042\n",
            "Epoch 86/100\n",
            "30/30 [==============================] - 0s 8ms/step - loss: 0.0041\n",
            "Epoch 87/100\n",
            "30/30 [==============================] - 0s 8ms/step - loss: 0.0040\n",
            "Epoch 88/100\n",
            "30/30 [==============================] - 0s 8ms/step - loss: 0.0041\n",
            "Epoch 89/100\n",
            "30/30 [==============================] - 0s 8ms/step - loss: 0.0041\n",
            "Epoch 90/100\n",
            "30/30 [==============================] - 0s 8ms/step - loss: 0.0041\n",
            "Epoch 91/100\n",
            "30/30 [==============================] - 0s 8ms/step - loss: 0.0041\n",
            "Epoch 92/100\n",
            "30/30 [==============================] - 0s 8ms/step - loss: 0.0042\n",
            "Epoch 93/100\n",
            "30/30 [==============================] - 0s 8ms/step - loss: 0.0040\n",
            "Epoch 94/100\n",
            "30/30 [==============================] - 0s 8ms/step - loss: 0.0041\n",
            "Epoch 95/100\n",
            "30/30 [==============================] - 0s 8ms/step - loss: 0.0041\n",
            "Epoch 96/100\n",
            "30/30 [==============================] - 0s 7ms/step - loss: 0.0041\n",
            "Epoch 97/100\n",
            "30/30 [==============================] - 0s 8ms/step - loss: 0.0040\n",
            "Epoch 98/100\n",
            "30/30 [==============================] - 0s 8ms/step - loss: 0.0041\n",
            "Epoch 99/100\n",
            "30/30 [==============================] - 0s 8ms/step - loss: 0.0041\n",
            "Epoch 100/100\n",
            "30/30 [==============================] - 0s 8ms/step - loss: 0.0041\n"
          ]
        },
        {
          "output_type": "execute_result",
          "data": {
            "text/plain": [
              "<keras.callbacks.History at 0x7f3ae78efc10>"
            ]
          },
          "metadata": {},
          "execution_count": 39
        }
      ]
    },
    {
      "cell_type": "markdown",
      "source": [
        "## Showing the model performance"
      ],
      "metadata": {
        "id": "D2PE015-3NRi"
      }
    },
    {
      "cell_type": "code",
      "source": [
        "# Make predictions on the testing data\n",
        "predictions = model.predict(test_X)\n",
        "\n",
        "# Inverse transform the predictions and actual values\n",
        "predictions = scaler.inverse_transform(predictions)\n",
        "test_Y = scaler.inverse_transform(test_Y)\n",
        "\n",
        "# Retrieve the original dates and occurrences for the test data\n",
        "test_dates = df_day['Day'].values[train_size + window_size:train_size + window_size + len(test_X)]\n",
        "test_occurrences = df_day['Occurrence'].values[train_size + window_size:train_size + window_size + len(test_X)]\n",
        "\n",
        "# Calculate the root mean squared error (RMSE)\n",
        "rmse = np.sqrt(np.mean((predictions - test_Y) ** 2))\n",
        "print('RMSE:', rmse)\n",
        "\n",
        "# Print the predicted values, dates, and occurrences\n",
        "print('Predicted Values, Dates, and Occurrences:')\n",
        "for i in range(len(predictions)):\n",
        "    print('Date:', test_dates[i], 'Predicted Value:', predictions[i][0], 'Original Value:', test_occurrences[i])"
      ],
      "metadata": {
        "colab": {
          "base_uri": "https://localhost:8080/"
        },
        "id": "nZpGuNzn25Wf",
        "outputId": "1386075c-3ad4-4cd1-823e-94268c053ad0"
      },
      "execution_count": 40,
      "outputs": [
        {
          "output_type": "stream",
          "name": "stdout",
          "text": [
            "8/8 [==============================] - 0s 3ms/step\n",
            "RMSE: 90.35209643928624\n",
            "Predicted Values, Dates, and Occurrences:\n",
            "Date: 2022-08-13 Predicted Value: 631.1196 Original Value: 620\n",
            "Date: 2022-08-14 Predicted Value: 623.4758 Original Value: 605\n",
            "Date: 2022-08-15 Predicted Value: 615.95483 Original Value: 629\n",
            "Date: 2022-08-16 Predicted Value: 624.0259 Original Value: 570\n",
            "Date: 2022-08-17 Predicted Value: 600.8756 Original Value: 573\n",
            "Date: 2022-08-18 Predicted Value: 596.7904 Original Value: 609\n",
            "Date: 2022-08-19 Predicted Value: 610.9139 Original Value: 657\n",
            "Date: 2022-08-20 Predicted Value: 634.7356 Original Value: 678\n",
            "Date: 2022-08-21 Predicted Value: 648.6212 Original Value: 605\n",
            "Date: 2022-08-22 Predicted Value: 619.5589 Original Value: 610\n",
            "Date: 2022-08-23 Predicted Value: 615.50775 Original Value: 599\n",
            "Date: 2022-08-24 Predicted Value: 611.0886 Original Value: 646\n",
            "Date: 2022-08-25 Predicted Value: 631.5439 Original Value: 593\n",
            "Date: 2022-08-26 Predicted Value: 613.5642 Original Value: 692\n",
            "Date: 2022-08-27 Predicted Value: 653.3442 Original Value: 634\n",
            "Date: 2022-08-28 Predicted Value: 637.6476 Original Value: 578\n",
            "Date: 2022-08-29 Predicted Value: 609.71405 Original Value: 593\n",
            "Date: 2022-08-30 Predicted Value: 609.42615 Original Value: 594\n",
            "Date: 2022-08-31 Predicted Value: 609.3248 Original Value: 584\n",
            "Date: 2022-09-01 Predicted Value: 605.5184 Original Value: 977\n",
            "Date: 2022-09-02 Predicted Value: 778.21136 Original Value: 920\n",
            "Date: 2022-09-03 Predicted Value: 790.78 Original Value: 852\n",
            "Date: 2022-09-04 Predicted Value: 760.4037 Original Value: 568\n",
            "Date: 2022-09-05 Predicted Value: 633.06586 Original Value: 629\n",
            "Date: 2022-09-06 Predicted Value: 643.3197 Original Value: 627\n",
            "Date: 2022-09-07 Predicted Value: 652.8755 Original Value: 610\n",
            "Date: 2022-09-08 Predicted Value: 651.74133 Original Value: 605\n",
            "Date: 2022-09-09 Predicted Value: 648.8606 Original Value: 651\n",
            "Date: 2022-09-10 Predicted Value: 665.4574 Original Value: 684\n",
            "Date: 2022-09-11 Predicted Value: 679.61884 Original Value: 617\n",
            "Date: 2022-09-12 Predicted Value: 641.82556 Original Value: 620\n",
            "Date: 2022-09-13 Predicted Value: 629.3323 Original Value: 530\n",
            "Date: 2022-09-14 Predicted Value: 585.5781 Original Value: 618\n",
            "Date: 2022-09-15 Predicted Value: 615.94165 Original Value: 645\n",
            "Date: 2022-09-16 Predicted Value: 634.0571 Original Value: 625\n",
            "Date: 2022-09-17 Predicted Value: 628.4484 Original Value: 606\n",
            "Date: 2022-09-18 Predicted Value: 618.1207 Original Value: 606\n",
            "Date: 2022-09-19 Predicted Value: 615.4225 Original Value: 633\n",
            "Date: 2022-09-20 Predicted Value: 625.55 Original Value: 549\n",
            "Date: 2022-09-21 Predicted Value: 590.95044 Original Value: 558\n",
            "Date: 2022-09-22 Predicted Value: 587.25836 Original Value: 627\n",
            "Date: 2022-09-23 Predicted Value: 615.50464 Original Value: 644\n",
            "Date: 2022-09-24 Predicted Value: 630.5342 Original Value: 589\n",
            "Date: 2022-09-25 Predicted Value: 608.5431 Original Value: 605\n",
            "Date: 2022-09-26 Predicted Value: 609.0393 Original Value: 566\n",
            "Date: 2022-09-27 Predicted Value: 592.6212 Original Value: 582\n",
            "Date: 2022-09-28 Predicted Value: 595.91315 Original Value: 591\n",
            "Date: 2022-09-29 Predicted Value: 600.53394 Original Value: 556\n",
            "Date: 2022-09-30 Predicted Value: 585.9236 Original Value: 615\n",
            "Date: 2022-10-01 Predicted Value: 608.0803 Original Value: 1012\n",
            "Date: 2022-10-02 Predicted Value: 789.6476 Original Value: 902\n",
            "Date: 2022-10-03 Predicted Value: 778.9592 Original Value: 831\n",
            "Date: 2022-10-04 Predicted Value: 743.94543 Original Value: 670\n",
            "Date: 2022-10-05 Predicted Value: 672.49554 Original Value: 650\n",
            "Date: 2022-10-06 Predicted Value: 660.5272 Original Value: 590\n",
            "Date: 2022-10-07 Predicted Value: 641.4767 Original Value: 714\n",
            "Date: 2022-10-08 Predicted Value: 697.5721 Original Value: 740\n",
            "Date: 2022-10-09 Predicted Value: 722.09894 Original Value: 612\n",
            "Date: 2022-10-10 Predicted Value: 667.9115 Original Value: 574\n",
            "Date: 2022-10-11 Predicted Value: 636.70746 Original Value: 609\n",
            "Date: 2022-10-12 Predicted Value: 635.5177 Original Value: 563\n",
            "Date: 2022-10-13 Predicted Value: 610.6969 Original Value: 586\n",
            "Date: 2022-10-14 Predicted Value: 610.91943 Original Value: 675\n",
            "Date: 2022-10-15 Predicted Value: 647.9673 Original Value: 589\n",
            "Date: 2022-10-16 Predicted Value: 617.0169 Original Value: 579\n",
            "Date: 2022-10-17 Predicted Value: 604.65204 Original Value: 609\n",
            "Date: 2022-10-18 Predicted Value: 611.6303 Original Value: 568\n",
            "Date: 2022-10-19 Predicted Value: 593.7359 Original Value: 613\n",
            "Date: 2022-10-20 Predicted Value: 609.3877 Original Value: 650\n",
            "Date: 2022-10-21 Predicted Value: 629.5745 Original Value: 704\n",
            "Date: 2022-10-22 Predicted Value: 657.299 Original Value: 641\n",
            "Date: 2022-10-23 Predicted Value: 637.0738 Original Value: 553\n",
            "Date: 2022-10-24 Predicted Value: 595.7257 Original Value: 565\n",
            "Date: 2022-10-25 Predicted Value: 591.77014 Original Value: 596\n",
            "Date: 2022-10-26 Predicted Value: 606.20404 Original Value: 575\n",
            "Date: 2022-10-27 Predicted Value: 601.16895 Original Value: 553\n",
            "Date: 2022-10-28 Predicted Value: 589.3581 Original Value: 660\n",
            "Date: 2022-10-29 Predicted Value: 631.4144 Original Value: 624\n",
            "Date: 2022-10-30 Predicted Value: 623.89954 Original Value: 581\n",
            "Date: 2022-10-31 Predicted Value: 601.62964 Original Value: 637\n",
            "Date: 2022-11-01 Predicted Value: 618.6767 Original Value: 933\n",
            "Date: 2022-11-02 Predicted Value: 754.85767 Original Value: 862\n",
            "Date: 2022-11-03 Predicted Value: 755.687 Original Value: 839\n",
            "Date: 2022-11-04 Predicted Value: 747.5234 Original Value: 653\n",
            "Date: 2022-11-05 Predicted Value: 668.05804 Original Value: 639\n",
            "Date: 2022-11-06 Predicted Value: 655.79193 Original Value: 644\n",
            "Date: 2022-11-07 Predicted Value: 664.0083 Original Value: 576\n",
            "Date: 2022-11-08 Predicted Value: 638.35724 Original Value: 527\n",
            "Date: 2022-11-09 Predicted Value: 611.93146 Original Value: 600\n",
            "Date: 2022-11-10 Predicted Value: 635.5952 Original Value: 599\n",
            "Date: 2022-11-11 Predicted Value: 635.09546 Original Value: 579\n",
            "Date: 2022-11-12 Predicted Value: 614.8614 Original Value: 657\n",
            "Date: 2022-11-13 Predicted Value: 636.8468 Original Value: 552\n",
            "Date: 2022-11-14 Predicted Value: 591.9634 Original Value: 543\n",
            "Date: 2022-11-15 Predicted Value: 577.57153 Original Value: 579\n",
            "Date: 2022-11-16 Predicted Value: 588.8485 Original Value: 587\n",
            "Date: 2022-11-17 Predicted Value: 594.24817 Original Value: 618\n",
            "Date: 2022-11-18 Predicted Value: 608.9991 Original Value: 633\n",
            "Date: 2022-11-19 Predicted Value: 619.6019 Original Value: 571\n",
            "Date: 2022-11-20 Predicted Value: 594.7166 Original Value: 557\n",
            "Date: 2022-11-21 Predicted Value: 583.1349 Original Value: 555\n",
            "Date: 2022-11-22 Predicted Value: 580.37646 Original Value: 567\n",
            "Date: 2022-11-23 Predicted Value: 583.64484 Original Value: 636\n",
            "Date: 2022-11-24 Predicted Value: 614.7074 Original Value: 543\n",
            "Date: 2022-11-25 Predicted Value: 582.7019 Original Value: 602\n",
            "Date: 2022-11-26 Predicted Value: 599.1138 Original Value: 564\n",
            "Date: 2022-11-27 Predicted Value: 586.63727 Original Value: 513\n",
            "Date: 2022-11-28 Predicted Value: 561.4507 Original Value: 567\n",
            "Date: 2022-11-29 Predicted Value: 576.912 Original Value: 577\n",
            "Date: 2022-11-30 Predicted Value: 585.20184 Original Value: 543\n",
            "Date: 2022-12-01 Predicted Value: 572.619 Original Value: 983\n",
            "Date: 2022-12-02 Predicted Value: 761.0046 Original Value: 1115\n",
            "Date: 2022-12-03 Predicted Value: 868.38635 Original Value: 912\n",
            "Date: 2022-12-04 Predicted Value: 792.0523 Original Value: 545\n",
            "Date: 2022-12-05 Predicted Value: 620.9089 Original Value: 636\n",
            "Date: 2022-12-06 Predicted Value: 643.2203 Original Value: 607\n",
            "Date: 2022-12-07 Predicted Value: 648.0664 Original Value: 609\n",
            "Date: 2022-12-08 Predicted Value: 656.96967 Original Value: 615\n",
            "Date: 2022-12-09 Predicted Value: 661.4487 Original Value: 642\n",
            "Date: 2022-12-10 Predicted Value: 670.6325 Original Value: 672\n",
            "Date: 2022-12-11 Predicted Value: 681.08777 Original Value: 582\n",
            "Date: 2022-12-12 Predicted Value: 630.6653 Original Value: 609\n",
            "Date: 2022-12-13 Predicted Value: 620.9741 Original Value: 576\n",
            "Date: 2022-12-14 Predicted Value: 601.6404 Original Value: 581\n",
            "Date: 2022-12-15 Predicted Value: 602.6831 Original Value: 604\n",
            "Date: 2022-12-16 Predicted Value: 611.45233 Original Value: 658\n",
            "Date: 2022-12-17 Predicted Value: 636.1352 Original Value: 588\n",
            "Date: 2022-12-18 Predicted Value: 610.683 Original Value: 544\n",
            "Date: 2022-12-19 Predicted Value: 585.31793 Original Value: 561\n",
            "Date: 2022-12-20 Predicted Value: 585.7409 Original Value: 570\n",
            "Date: 2022-12-21 Predicted Value: 588.3673 Original Value: 578\n",
            "Date: 2022-12-22 Predicted Value: 592.5721 Original Value: 610\n",
            "Date: 2022-12-23 Predicted Value: 605.8058 Original Value: 710\n",
            "Date: 2022-12-24 Predicted Value: 651.626 Original Value: 575\n",
            "Date: 2022-12-25 Predicted Value: 603.7192 Original Value: 489\n",
            "Date: 2022-12-26 Predicted Value: 556.7238 Original Value: 511\n",
            "Date: 2022-12-27 Predicted Value: 554.7331 Original Value: 474\n",
            "Date: 2022-12-28 Predicted Value: 539.92804 Original Value: 612\n",
            "Date: 2022-12-29 Predicted Value: 593.28766 Original Value: 566\n",
            "Date: 2022-12-30 Predicted Value: 585.4933 Original Value: 669\n",
            "Date: 2022-12-31 Predicted Value: 624.8646 Original Value: 555\n",
            "Date: 2023-01-01 Predicted Value: 584.4228 Original Value: 908\n",
            "Date: 2023-01-02 Predicted Value: 727.5029 Original Value: 796\n",
            "Date: 2023-01-03 Predicted Value: 710.40955 Original Value: 803\n",
            "Date: 2023-01-04 Predicted Value: 713.928 Original Value: 645\n",
            "Date: 2023-01-05 Predicted Value: 652.68713 Original Value: 536\n",
            "Date: 2023-01-06 Predicted Value: 601.96265 Original Value: 570\n",
            "Date: 2023-01-07 Predicted Value: 614.0729 Original Value: 600\n",
            "Date: 2023-01-08 Predicted Value: 631.5069 Original Value: 561\n",
            "Date: 2023-01-09 Predicted Value: 618.2439 Original Value: 536\n",
            "Date: 2023-01-10 Predicted Value: 599.4417 Original Value: 605\n",
            "Date: 2023-01-11 Predicted Value: 621.3223 Original Value: 582\n",
            "Date: 2023-01-12 Predicted Value: 605.8961 Original Value: 580\n",
            "Date: 2023-01-13 Predicted Value: 596.4769 Original Value: 648\n",
            "Date: 2023-01-14 Predicted Value: 619.0282 Original Value: 591\n",
            "Date: 2023-01-15 Predicted Value: 600.407 Original Value: 642\n",
            "Date: 2023-01-16 Predicted Value: 619.79425 Original Value: 597\n",
            "Date: 2023-01-17 Predicted Value: 606.20483 Original Value: 541\n",
            "Date: 2023-01-18 Predicted Value: 580.15515 Original Value: 587\n",
            "Date: 2023-01-19 Predicted Value: 595.1423 Original Value: 555\n",
            "Date: 2023-01-20 Predicted Value: 586.4756 Original Value: 606\n",
            "Date: 2023-01-21 Predicted Value: 604.83765 Original Value: 580\n",
            "Date: 2023-01-22 Predicted Value: 597.55096 Original Value: 543\n",
            "Date: 2023-01-23 Predicted Value: 579.27997 Original Value: 627\n",
            "Date: 2023-01-24 Predicted Value: 608.39386 Original Value: 579\n",
            "Date: 2023-01-25 Predicted Value: 594.9869 Original Value: 568\n",
            "Date: 2023-01-26 Predicted Value: 585.8348 Original Value: 599\n",
            "Date: 2023-01-27 Predicted Value: 597.1114 Original Value: 662\n",
            "Date: 2023-01-28 Predicted Value: 628.1116 Original Value: 621\n",
            "Date: 2023-01-29 Predicted Value: 617.829 Original Value: 562\n",
            "Date: 2023-01-30 Predicted Value: 591.45667 Original Value: 588\n",
            "Date: 2023-01-31 Predicted Value: 596.8639 Original Value: 571\n",
            "Date: 2023-02-01 Predicted Value: 592.27734 Original Value: 948\n",
            "Date: 2023-02-02 Predicted Value: 758.33203 Original Value: 1010\n",
            "Date: 2023-02-03 Predicted Value: 825.1626 Original Value: 957\n",
            "Date: 2023-02-04 Predicted Value: 813.78876 Original Value: 632\n",
            "Date: 2023-02-05 Predicted Value: 668.22894 Original Value: 638\n",
            "Date: 2023-02-06 Predicted Value: 656.0421 Original Value: 586\n",
            "Date: 2023-02-07 Predicted Value: 641.00934 Original Value: 588\n",
            "Date: 2023-02-08 Predicted Value: 644.8041 Original Value: 615\n",
            "Date: 2023-02-09 Predicted Value: 659.07227 Original Value: 660\n",
            "Date: 2023-02-10 Predicted Value: 678.64014 Original Value: 649\n",
            "Date: 2023-02-11 Predicted Value: 672.71185 Original Value: 615\n",
            "Date: 2023-02-12 Predicted Value: 644.0024 Original Value: 580\n",
            "Date: 2023-02-13 Predicted Value: 613.7588 Original Value: 553\n",
            "Date: 2023-02-14 Predicted Value: 590.4802 Original Value: 609\n",
            "Date: 2023-02-15 Predicted Value: 610.7131 Original Value: 576\n",
            "Date: 2023-02-16 Predicted Value: 600.6188 Original Value: 556\n",
            "Date: 2023-02-17 Predicted Value: 589.3309 Original Value: 639\n",
            "Date: 2023-02-18 Predicted Value: 620.8979 Original Value: 600\n",
            "Date: 2023-02-19 Predicted Value: 610.15405 Original Value: 557\n",
            "Date: 2023-02-20 Predicted Value: 587.34705 Original Value: 565\n",
            "Date: 2023-02-21 Predicted Value: 584.56006 Original Value: 559\n",
            "Date: 2023-02-22 Predicted Value: 581.482 Original Value: 542\n",
            "Date: 2023-02-23 Predicted Value: 573.83417 Original Value: 519\n",
            "Date: 2023-02-24 Predicted Value: 562.33734 Original Value: 529\n",
            "Date: 2023-02-25 Predicted Value: 561.81885 Original Value: 494\n",
            "Date: 2023-02-26 Predicted Value: 546.0493 Original Value: 548\n",
            "Date: 2023-02-27 Predicted Value: 562.8943 Original Value: 519\n",
            "Date: 2023-02-28 Predicted Value: 551.9574 Original Value: 521\n",
            "Date: 2023-03-01 Predicted Value: 548.2918 Original Value: 677\n",
            "Date: 2023-03-02 Predicted Value: 611.87305 Original Value: 660\n",
            "Date: 2023-03-03 Predicted Value: 620.5008 Original Value: 698\n",
            "Date: 2023-03-04 Predicted Value: 639.53485 Original Value: 601\n",
            "Date: 2023-03-05 Predicted Value: 604.9081 Original Value: 478\n",
            "Date: 2023-03-06 Predicted Value: 549.6144 Original Value: 586\n",
            "Date: 2023-03-07 Predicted Value: 585.685 Original Value: 522\n",
            "Date: 2023-03-08 Predicted Value: 570.85864 Original Value: 548\n",
            "Date: 2023-03-09 Predicted Value: 577.9934 Original Value: 568\n",
            "Date: 2023-03-10 Predicted Value: 587.5159 Original Value: 568\n",
            "Date: 2023-03-11 Predicted Value: 588.23987 Original Value: 506\n",
            "Date: 2023-03-12 Predicted Value: 557.8636 Original Value: 508\n",
            "Date: 2023-03-13 Predicted Value: 548.6435 Original Value: 564\n",
            "Date: 2023-03-14 Predicted Value: 566.61835 Original Value: 494\n",
            "Date: 2023-03-15 Predicted Value: 541.9106 Original Value: 516\n",
            "Date: 2023-03-16 Predicted Value: 545.7169 Original Value: 482\n",
            "Date: 2023-03-17 Predicted Value: 530.7056 Original Value: 488\n",
            "Date: 2023-03-18 Predicted Value: 528.93274 Original Value: 554\n",
            "Date: 2023-03-19 Predicted Value: 553.9137 Original Value: 478\n",
            "Date: 2023-03-20 Predicted Value: 527.7619 Original Value: 530\n",
            "Date: 2023-03-21 Predicted Value: 540.7116 Original Value: 453\n",
            "Date: 2023-03-22 Predicted Value: 513.1691 Original Value: 455\n",
            "Date: 2023-03-23 Predicted Value: 506.36414 Original Value: 448\n",
            "Date: 2023-03-24 Predicted Value: 500.05374 Original Value: 455\n",
            "Date: 2023-03-25 Predicted Value: 500.83804 Original Value: 402\n",
            "Date: 2023-03-26 Predicted Value: 478.42673 Original Value: 367\n",
            "Date: 2023-03-27 Predicted Value: 457.18173 Original Value: 107\n"
          ]
        }
      ]
    },
    {
      "cell_type": "markdown",
      "source": [
        "**RNN model based on the historical data (previous days) to make predictions. However, the pattern of a significant number of events on the first day of each month was not captured by the RNN model. Sometimes, it performed so well at prediction, sometimes it didn't.**"
      ],
      "metadata": {
        "id": "uDMaUFwe3kCm"
      }
    }
  ]
}