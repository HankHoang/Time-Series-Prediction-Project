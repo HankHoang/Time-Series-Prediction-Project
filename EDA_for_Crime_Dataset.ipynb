{
  "nbformat": 4,
  "nbformat_minor": 0,
  "metadata": {
    "colab": {
      "provenance": [],
      "collapsed_sections": [
        "LljkKu1PNi_4",
        "St29CflvqDYL",
        "W0gkDMVapw7s",
        "R4oDliDo06NH",
        "ZARjVkuS4Rxk"
      ]
    },
    "kernelspec": {
      "name": "python3",
      "display_name": "Python 3"
    },
    "language_info": {
      "name": "python"
    }
  },
  "cells": [
    {
      "cell_type": "markdown",
      "source": [
        "\n",
        "\n",
        "## Author: Hank Hoang\n",
        "**Date created: ** 28 March 2023<br>\n",
        "**Last modified: ** 27 April 2023<br>"
      ],
      "metadata": {
        "id": "ZvIPPxsexMJq"
      }
    },
    {
      "cell_type": "markdown",
      "source": [
        "## Importing the necessary libraries and loading data"
      ],
      "metadata": {
        "id": "hAi3G4iVysCu"
      }
    },
    {
      "cell_type": "code",
      "source": [
        "import numpy as np\n",
        "import matplotlib as mpl\n",
        "import pandas as pd\n",
        "import seaborn as sns\n",
        "from sklearn.model_selection import train_test_split as tts\n",
        "from sklearn.metrics import accuracy_score \n",
        "from sklearn.svm import LinearSVC\n",
        "from sklearn.metrics import confusion_matrix\n",
        "%matplotlib inline"
      ],
      "metadata": {
        "id": "p1rLXlmStegG"
      },
      "execution_count": 21,
      "outputs": []
    },
    {
      "cell_type": "code",
      "source": [
        "#Reading the data\n",
        "df = pd.read_csv('data_0.csv')"
      ],
      "metadata": {
        "id": "7qJhsPcVy6B5"
      },
      "execution_count": 23,
      "outputs": []
    },
    {
      "cell_type": "code",
      "source": [
        "#Looking at data\n",
        "df.head()\n"
      ],
      "metadata": {
        "id": "ogjU8USHxDFk",
        "colab": {
          "base_uri": "https://localhost:8080/",
          "height": 560
        },
        "outputId": "0d310a25-a4bb-4eb4-a598-4baf73e43fba"
      },
      "execution_count": 24,
      "outputs": [
        {
          "output_type": "execute_result",
          "data": {
            "text/plain": [
              "       DR_NO               Date Rptd                DATE OCC  TIME OCC  AREA  \\\n",
              "0   10304468  01/08/2020 12:00:00 AM  01/08/2020 12:00:00 AM      2230     3   \n",
              "1  190101086  01/02/2020 12:00:00 AM  01/01/2020 12:00:00 AM       330     1   \n",
              "2  200110444  04/14/2020 12:00:00 AM  02/13/2020 12:00:00 AM      1200     1   \n",
              "3  191501505  01/01/2020 12:00:00 AM  01/01/2020 12:00:00 AM      1730    15   \n",
              "4  191921269  01/01/2020 12:00:00 AM  01/01/2020 12:00:00 AM       415    19   \n",
              "\n",
              "     AREA NAME  Rpt Dist No  Part 1-2  Crm Cd  \\\n",
              "0    Southwest          377         2     624   \n",
              "1      Central          163         2     624   \n",
              "2      Central          155         2     845   \n",
              "3  N Hollywood         1543         2     745   \n",
              "4      Mission         1998         2     740   \n",
              "\n",
              "                                         Crm Cd Desc  ... Status  \\\n",
              "0                           BATTERY - SIMPLE ASSAULT  ...     AO   \n",
              "1                           BATTERY - SIMPLE ASSAULT  ...     IC   \n",
              "2          SEX OFFENDER REGISTRANT OUT OF COMPLIANCE  ...     AA   \n",
              "3           VANDALISM - MISDEAMEANOR ($399 OR UNDER)  ...     IC   \n",
              "4  VANDALISM - FELONY ($400 & OVER, ALL CHURCH VA...  ...     IC   \n",
              "\n",
              "    Status Desc Crm Cd 1 Crm Cd 2  Crm Cd 3 Crm Cd 4  \\\n",
              "0   Adult Other    624.0      NaN       NaN      NaN   \n",
              "1   Invest Cont    624.0      NaN       NaN      NaN   \n",
              "2  Adult Arrest    845.0      NaN       NaN      NaN   \n",
              "3   Invest Cont    745.0    998.0       NaN      NaN   \n",
              "4   Invest Cont    740.0      NaN       NaN      NaN   \n",
              "\n",
              "                                   LOCATION Cross Street      LAT       LON  \n",
              "0   1100 W  39TH                         PL          NaN  34.0141 -118.2978  \n",
              "1    700 S  HILL                         ST          NaN  34.0459 -118.2545  \n",
              "2    200 E  6TH                          ST          NaN  34.0448 -118.2474  \n",
              "3   5400    CORTEEN                      PL          NaN  34.1685 -118.4019  \n",
              "4  14400    TITUS                        ST          NaN  34.2198 -118.4468  \n",
              "\n",
              "[5 rows x 28 columns]"
            ],
            "text/html": [
              "\n",
              "  <div id=\"df-35f4283d-0485-45f0-a147-9e2c12d55d1b\">\n",
              "    <div class=\"colab-df-container\">\n",
              "      <div>\n",
              "<style scoped>\n",
              "    .dataframe tbody tr th:only-of-type {\n",
              "        vertical-align: middle;\n",
              "    }\n",
              "\n",
              "    .dataframe tbody tr th {\n",
              "        vertical-align: top;\n",
              "    }\n",
              "\n",
              "    .dataframe thead th {\n",
              "        text-align: right;\n",
              "    }\n",
              "</style>\n",
              "<table border=\"1\" class=\"dataframe\">\n",
              "  <thead>\n",
              "    <tr style=\"text-align: right;\">\n",
              "      <th></th>\n",
              "      <th>DR_NO</th>\n",
              "      <th>Date Rptd</th>\n",
              "      <th>DATE OCC</th>\n",
              "      <th>TIME OCC</th>\n",
              "      <th>AREA</th>\n",
              "      <th>AREA NAME</th>\n",
              "      <th>Rpt Dist No</th>\n",
              "      <th>Part 1-2</th>\n",
              "      <th>Crm Cd</th>\n",
              "      <th>Crm Cd Desc</th>\n",
              "      <th>...</th>\n",
              "      <th>Status</th>\n",
              "      <th>Status Desc</th>\n",
              "      <th>Crm Cd 1</th>\n",
              "      <th>Crm Cd 2</th>\n",
              "      <th>Crm Cd 3</th>\n",
              "      <th>Crm Cd 4</th>\n",
              "      <th>LOCATION</th>\n",
              "      <th>Cross Street</th>\n",
              "      <th>LAT</th>\n",
              "      <th>LON</th>\n",
              "    </tr>\n",
              "  </thead>\n",
              "  <tbody>\n",
              "    <tr>\n",
              "      <th>0</th>\n",
              "      <td>10304468</td>\n",
              "      <td>01/08/2020 12:00:00 AM</td>\n",
              "      <td>01/08/2020 12:00:00 AM</td>\n",
              "      <td>2230</td>\n",
              "      <td>3</td>\n",
              "      <td>Southwest</td>\n",
              "      <td>377</td>\n",
              "      <td>2</td>\n",
              "      <td>624</td>\n",
              "      <td>BATTERY - SIMPLE ASSAULT</td>\n",
              "      <td>...</td>\n",
              "      <td>AO</td>\n",
              "      <td>Adult Other</td>\n",
              "      <td>624.0</td>\n",
              "      <td>NaN</td>\n",
              "      <td>NaN</td>\n",
              "      <td>NaN</td>\n",
              "      <td>1100 W  39TH                         PL</td>\n",
              "      <td>NaN</td>\n",
              "      <td>34.0141</td>\n",
              "      <td>-118.2978</td>\n",
              "    </tr>\n",
              "    <tr>\n",
              "      <th>1</th>\n",
              "      <td>190101086</td>\n",
              "      <td>01/02/2020 12:00:00 AM</td>\n",
              "      <td>01/01/2020 12:00:00 AM</td>\n",
              "      <td>330</td>\n",
              "      <td>1</td>\n",
              "      <td>Central</td>\n",
              "      <td>163</td>\n",
              "      <td>2</td>\n",
              "      <td>624</td>\n",
              "      <td>BATTERY - SIMPLE ASSAULT</td>\n",
              "      <td>...</td>\n",
              "      <td>IC</td>\n",
              "      <td>Invest Cont</td>\n",
              "      <td>624.0</td>\n",
              "      <td>NaN</td>\n",
              "      <td>NaN</td>\n",
              "      <td>NaN</td>\n",
              "      <td>700 S  HILL                         ST</td>\n",
              "      <td>NaN</td>\n",
              "      <td>34.0459</td>\n",
              "      <td>-118.2545</td>\n",
              "    </tr>\n",
              "    <tr>\n",
              "      <th>2</th>\n",
              "      <td>200110444</td>\n",
              "      <td>04/14/2020 12:00:00 AM</td>\n",
              "      <td>02/13/2020 12:00:00 AM</td>\n",
              "      <td>1200</td>\n",
              "      <td>1</td>\n",
              "      <td>Central</td>\n",
              "      <td>155</td>\n",
              "      <td>2</td>\n",
              "      <td>845</td>\n",
              "      <td>SEX OFFENDER REGISTRANT OUT OF COMPLIANCE</td>\n",
              "      <td>...</td>\n",
              "      <td>AA</td>\n",
              "      <td>Adult Arrest</td>\n",
              "      <td>845.0</td>\n",
              "      <td>NaN</td>\n",
              "      <td>NaN</td>\n",
              "      <td>NaN</td>\n",
              "      <td>200 E  6TH                          ST</td>\n",
              "      <td>NaN</td>\n",
              "      <td>34.0448</td>\n",
              "      <td>-118.2474</td>\n",
              "    </tr>\n",
              "    <tr>\n",
              "      <th>3</th>\n",
              "      <td>191501505</td>\n",
              "      <td>01/01/2020 12:00:00 AM</td>\n",
              "      <td>01/01/2020 12:00:00 AM</td>\n",
              "      <td>1730</td>\n",
              "      <td>15</td>\n",
              "      <td>N Hollywood</td>\n",
              "      <td>1543</td>\n",
              "      <td>2</td>\n",
              "      <td>745</td>\n",
              "      <td>VANDALISM - MISDEAMEANOR ($399 OR UNDER)</td>\n",
              "      <td>...</td>\n",
              "      <td>IC</td>\n",
              "      <td>Invest Cont</td>\n",
              "      <td>745.0</td>\n",
              "      <td>998.0</td>\n",
              "      <td>NaN</td>\n",
              "      <td>NaN</td>\n",
              "      <td>5400    CORTEEN                      PL</td>\n",
              "      <td>NaN</td>\n",
              "      <td>34.1685</td>\n",
              "      <td>-118.4019</td>\n",
              "    </tr>\n",
              "    <tr>\n",
              "      <th>4</th>\n",
              "      <td>191921269</td>\n",
              "      <td>01/01/2020 12:00:00 AM</td>\n",
              "      <td>01/01/2020 12:00:00 AM</td>\n",
              "      <td>415</td>\n",
              "      <td>19</td>\n",
              "      <td>Mission</td>\n",
              "      <td>1998</td>\n",
              "      <td>2</td>\n",
              "      <td>740</td>\n",
              "      <td>VANDALISM - FELONY ($400 &amp; OVER, ALL CHURCH VA...</td>\n",
              "      <td>...</td>\n",
              "      <td>IC</td>\n",
              "      <td>Invest Cont</td>\n",
              "      <td>740.0</td>\n",
              "      <td>NaN</td>\n",
              "      <td>NaN</td>\n",
              "      <td>NaN</td>\n",
              "      <td>14400    TITUS                        ST</td>\n",
              "      <td>NaN</td>\n",
              "      <td>34.2198</td>\n",
              "      <td>-118.4468</td>\n",
              "    </tr>\n",
              "  </tbody>\n",
              "</table>\n",
              "<p>5 rows × 28 columns</p>\n",
              "</div>\n",
              "      <button class=\"colab-df-convert\" onclick=\"convertToInteractive('df-35f4283d-0485-45f0-a147-9e2c12d55d1b')\"\n",
              "              title=\"Convert this dataframe to an interactive table.\"\n",
              "              style=\"display:none;\">\n",
              "        \n",
              "  <svg xmlns=\"http://www.w3.org/2000/svg\" height=\"24px\"viewBox=\"0 0 24 24\"\n",
              "       width=\"24px\">\n",
              "    <path d=\"M0 0h24v24H0V0z\" fill=\"none\"/>\n",
              "    <path d=\"M18.56 5.44l.94 2.06.94-2.06 2.06-.94-2.06-.94-.94-2.06-.94 2.06-2.06.94zm-11 1L8.5 8.5l.94-2.06 2.06-.94-2.06-.94L8.5 2.5l-.94 2.06-2.06.94zm10 10l.94 2.06.94-2.06 2.06-.94-2.06-.94-.94-2.06-.94 2.06-2.06.94z\"/><path d=\"M17.41 7.96l-1.37-1.37c-.4-.4-.92-.59-1.43-.59-.52 0-1.04.2-1.43.59L10.3 9.45l-7.72 7.72c-.78.78-.78 2.05 0 2.83L4 21.41c.39.39.9.59 1.41.59.51 0 1.02-.2 1.41-.59l7.78-7.78 2.81-2.81c.8-.78.8-2.07 0-2.86zM5.41 20L4 18.59l7.72-7.72 1.47 1.35L5.41 20z\"/>\n",
              "  </svg>\n",
              "      </button>\n",
              "      \n",
              "  <style>\n",
              "    .colab-df-container {\n",
              "      display:flex;\n",
              "      flex-wrap:wrap;\n",
              "      gap: 12px;\n",
              "    }\n",
              "\n",
              "    .colab-df-convert {\n",
              "      background-color: #E8F0FE;\n",
              "      border: none;\n",
              "      border-radius: 50%;\n",
              "      cursor: pointer;\n",
              "      display: none;\n",
              "      fill: #1967D2;\n",
              "      height: 32px;\n",
              "      padding: 0 0 0 0;\n",
              "      width: 32px;\n",
              "    }\n",
              "\n",
              "    .colab-df-convert:hover {\n",
              "      background-color: #E2EBFA;\n",
              "      box-shadow: 0px 1px 2px rgba(60, 64, 67, 0.3), 0px 1px 3px 1px rgba(60, 64, 67, 0.15);\n",
              "      fill: #174EA6;\n",
              "    }\n",
              "\n",
              "    [theme=dark] .colab-df-convert {\n",
              "      background-color: #3B4455;\n",
              "      fill: #D2E3FC;\n",
              "    }\n",
              "\n",
              "    [theme=dark] .colab-df-convert:hover {\n",
              "      background-color: #434B5C;\n",
              "      box-shadow: 0px 1px 3px 1px rgba(0, 0, 0, 0.15);\n",
              "      filter: drop-shadow(0px 1px 2px rgba(0, 0, 0, 0.3));\n",
              "      fill: #FFFFFF;\n",
              "    }\n",
              "  </style>\n",
              "\n",
              "      <script>\n",
              "        const buttonEl =\n",
              "          document.querySelector('#df-35f4283d-0485-45f0-a147-9e2c12d55d1b button.colab-df-convert');\n",
              "        buttonEl.style.display =\n",
              "          google.colab.kernel.accessAllowed ? 'block' : 'none';\n",
              "\n",
              "        async function convertToInteractive(key) {\n",
              "          const element = document.querySelector('#df-35f4283d-0485-45f0-a147-9e2c12d55d1b');\n",
              "          const dataTable =\n",
              "            await google.colab.kernel.invokeFunction('convertToInteractive',\n",
              "                                                     [key], {});\n",
              "          if (!dataTable) return;\n",
              "\n",
              "          const docLinkHtml = 'Like what you see? Visit the ' +\n",
              "            '<a target=\"_blank\" href=https://colab.research.google.com/notebooks/data_table.ipynb>data table notebook</a>'\n",
              "            + ' to learn more about interactive tables.';\n",
              "          element.innerHTML = '';\n",
              "          dataTable['output_type'] = 'display_data';\n",
              "          await google.colab.output.renderOutput(dataTable, element);\n",
              "          const docLink = document.createElement('div');\n",
              "          docLink.innerHTML = docLinkHtml;\n",
              "          element.appendChild(docLink);\n",
              "        }\n",
              "      </script>\n",
              "    </div>\n",
              "  </div>\n",
              "  "
            ]
          },
          "metadata": {},
          "execution_count": 24
        }
      ]
    },
    {
      "cell_type": "markdown",
      "source": [
        "* Some observations showed that the reported date was later than the incident occurred to date. Therefore, I just selected the occurred incident date for model's prediction later.\n",
        "* The Date Occ column has repeated 12:00:00 AM text, it's invaluable information, so I deleted it and combined it with the time column next to it for further time series model."
      ],
      "metadata": {
        "id": "QtB0CEbw2A6p"
      }
    },
    {
      "cell_type": "code",
      "source": [
        "df['DATE OCC'] = df['DATE OCC'].str.replace('12:00:00 AM', '')"
      ],
      "metadata": {
        "id": "PJ3pcG0qh2ti"
      },
      "execution_count": 25,
      "outputs": []
    },
    {
      "cell_type": "code",
      "source": [
        "df['TIME OCC'] = df['TIME OCC'].apply(lambda x: '{0:0>4}'.format(x))\n",
        "df['TIME OCC'] = pd.to_datetime(df['TIME OCC'], format='%H%M').dt.strftime('%H:%M')"
      ],
      "metadata": {
        "id": "qxMlg6J7Ytiq"
      },
      "execution_count": 26,
      "outputs": []
    },
    {
      "cell_type": "code",
      "source": [
        "df.shape"
      ],
      "metadata": {
        "colab": {
          "base_uri": "https://localhost:8080/"
        },
        "id": "hgGwyBk7OLUI",
        "outputId": "6ee37022-dc64-4ceb-aced-18133e27682c"
      },
      "execution_count": 27,
      "outputs": [
        {
          "output_type": "execute_result",
          "data": {
            "text/plain": [
              "(4022, 28)"
            ]
          },
          "metadata": {},
          "execution_count": 27
        }
      ]
    },
    {
      "cell_type": "code",
      "source": [
        "# Combine date and time into a single datetime column\n",
        "df['datetime'] = pd.to_datetime(df['DATE OCC'] + ' ' + df['TIME OCC'])\n"
      ],
      "metadata": {
        "id": "Fiplv6sRZsoM"
      },
      "execution_count": 28,
      "outputs": []
    },
    {
      "cell_type": "markdown",
      "source": [
        "* Refine the dataset by removing unnecessary columns ( DR_NO, Crm Cd 3, Crm Cd 4, Location and Cross Street) \n",
        "* Crm Cd 2, Crm Cd 3, Crm Cd 4,Cross Street contains blank cells\n",
        "* Location attribute has a lot of incomplete information due to privacy reasons."
      ],
      "metadata": {
        "id": "gbsxk7l7h6VA"
      }
    },
    {
      "cell_type": "code",
      "source": [
        "# Refine the dataset by removing unnecessary columns ( DR_NO,Crm Cd 2, Crm Cd 3, Crm Cd 4)\n",
        "df = df.drop(columns=['DR_NO','Crm Cd 1','Crm Cd 2','Crm Cd 3','Crm Cd 4','Date Rptd','Cross Street','LOCATION'])"
      ],
      "metadata": {
        "id": "bKEb0_7fO1q9"
      },
      "execution_count": 29,
      "outputs": []
    },
    {
      "cell_type": "code",
      "source": [
        "df.describe()"
      ],
      "metadata": {
        "id": "XRDG9csQxDH6",
        "colab": {
          "base_uri": "https://localhost:8080/",
          "height": 300
        },
        "outputId": "fccf300d-a44e-4979-a491-4ba8ff7b7c5d"
      },
      "execution_count": 12,
      "outputs": [
        {
          "output_type": "execute_result",
          "data": {
            "text/plain": [
              "              AREA  Rpt Dist No     Part 1-2       Crm Cd     Vict Age  \\\n",
              "count  5000.000000  5000.000000  5000.000000  5000.000000  5000.000000   \n",
              "mean      4.073000   455.251200     1.384000   501.036200    30.770600   \n",
              "std       3.796282   378.819536     0.486407   206.651939    21.512706   \n",
              "min       1.000000   101.000000     1.000000   110.000000    -1.000000   \n",
              "25%       2.000000   212.000000     1.000000   331.000000    19.000000   \n",
              "50%       3.000000   361.000000     1.000000   442.000000    31.000000   \n",
              "75%       5.000000   509.000000     2.000000   626.000000    46.000000   \n",
              "max      21.000000  2189.000000     2.000000   956.000000    99.000000   \n",
              "\n",
              "         Premis Cd  Weapon Used Cd     Crm Cd 1          LAT          LON  \n",
              "count  5000.000000     1627.000000  5000.000000  5000.000000  5000.000000  \n",
              "mean    287.606800      373.540258   500.750200    33.998340  -118.190827  \n",
              "std     223.954334      116.441831   206.442457     0.967106     3.345331  \n",
              "min     101.000000      101.000000   110.000000     0.000000  -118.650300  \n",
              "25%     101.000000      400.000000   331.000000    34.022000  -118.305825  \n",
              "50%     122.000000      400.000000   442.000000    34.045900  -118.274350  \n",
              "75%     501.000000      400.000000   626.000000    34.062400  -118.247400  \n",
              "max     968.000000      515.000000   956.000000    34.320800     0.000000  "
            ],
            "text/html": [
              "\n",
              "  <div id=\"df-b1bb22b5-a6b2-4dd7-a7fe-42c7ede67da5\">\n",
              "    <div class=\"colab-df-container\">\n",
              "      <div>\n",
              "<style scoped>\n",
              "    .dataframe tbody tr th:only-of-type {\n",
              "        vertical-align: middle;\n",
              "    }\n",
              "\n",
              "    .dataframe tbody tr th {\n",
              "        vertical-align: top;\n",
              "    }\n",
              "\n",
              "    .dataframe thead th {\n",
              "        text-align: right;\n",
              "    }\n",
              "</style>\n",
              "<table border=\"1\" class=\"dataframe\">\n",
              "  <thead>\n",
              "    <tr style=\"text-align: right;\">\n",
              "      <th></th>\n",
              "      <th>AREA</th>\n",
              "      <th>Rpt Dist No</th>\n",
              "      <th>Part 1-2</th>\n",
              "      <th>Crm Cd</th>\n",
              "      <th>Vict Age</th>\n",
              "      <th>Premis Cd</th>\n",
              "      <th>Weapon Used Cd</th>\n",
              "      <th>Crm Cd 1</th>\n",
              "      <th>LAT</th>\n",
              "      <th>LON</th>\n",
              "    </tr>\n",
              "  </thead>\n",
              "  <tbody>\n",
              "    <tr>\n",
              "      <th>count</th>\n",
              "      <td>5000.000000</td>\n",
              "      <td>5000.000000</td>\n",
              "      <td>5000.000000</td>\n",
              "      <td>5000.000000</td>\n",
              "      <td>5000.000000</td>\n",
              "      <td>5000.000000</td>\n",
              "      <td>1627.000000</td>\n",
              "      <td>5000.000000</td>\n",
              "      <td>5000.000000</td>\n",
              "      <td>5000.000000</td>\n",
              "    </tr>\n",
              "    <tr>\n",
              "      <th>mean</th>\n",
              "      <td>4.073000</td>\n",
              "      <td>455.251200</td>\n",
              "      <td>1.384000</td>\n",
              "      <td>501.036200</td>\n",
              "      <td>30.770600</td>\n",
              "      <td>287.606800</td>\n",
              "      <td>373.540258</td>\n",
              "      <td>500.750200</td>\n",
              "      <td>33.998340</td>\n",
              "      <td>-118.190827</td>\n",
              "    </tr>\n",
              "    <tr>\n",
              "      <th>std</th>\n",
              "      <td>3.796282</td>\n",
              "      <td>378.819536</td>\n",
              "      <td>0.486407</td>\n",
              "      <td>206.651939</td>\n",
              "      <td>21.512706</td>\n",
              "      <td>223.954334</td>\n",
              "      <td>116.441831</td>\n",
              "      <td>206.442457</td>\n",
              "      <td>0.967106</td>\n",
              "      <td>3.345331</td>\n",
              "    </tr>\n",
              "    <tr>\n",
              "      <th>min</th>\n",
              "      <td>1.000000</td>\n",
              "      <td>101.000000</td>\n",
              "      <td>1.000000</td>\n",
              "      <td>110.000000</td>\n",
              "      <td>-1.000000</td>\n",
              "      <td>101.000000</td>\n",
              "      <td>101.000000</td>\n",
              "      <td>110.000000</td>\n",
              "      <td>0.000000</td>\n",
              "      <td>-118.650300</td>\n",
              "    </tr>\n",
              "    <tr>\n",
              "      <th>25%</th>\n",
              "      <td>2.000000</td>\n",
              "      <td>212.000000</td>\n",
              "      <td>1.000000</td>\n",
              "      <td>331.000000</td>\n",
              "      <td>19.000000</td>\n",
              "      <td>101.000000</td>\n",
              "      <td>400.000000</td>\n",
              "      <td>331.000000</td>\n",
              "      <td>34.022000</td>\n",
              "      <td>-118.305825</td>\n",
              "    </tr>\n",
              "    <tr>\n",
              "      <th>50%</th>\n",
              "      <td>3.000000</td>\n",
              "      <td>361.000000</td>\n",
              "      <td>1.000000</td>\n",
              "      <td>442.000000</td>\n",
              "      <td>31.000000</td>\n",
              "      <td>122.000000</td>\n",
              "      <td>400.000000</td>\n",
              "      <td>442.000000</td>\n",
              "      <td>34.045900</td>\n",
              "      <td>-118.274350</td>\n",
              "    </tr>\n",
              "    <tr>\n",
              "      <th>75%</th>\n",
              "      <td>5.000000</td>\n",
              "      <td>509.000000</td>\n",
              "      <td>2.000000</td>\n",
              "      <td>626.000000</td>\n",
              "      <td>46.000000</td>\n",
              "      <td>501.000000</td>\n",
              "      <td>400.000000</td>\n",
              "      <td>626.000000</td>\n",
              "      <td>34.062400</td>\n",
              "      <td>-118.247400</td>\n",
              "    </tr>\n",
              "    <tr>\n",
              "      <th>max</th>\n",
              "      <td>21.000000</td>\n",
              "      <td>2189.000000</td>\n",
              "      <td>2.000000</td>\n",
              "      <td>956.000000</td>\n",
              "      <td>99.000000</td>\n",
              "      <td>968.000000</td>\n",
              "      <td>515.000000</td>\n",
              "      <td>956.000000</td>\n",
              "      <td>34.320800</td>\n",
              "      <td>0.000000</td>\n",
              "    </tr>\n",
              "  </tbody>\n",
              "</table>\n",
              "</div>\n",
              "      <button class=\"colab-df-convert\" onclick=\"convertToInteractive('df-b1bb22b5-a6b2-4dd7-a7fe-42c7ede67da5')\"\n",
              "              title=\"Convert this dataframe to an interactive table.\"\n",
              "              style=\"display:none;\">\n",
              "        \n",
              "  <svg xmlns=\"http://www.w3.org/2000/svg\" height=\"24px\"viewBox=\"0 0 24 24\"\n",
              "       width=\"24px\">\n",
              "    <path d=\"M0 0h24v24H0V0z\" fill=\"none\"/>\n",
              "    <path d=\"M18.56 5.44l.94 2.06.94-2.06 2.06-.94-2.06-.94-.94-2.06-.94 2.06-2.06.94zm-11 1L8.5 8.5l.94-2.06 2.06-.94-2.06-.94L8.5 2.5l-.94 2.06-2.06.94zm10 10l.94 2.06.94-2.06 2.06-.94-2.06-.94-.94-2.06-.94 2.06-2.06.94z\"/><path d=\"M17.41 7.96l-1.37-1.37c-.4-.4-.92-.59-1.43-.59-.52 0-1.04.2-1.43.59L10.3 9.45l-7.72 7.72c-.78.78-.78 2.05 0 2.83L4 21.41c.39.39.9.59 1.41.59.51 0 1.02-.2 1.41-.59l7.78-7.78 2.81-2.81c.8-.78.8-2.07 0-2.86zM5.41 20L4 18.59l7.72-7.72 1.47 1.35L5.41 20z\"/>\n",
              "  </svg>\n",
              "      </button>\n",
              "      \n",
              "  <style>\n",
              "    .colab-df-container {\n",
              "      display:flex;\n",
              "      flex-wrap:wrap;\n",
              "      gap: 12px;\n",
              "    }\n",
              "\n",
              "    .colab-df-convert {\n",
              "      background-color: #E8F0FE;\n",
              "      border: none;\n",
              "      border-radius: 50%;\n",
              "      cursor: pointer;\n",
              "      display: none;\n",
              "      fill: #1967D2;\n",
              "      height: 32px;\n",
              "      padding: 0 0 0 0;\n",
              "      width: 32px;\n",
              "    }\n",
              "\n",
              "    .colab-df-convert:hover {\n",
              "      background-color: #E2EBFA;\n",
              "      box-shadow: 0px 1px 2px rgba(60, 64, 67, 0.3), 0px 1px 3px 1px rgba(60, 64, 67, 0.15);\n",
              "      fill: #174EA6;\n",
              "    }\n",
              "\n",
              "    [theme=dark] .colab-df-convert {\n",
              "      background-color: #3B4455;\n",
              "      fill: #D2E3FC;\n",
              "    }\n",
              "\n",
              "    [theme=dark] .colab-df-convert:hover {\n",
              "      background-color: #434B5C;\n",
              "      box-shadow: 0px 1px 3px 1px rgba(0, 0, 0, 0.15);\n",
              "      filter: drop-shadow(0px 1px 2px rgba(0, 0, 0, 0.3));\n",
              "      fill: #FFFFFF;\n",
              "    }\n",
              "  </style>\n",
              "\n",
              "      <script>\n",
              "        const buttonEl =\n",
              "          document.querySelector('#df-b1bb22b5-a6b2-4dd7-a7fe-42c7ede67da5 button.colab-df-convert');\n",
              "        buttonEl.style.display =\n",
              "          google.colab.kernel.accessAllowed ? 'block' : 'none';\n",
              "\n",
              "        async function convertToInteractive(key) {\n",
              "          const element = document.querySelector('#df-b1bb22b5-a6b2-4dd7-a7fe-42c7ede67da5');\n",
              "          const dataTable =\n",
              "            await google.colab.kernel.invokeFunction('convertToInteractive',\n",
              "                                                     [key], {});\n",
              "          if (!dataTable) return;\n",
              "\n",
              "          const docLinkHtml = 'Like what you see? Visit the ' +\n",
              "            '<a target=\"_blank\" href=https://colab.research.google.com/notebooks/data_table.ipynb>data table notebook</a>'\n",
              "            + ' to learn more about interactive tables.';\n",
              "          element.innerHTML = '';\n",
              "          dataTable['output_type'] = 'display_data';\n",
              "          await google.colab.output.renderOutput(dataTable, element);\n",
              "          const docLink = document.createElement('div');\n",
              "          docLink.innerHTML = docLinkHtml;\n",
              "          element.appendChild(docLink);\n",
              "        }\n",
              "      </script>\n",
              "    </div>\n",
              "  </div>\n",
              "  "
            ]
          },
          "metadata": {},
          "execution_count": 12
        }
      ]
    },
    {
      "cell_type": "code",
      "source": [
        "df.corr()"
      ],
      "metadata": {
        "colab": {
          "base_uri": "https://localhost:8080/",
          "height": 388
        },
        "id": "djrP2Sy4jcuq",
        "outputId": "bb491919-0070-4bbb-8cd8-6b89e958e9f8"
      },
      "execution_count": 30,
      "outputs": [
        {
          "output_type": "stream",
          "name": "stderr",
          "text": [
            "<ipython-input-30-2f6f6606aa2c>:1: FutureWarning: The default value of numeric_only in DataFrame.corr is deprecated. In a future version, it will default to False. Select only valid columns or specify the value of numeric_only to silence this warning.\n",
            "  df.corr()\n"
          ]
        },
        {
          "output_type": "execute_result",
          "data": {
            "text/plain": [
              "                    AREA  Rpt Dist No  Part 1-2    Crm Cd  Vict Age  \\\n",
              "AREA            1.000000     0.997576 -0.039824 -0.080863  0.043848   \n",
              "Rpt Dist No     0.997576     1.000000 -0.040237 -0.082279  0.044749   \n",
              "Part 1-2       -0.039824    -0.040237  1.000000  0.778289  0.139317   \n",
              "Crm Cd         -0.080863    -0.082279  0.778289  1.000000 -0.038050   \n",
              "Vict Age        0.043848     0.044749  0.139317 -0.038050  1.000000   \n",
              "Premis Cd      -0.000093    -0.002955  0.225831  0.160562  0.079032   \n",
              "Weapon Used Cd -0.022505    -0.024032  0.368730  0.297297  0.059019   \n",
              "LAT             0.015444     0.013587 -0.016759 -0.030654  0.006694   \n",
              "LON            -0.008850    -0.007797  0.015802  0.028516 -0.005498   \n",
              "\n",
              "                Premis Cd  Weapon Used Cd       LAT       LON  \n",
              "AREA            -0.000093       -0.022505  0.015444 -0.008850  \n",
              "Rpt Dist No     -0.002955       -0.024032  0.013587 -0.007797  \n",
              "Part 1-2         0.225831        0.368730 -0.016759  0.015802  \n",
              "Crm Cd           0.160562        0.297297 -0.030654  0.028516  \n",
              "Vict Age         0.079032        0.059019  0.006694 -0.005498  \n",
              "Premis Cd        1.000000        0.209809  0.005823 -0.006714  \n",
              "Weapon Used Cd   0.209809        1.000000 -0.027415  0.021191  \n",
              "LAT              0.005823       -0.027415  1.000000 -0.998246  \n",
              "LON             -0.006714        0.021191 -0.998246  1.000000  "
            ],
            "text/html": [
              "\n",
              "  <div id=\"df-637c01b3-467b-4240-917e-00f6c9738061\">\n",
              "    <div class=\"colab-df-container\">\n",
              "      <div>\n",
              "<style scoped>\n",
              "    .dataframe tbody tr th:only-of-type {\n",
              "        vertical-align: middle;\n",
              "    }\n",
              "\n",
              "    .dataframe tbody tr th {\n",
              "        vertical-align: top;\n",
              "    }\n",
              "\n",
              "    .dataframe thead th {\n",
              "        text-align: right;\n",
              "    }\n",
              "</style>\n",
              "<table border=\"1\" class=\"dataframe\">\n",
              "  <thead>\n",
              "    <tr style=\"text-align: right;\">\n",
              "      <th></th>\n",
              "      <th>AREA</th>\n",
              "      <th>Rpt Dist No</th>\n",
              "      <th>Part 1-2</th>\n",
              "      <th>Crm Cd</th>\n",
              "      <th>Vict Age</th>\n",
              "      <th>Premis Cd</th>\n",
              "      <th>Weapon Used Cd</th>\n",
              "      <th>LAT</th>\n",
              "      <th>LON</th>\n",
              "    </tr>\n",
              "  </thead>\n",
              "  <tbody>\n",
              "    <tr>\n",
              "      <th>AREA</th>\n",
              "      <td>1.000000</td>\n",
              "      <td>0.997576</td>\n",
              "      <td>-0.039824</td>\n",
              "      <td>-0.080863</td>\n",
              "      <td>0.043848</td>\n",
              "      <td>-0.000093</td>\n",
              "      <td>-0.022505</td>\n",
              "      <td>0.015444</td>\n",
              "      <td>-0.008850</td>\n",
              "    </tr>\n",
              "    <tr>\n",
              "      <th>Rpt Dist No</th>\n",
              "      <td>0.997576</td>\n",
              "      <td>1.000000</td>\n",
              "      <td>-0.040237</td>\n",
              "      <td>-0.082279</td>\n",
              "      <td>0.044749</td>\n",
              "      <td>-0.002955</td>\n",
              "      <td>-0.024032</td>\n",
              "      <td>0.013587</td>\n",
              "      <td>-0.007797</td>\n",
              "    </tr>\n",
              "    <tr>\n",
              "      <th>Part 1-2</th>\n",
              "      <td>-0.039824</td>\n",
              "      <td>-0.040237</td>\n",
              "      <td>1.000000</td>\n",
              "      <td>0.778289</td>\n",
              "      <td>0.139317</td>\n",
              "      <td>0.225831</td>\n",
              "      <td>0.368730</td>\n",
              "      <td>-0.016759</td>\n",
              "      <td>0.015802</td>\n",
              "    </tr>\n",
              "    <tr>\n",
              "      <th>Crm Cd</th>\n",
              "      <td>-0.080863</td>\n",
              "      <td>-0.082279</td>\n",
              "      <td>0.778289</td>\n",
              "      <td>1.000000</td>\n",
              "      <td>-0.038050</td>\n",
              "      <td>0.160562</td>\n",
              "      <td>0.297297</td>\n",
              "      <td>-0.030654</td>\n",
              "      <td>0.028516</td>\n",
              "    </tr>\n",
              "    <tr>\n",
              "      <th>Vict Age</th>\n",
              "      <td>0.043848</td>\n",
              "      <td>0.044749</td>\n",
              "      <td>0.139317</td>\n",
              "      <td>-0.038050</td>\n",
              "      <td>1.000000</td>\n",
              "      <td>0.079032</td>\n",
              "      <td>0.059019</td>\n",
              "      <td>0.006694</td>\n",
              "      <td>-0.005498</td>\n",
              "    </tr>\n",
              "    <tr>\n",
              "      <th>Premis Cd</th>\n",
              "      <td>-0.000093</td>\n",
              "      <td>-0.002955</td>\n",
              "      <td>0.225831</td>\n",
              "      <td>0.160562</td>\n",
              "      <td>0.079032</td>\n",
              "      <td>1.000000</td>\n",
              "      <td>0.209809</td>\n",
              "      <td>0.005823</td>\n",
              "      <td>-0.006714</td>\n",
              "    </tr>\n",
              "    <tr>\n",
              "      <th>Weapon Used Cd</th>\n",
              "      <td>-0.022505</td>\n",
              "      <td>-0.024032</td>\n",
              "      <td>0.368730</td>\n",
              "      <td>0.297297</td>\n",
              "      <td>0.059019</td>\n",
              "      <td>0.209809</td>\n",
              "      <td>1.000000</td>\n",
              "      <td>-0.027415</td>\n",
              "      <td>0.021191</td>\n",
              "    </tr>\n",
              "    <tr>\n",
              "      <th>LAT</th>\n",
              "      <td>0.015444</td>\n",
              "      <td>0.013587</td>\n",
              "      <td>-0.016759</td>\n",
              "      <td>-0.030654</td>\n",
              "      <td>0.006694</td>\n",
              "      <td>0.005823</td>\n",
              "      <td>-0.027415</td>\n",
              "      <td>1.000000</td>\n",
              "      <td>-0.998246</td>\n",
              "    </tr>\n",
              "    <tr>\n",
              "      <th>LON</th>\n",
              "      <td>-0.008850</td>\n",
              "      <td>-0.007797</td>\n",
              "      <td>0.015802</td>\n",
              "      <td>0.028516</td>\n",
              "      <td>-0.005498</td>\n",
              "      <td>-0.006714</td>\n",
              "      <td>0.021191</td>\n",
              "      <td>-0.998246</td>\n",
              "      <td>1.000000</td>\n",
              "    </tr>\n",
              "  </tbody>\n",
              "</table>\n",
              "</div>\n",
              "      <button class=\"colab-df-convert\" onclick=\"convertToInteractive('df-637c01b3-467b-4240-917e-00f6c9738061')\"\n",
              "              title=\"Convert this dataframe to an interactive table.\"\n",
              "              style=\"display:none;\">\n",
              "        \n",
              "  <svg xmlns=\"http://www.w3.org/2000/svg\" height=\"24px\"viewBox=\"0 0 24 24\"\n",
              "       width=\"24px\">\n",
              "    <path d=\"M0 0h24v24H0V0z\" fill=\"none\"/>\n",
              "    <path d=\"M18.56 5.44l.94 2.06.94-2.06 2.06-.94-2.06-.94-.94-2.06-.94 2.06-2.06.94zm-11 1L8.5 8.5l.94-2.06 2.06-.94-2.06-.94L8.5 2.5l-.94 2.06-2.06.94zm10 10l.94 2.06.94-2.06 2.06-.94-2.06-.94-.94-2.06-.94 2.06-2.06.94z\"/><path d=\"M17.41 7.96l-1.37-1.37c-.4-.4-.92-.59-1.43-.59-.52 0-1.04.2-1.43.59L10.3 9.45l-7.72 7.72c-.78.78-.78 2.05 0 2.83L4 21.41c.39.39.9.59 1.41.59.51 0 1.02-.2 1.41-.59l7.78-7.78 2.81-2.81c.8-.78.8-2.07 0-2.86zM5.41 20L4 18.59l7.72-7.72 1.47 1.35L5.41 20z\"/>\n",
              "  </svg>\n",
              "      </button>\n",
              "      \n",
              "  <style>\n",
              "    .colab-df-container {\n",
              "      display:flex;\n",
              "      flex-wrap:wrap;\n",
              "      gap: 12px;\n",
              "    }\n",
              "\n",
              "    .colab-df-convert {\n",
              "      background-color: #E8F0FE;\n",
              "      border: none;\n",
              "      border-radius: 50%;\n",
              "      cursor: pointer;\n",
              "      display: none;\n",
              "      fill: #1967D2;\n",
              "      height: 32px;\n",
              "      padding: 0 0 0 0;\n",
              "      width: 32px;\n",
              "    }\n",
              "\n",
              "    .colab-df-convert:hover {\n",
              "      background-color: #E2EBFA;\n",
              "      box-shadow: 0px 1px 2px rgba(60, 64, 67, 0.3), 0px 1px 3px 1px rgba(60, 64, 67, 0.15);\n",
              "      fill: #174EA6;\n",
              "    }\n",
              "\n",
              "    [theme=dark] .colab-df-convert {\n",
              "      background-color: #3B4455;\n",
              "      fill: #D2E3FC;\n",
              "    }\n",
              "\n",
              "    [theme=dark] .colab-df-convert:hover {\n",
              "      background-color: #434B5C;\n",
              "      box-shadow: 0px 1px 3px 1px rgba(0, 0, 0, 0.15);\n",
              "      filter: drop-shadow(0px 1px 2px rgba(0, 0, 0, 0.3));\n",
              "      fill: #FFFFFF;\n",
              "    }\n",
              "  </style>\n",
              "\n",
              "      <script>\n",
              "        const buttonEl =\n",
              "          document.querySelector('#df-637c01b3-467b-4240-917e-00f6c9738061 button.colab-df-convert');\n",
              "        buttonEl.style.display =\n",
              "          google.colab.kernel.accessAllowed ? 'block' : 'none';\n",
              "\n",
              "        async function convertToInteractive(key) {\n",
              "          const element = document.querySelector('#df-637c01b3-467b-4240-917e-00f6c9738061');\n",
              "          const dataTable =\n",
              "            await google.colab.kernel.invokeFunction('convertToInteractive',\n",
              "                                                     [key], {});\n",
              "          if (!dataTable) return;\n",
              "\n",
              "          const docLinkHtml = 'Like what you see? Visit the ' +\n",
              "            '<a target=\"_blank\" href=https://colab.research.google.com/notebooks/data_table.ipynb>data table notebook</a>'\n",
              "            + ' to learn more about interactive tables.';\n",
              "          element.innerHTML = '';\n",
              "          dataTable['output_type'] = 'display_data';\n",
              "          await google.colab.output.renderOutput(dataTable, element);\n",
              "          const docLink = document.createElement('div');\n",
              "          docLink.innerHTML = docLinkHtml;\n",
              "          element.appendChild(docLink);\n",
              "        }\n",
              "      </script>\n",
              "    </div>\n",
              "  </div>\n",
              "  "
            ]
          },
          "metadata": {},
          "execution_count": 30
        }
      ]
    },
    {
      "cell_type": "code",
      "source": [
        "df.to_csv('data.csv', index=False)"
      ],
      "metadata": {
        "id": "bW3LVvzqHoW8"
      },
      "execution_count": 31,
      "outputs": []
    },
    {
      "cell_type": "markdown",
      "source": [
        "## Exploratory data analysis"
      ],
      "metadata": {
        "id": "oTDCjf-xxDxW"
      }
    },
    {
      "cell_type": "code",
      "source": [
        "# Importing libraries\n",
        "import seaborn as sns\n",
        "import matplotlib.pyplot as plt\n",
        "import numpy as np"
      ],
      "metadata": {
        "id": "0kmfapNpxwKp"
      },
      "execution_count": null,
      "outputs": []
    },
    {
      "cell_type": "code",
      "source": [],
      "metadata": {
        "id": "0cZdJaZHxwSe"
      },
      "execution_count": null,
      "outputs": []
    },
    {
      "cell_type": "code",
      "source": [
        "# create a histogram plot with 20 bins\n",
        "plt.hist(df['Vict Age'], bins=20, color= 'red')\n",
        "\n",
        "# add title and labels\n",
        "plt.title('Histogram Plot')\n",
        "plt.xlabel('Age')\n",
        "plt.ylabel('Frequency')\n",
        "\n",
        "# show the plot\n",
        "plt.show()"
      ],
      "metadata": {
        "colab": {
          "base_uri": "https://localhost:8080/",
          "height": 472
        },
        "id": "P9on44guRQlS",
        "outputId": "4b23809d-cff0-447b-8a40-5567dc39f2db"
      },
      "execution_count": null,
      "outputs": [
        {
          "output_type": "display_data",
          "data": {
            "text/plain": [
              "<Figure size 640x480 with 1 Axes>"
            ],
            "image/png": "[encoded data removed]"
          },
          "metadata": {}
        }
      ]
    },
    {
      "cell_type": "markdown",
      "source": [
        "## Where happened the most illegal activities?"
      ],
      "metadata": {
        "id": "LljkKu1PNi_4"
      }
    },
    {
      "cell_type": "code",
      "source": [
        "premise=df['Premis Desc'].value_counts().nlargest(10)\n"
      ],
      "metadata": {
        "id": "mQ2WHSdXIxsP"
      },
      "execution_count": null,
      "outputs": []
    },
    {
      "cell_type": "code",
      "source": [
        "plt.figure(figsize=(10,5))\n",
        "sns.barplot(x=premise.values,y=premise.index)\n",
        "plt.title('Top 10 Most Frequent Locations with Criminal Activities')\n",
        "plt.xlabel('Number of cases')\n",
        "plt.ylabel('Locations happened criminal')\n",
        "plt.xticks(rotation=90)\n",
        "\n",
        "plt.show()"
      ],
      "metadata": {
        "colab": {
          "base_uri": "https://localhost:8080/",
          "height": 508
        },
        "id": "QV2WbyI3JDNt",
        "outputId": "f0eefeb7-ef57-4148-caa0-b7a916607547"
      },
      "execution_count": null,
      "outputs": [
        {
          "output_type": "display_data",
          "data": {
            "text/plain": [
              "<Figure size 1000x500 with 1 Axes>"
            ],
            "image/png": "[encoded data removed]"
          },
          "metadata": {}
        }
      ]
    },
    {
      "cell_type": "markdown",
      "source": [
        "Street is the most common location where criminal activities happened. Apartments and households are the other common targets of offenders."
      ],
      "metadata": {
        "id": "xF4L3q9cKwjU"
      }
    },
    {
      "cell_type": "markdown",
      "source": [
        "## What time of day do criminal activities happen the most? "
      ],
      "metadata": {
        "id": "St29CflvqDYL"
      }
    },
    {
      "cell_type": "code",
      "source": [
        "time=df['TIME OCC'].value_counts().nlargest(10)\n",
        "time"
      ],
      "metadata": {
        "colab": {
          "base_uri": "https://localhost:8080/"
        },
        "id": "zyJczpWHrwEl",
        "outputId": "6b0d0626-bc8c-466c-9a29-afca0682f2dd"
      },
      "execution_count": null,
      "outputs": [
        {
          "output_type": "execute_result",
          "data": {
            "text/plain": [
              "12:00    164\n",
              "20:00    159\n",
              "19:00    148\n",
              "18:00    132\n",
              "17:00    124\n",
              "15:00    123\n",
              "22:00    123\n",
              "21:00    108\n",
              "16:00    107\n",
              "13:00    100\n",
              "Name: TIME OCC, dtype: int64"
            ]
          },
          "metadata": {},
          "execution_count": 17
        }
      ]
    },
    {
      "cell_type": "code",
      "source": [
        "plt.figure(figsize=(10,5))\n",
        "sns.barplot(x=time.index, y=time.values)\n",
        "plt.title('Top 10 Most Frequent Time with Criminal Activities')\n",
        "plt.xlabel('Time of Occurrence')\n",
        "plt.ylabel('Number of cases')\n",
        "plt.show()"
      ],
      "metadata": {
        "colab": {
          "base_uri": "https://localhost:8080/",
          "height": 487
        },
        "id": "1MJlocvSqD_k",
        "outputId": "350bc60c-16be-4c3f-9541-7d3b314d4705"
      },
      "execution_count": null,
      "outputs": [
        {
          "output_type": "display_data",
          "data": {
            "text/plain": [
              "<Figure size 1000x500 with 1 Axes>"
            ],
            "image/png": "[encoded data removed]"
          },
          "metadata": {}
        }
      ]
    },
    {
      "cell_type": "markdown",
      "source": [
        "*Surprisingly, most criminal activities happened at noon.*\n",
        "\n",
        "**What type of crime happened at that time?**"
      ],
      "metadata": {
        "id": "ozVJATc_tW0u"
      }
    },
    {
      "cell_type": "code",
      "source": [
        "subset_df = df.loc[df['TIME OCC'] == \"12:00\", :]\n",
        "type_crim=subset_df['Crm Cd Desc'].value_counts().nlargest(3)"
      ],
      "metadata": {
        "id": "0RRxbmcDqEj4"
      },
      "execution_count": null,
      "outputs": []
    },
    {
      "cell_type": "code",
      "source": [
        "plt.figure(figsize=(12,5))\n",
        "sns.barplot(x=type_crim.index, y=type_crim.values)\n",
        "plt.title('Top 3 Most Frequent Activities in midday')\n",
        "plt.xlabel('Time of Occurrence')\n",
        "plt.ylabel('Count')\n",
        "plt.show()"
      ],
      "metadata": {
        "colab": {
          "base_uri": "https://localhost:8080/",
          "height": 487
        },
        "id": "lt2KOCBTwWzb",
        "outputId": "df737bed-d661-44af-c282-bffcb93d64cc"
      },
      "execution_count": null,
      "outputs": [
        {
          "output_type": "display_data",
          "data": {
            "text/plain": [
              "<Figure size 1200x500 with 1 Axes>"
            ],
            "image/png": "[encoded data removed]"
          },
          "metadata": {}
        }
      ]
    },
    {
      "cell_type": "markdown",
      "source": [
        "Most of incidents in the midday were related to theft."
      ],
      "metadata": {
        "id": "AZGqxE1VyEAc"
      }
    },
    {
      "cell_type": "code",
      "source": [
        "premises = subset_df['Premis Desc'].value_counts().nlargest(3)\n",
        "plt.figure(figsize=(12,5))\n",
        "sns.barplot(x=type_crim.index, y=type_crim.values)\n",
        "plt.title('Top 3 Most Frequent Premises in midday')\n",
        "plt.xlabel('Premises')\n",
        "plt.ylabel('Count')\n",
        "plt.show()"
      ],
      "metadata": {
        "colab": {
          "base_uri": "https://localhost:8080/",
          "height": 487
        },
        "id": "clKOjIpnw6KB",
        "outputId": "3cbce54a-0c9f-4524-93c4-b333c24faf49"
      },
      "execution_count": null,
      "outputs": [
        {
          "output_type": "display_data",
          "data": {
            "text/plain": [
              "<Figure size 1200x500 with 1 Axes>"
            ],
            "image/png": "[encoded data removed]"
          },
          "metadata": {}
        }
      ]
    },
    {
      "cell_type": "markdown",
      "source": [
        "Houses and streets are the most common places where incidents happened in the midday.\n",
        "\n",
        "**Hypothesis:** midday is when people and police have less caution about criminals, and criminals tend to choose places where there's no sign of police.  "
      ],
      "metadata": {
        "id": "vVzYcaMdycuR"
      }
    },
    {
      "cell_type": "markdown",
      "source": [
        "## Victim Descent"
      ],
      "metadata": {
        "id": "W0gkDMVapw7s"
      }
    },
    {
      "cell_type": "code",
      "source": [
        "mapping = {'A': 'Asian', 'B': 'Black', 'C': 'Chinese','F':'Filipino','H':'Hispanic/Latin/Mexican','I':'Indian', 'K':'Korean', 'O':'Others', 'V':'Vietnamese','W':'White','X':'Unknowns'}\n",
        "df['Vict Descent'].map(mapping).value_counts()"
      ],
      "metadata": {
        "colab": {
          "base_uri": "https://localhost:8080/"
        },
        "id": "LcSIeZrXqJOf",
        "outputId": "e6f60efb-85ca-4fd0-887f-8d0f3963c221"
      },
      "execution_count": null,
      "outputs": [
        {
          "output_type": "execute_result",
          "data": {
            "text/plain": [
              "Hispanic/Latin/Mexican    1693\n",
              "White                      933\n",
              "Black                      780\n",
              "Unknowns                   525\n",
              "Others                     300\n",
              "Asian                      155\n",
              "Chinese                     15\n",
              "Filipino                    14\n",
              "Korean                      14\n",
              "Indian                      10\n",
              "Vietnamese                   4\n",
              "Name: Vict Descent, dtype: int64"
            ]
          },
          "metadata": {},
          "execution_count": 14
        }
      ]
    },
    {
      "cell_type": "markdown",
      "source": [
        "* Because the number of Chinese, Filipino, Korean, Indian and Vietnamese are not significant and can group them into Asian group.\n",
        "\n",
        "\n",
        "* Others and Unknowns cases can group together into one group."
      ],
      "metadata": {
        "id": "ObnwqtXmtsib"
      }
    },
    {
      "cell_type": "code",
      "source": [
        "# Count the values\n",
        "df1 = df['Vict Descent'].map(mapping).value_counts().reset_index()\n",
        "\n",
        "# Rename the columns\n",
        "df1.columns = ['Vict Descent', 'count']"
      ],
      "metadata": {
        "id": "Gw4ANBHWwANP"
      },
      "execution_count": null,
      "outputs": []
    },
    {
      "cell_type": "code",
      "source": [
        "df1.loc[3, 'Vict Descent'] = 'Others'\n",
        "df1.loc[6, 'Vict Descent'] = 'Asian'\n",
        "df1.loc[7, 'Vict Descent'] = 'Asian'\n",
        "df1.loc[8, 'Vict Descent'] = 'Asian'\n",
        "df1.loc[9, 'Vict Descent'] = 'Asian'\n",
        "df1.loc[10, 'Vict Descent'] = 'Asian'"
      ],
      "metadata": {
        "id": "5vNi3DL0wTFf"
      },
      "execution_count": null,
      "outputs": []
    },
    {
      "cell_type": "code",
      "source": [
        "grouped=df1.groupby('Vict Descent').sum()"
      ],
      "metadata": {
        "id": "tBkztUftxZpE"
      },
      "execution_count": null,
      "outputs": []
    },
    {
      "cell_type": "code",
      "source": [
        "grouped"
      ],
      "metadata": {
        "colab": {
          "base_uri": "https://localhost:8080/",
          "height": 237
        },
        "id": "e6RHtm0942sQ",
        "outputId": "6389c036-0ae2-43ad-f484-ae186dbfeef0"
      },
      "execution_count": null,
      "outputs": [
        {
          "output_type": "execute_result",
          "data": {
            "text/plain": [
              "                        count\n",
              "Vict Descent                 \n",
              "Asian                     212\n",
              "Black                     780\n",
              "Hispanic/Latin/Mexican   1693\n",
              "Others                    825\n",
              "White                     933"
            ],
            "text/html": [
              "\n",
              "  <div id=\"df-3f3b4676-6ad0-4455-aca3-d3d02867f52b\">\n",
              "    <div class=\"colab-df-container\">\n",
              "      <div>\n",
              "<style scoped>\n",
              "    .dataframe tbody tr th:only-of-type {\n",
              "        vertical-align: middle;\n",
              "    }\n",
              "\n",
              "    .dataframe tbody tr th {\n",
              "        vertical-align: top;\n",
              "    }\n",
              "\n",
              "    .dataframe thead th {\n",
              "        text-align: right;\n",
              "    }\n",
              "</style>\n",
              "<table border=\"1\" class=\"dataframe\">\n",
              "  <thead>\n",
              "    <tr style=\"text-align: right;\">\n",
              "      <th></th>\n",
              "      <th>count</th>\n",
              "    </tr>\n",
              "    <tr>\n",
              "      <th>Vict Descent</th>\n",
              "      <th></th>\n",
              "    </tr>\n",
              "  </thead>\n",
              "  <tbody>\n",
              "    <tr>\n",
              "      <th>Asian</th>\n",
              "      <td>212</td>\n",
              "    </tr>\n",
              "    <tr>\n",
              "      <th>Black</th>\n",
              "      <td>780</td>\n",
              "    </tr>\n",
              "    <tr>\n",
              "      <th>Hispanic/Latin/Mexican</th>\n",
              "      <td>1693</td>\n",
              "    </tr>\n",
              "    <tr>\n",
              "      <th>Others</th>\n",
              "      <td>825</td>\n",
              "    </tr>\n",
              "    <tr>\n",
              "      <th>White</th>\n",
              "      <td>933</td>\n",
              "    </tr>\n",
              "  </tbody>\n",
              "</table>\n",
              "</div>\n",
              "      <button class=\"colab-df-convert\" onclick=\"convertToInteractive('df-3f3b4676-6ad0-4455-aca3-d3d02867f52b')\"\n",
              "              title=\"Convert this dataframe to an interactive table.\"\n",
              "              style=\"display:none;\">\n",
              "        \n",
              "  <svg xmlns=\"http://www.w3.org/2000/svg\" height=\"24px\"viewBox=\"0 0 24 24\"\n",
              "       width=\"24px\">\n",
              "    <path d=\"M0 0h24v24H0V0z\" fill=\"none\"/>\n",
              "    <path d=\"M18.56 5.44l.94 2.06.94-2.06 2.06-.94-2.06-.94-.94-2.06-.94 2.06-2.06.94zm-11 1L8.5 8.5l.94-2.06 2.06-.94-2.06-.94L8.5 2.5l-.94 2.06-2.06.94zm10 10l.94 2.06.94-2.06 2.06-.94-2.06-.94-.94-2.06-.94 2.06-2.06.94z\"/><path d=\"M17.41 7.96l-1.37-1.37c-.4-.4-.92-.59-1.43-.59-.52 0-1.04.2-1.43.59L10.3 9.45l-7.72 7.72c-.78.78-.78 2.05 0 2.83L4 21.41c.39.39.9.59 1.41.59.51 0 1.02-.2 1.41-.59l7.78-7.78 2.81-2.81c.8-.78.8-2.07 0-2.86zM5.41 20L4 18.59l7.72-7.72 1.47 1.35L5.41 20z\"/>\n",
              "  </svg>\n",
              "      </button>\n",
              "      \n",
              "  <style>\n",
              "    .colab-df-container {\n",
              "      display:flex;\n",
              "      flex-wrap:wrap;\n",
              "      gap: 12px;\n",
              "    }\n",
              "\n",
              "    .colab-df-convert {\n",
              "      background-color: #E8F0FE;\n",
              "      border: none;\n",
              "      border-radius: 50%;\n",
              "      cursor: pointer;\n",
              "      display: none;\n",
              "      fill: #1967D2;\n",
              "      height: 32px;\n",
              "      padding: 0 0 0 0;\n",
              "      width: 32px;\n",
              "    }\n",
              "\n",
              "    .colab-df-convert:hover {\n",
              "      background-color: #E2EBFA;\n",
              "      box-shadow: 0px 1px 2px rgba(60, 64, 67, 0.3), 0px 1px 3px 1px rgba(60, 64, 67, 0.15);\n",
              "      fill: #174EA6;\n",
              "    }\n",
              "\n",
              "    [theme=dark] .colab-df-convert {\n",
              "      background-color: #3B4455;\n",
              "      fill: #D2E3FC;\n",
              "    }\n",
              "\n",
              "    [theme=dark] .colab-df-convert:hover {\n",
              "      background-color: #434B5C;\n",
              "      box-shadow: 0px 1px 3px 1px rgba(0, 0, 0, 0.15);\n",
              "      filter: drop-shadow(0px 1px 2px rgba(0, 0, 0, 0.3));\n",
              "      fill: #FFFFFF;\n",
              "    }\n",
              "  </style>\n",
              "\n",
              "      <script>\n",
              "        const buttonEl =\n",
              "          document.querySelector('#df-3f3b4676-6ad0-4455-aca3-d3d02867f52b button.colab-df-convert');\n",
              "        buttonEl.style.display =\n",
              "          google.colab.kernel.accessAllowed ? 'block' : 'none';\n",
              "\n",
              "        async function convertToInteractive(key) {\n",
              "          const element = document.querySelector('#df-3f3b4676-6ad0-4455-aca3-d3d02867f52b');\n",
              "          const dataTable =\n",
              "            await google.colab.kernel.invokeFunction('convertToInteractive',\n",
              "                                                     [key], {});\n",
              "          if (!dataTable) return;\n",
              "\n",
              "          const docLinkHtml = 'Like what you see? Visit the ' +\n",
              "            '<a target=\"_blank\" href=https://colab.research.google.com/notebooks/data_table.ipynb>data table notebook</a>'\n",
              "            + ' to learn more about interactive tables.';\n",
              "          element.innerHTML = '';\n",
              "          dataTable['output_type'] = 'display_data';\n",
              "          await google.colab.output.renderOutput(dataTable, element);\n",
              "          const docLink = document.createElement('div');\n",
              "          docLink.innerHTML = docLinkHtml;\n",
              "          element.appendChild(docLink);\n",
              "        }\n",
              "      </script>\n",
              "    </div>\n",
              "  </div>\n",
              "  "
            ]
          },
          "metadata": {},
          "execution_count": 61
        }
      ]
    },
    {
      "cell_type": "code",
      "source": [
        "grouped = df1.groupby('Vict Descent').sum().reset_index()\n",
        "\n",
        "# Create barplot using Seaborn\n",
        "sns.barplot(x='count', y='Vict Descent', data=grouped, orient='h')\n",
        "\n",
        "# Add labels and title\n",
        "plt.xlabel('Victim Descent')\n",
        "plt.ylabel('Number of cases')\n",
        "plt.title('Total Number of Victims by Descent')\n",
        "\n",
        "# Show plot\n",
        "plt.show()"
      ],
      "metadata": {
        "colab": {
          "base_uri": "https://localhost:8080/",
          "height": 472
        },
        "id": "Ib6Uwwym7sX7",
        "outputId": "d8235943-3ba8-45e3-f8e4-a12787a74e96"
      },
      "execution_count": null,
      "outputs": [
        {
          "output_type": "display_data",
          "data": {
            "text/plain": [
              "<Figure size 640x480 with 1 Axes>"
            ],
            "image/png": "[encoded data removed]"
          },
          "metadata": {}
        }
      ]
    },
    {
      "cell_type": "code",
      "source": [
        "# Create pie chart using Matplotlib\n",
        "plt.pie(grouped['count'], labels=grouped['Vict Descent'], autopct='%1.1f%%')\n",
        "\n",
        "# Add title\n",
        "plt.title('Proportion of Victims Descent')\n",
        "# Show plot\n",
        "plt.show()"
      ],
      "metadata": {
        "colab": {
          "base_uri": "https://localhost:8080/",
          "height": 428
        },
        "id": "7-8rQC0x8sBS",
        "outputId": "3eacb055-7d61-45c2-b18f-54b479befd17"
      },
      "execution_count": null,
      "outputs": [
        {
          "output_type": "display_data",
          "data": {
            "text/plain": [
              "<Figure size 640x480 with 1 Axes>"
            ],
            "image/png": "[encoded data removed]"
          },
          "metadata": {}
        }
      ]
    },
    {
      "cell_type": "markdown",
      "source": [
        "Hispanic/Latin/Mexican victims accounted for the highest percentage of victims at 38.1%, making them the most abundant ethnic group represented in the data. The next largest group of victims were White people, accounting for 21% of the victims.\n",
        "The Black community accounted for 17.6% of victims, while the \"Others\" category accounted for 18.6%. The Asian community had the lowest number of victims, accounting for only 4.8% of the total."
      ],
      "metadata": {
        "id": "RtdHPLWjakGY"
      }
    },
    {
      "cell_type": "markdown",
      "source": [
        "## Sex of the victims"
      ],
      "metadata": {
        "id": "R4oDliDo06NH"
      }
    },
    {
      "cell_type": "code",
      "source": [
        "sns.countplot(x='Vict Sex', data=df)\n"
      ],
      "metadata": {
        "colab": {
          "base_uri": "https://localhost:8080/",
          "height": 467
        },
        "id": "xtUIcKYQ1bl7",
        "outputId": "9d27f289-c357-45b1-bd3f-2cfb0fa75061"
      },
      "execution_count": null,
      "outputs": [
        {
          "output_type": "execute_result",
          "data": {
            "text/plain": [
              "<Axes: xlabel='Vict Sex', ylabel='count'>"
            ]
          },
          "metadata": {},
          "execution_count": 51
        },
        {
          "output_type": "display_data",
          "data": {
            "text/plain": [
              "<Figure size 640x480 with 1 Axes>"
            ],
            "image/png": "[encoded data removed]"
          },
          "metadata": {}
        }
      ]
    },
    {
      "cell_type": "markdown",
      "source": [
        "Male victims are more than female victims."
      ],
      "metadata": {
        "id": "lUYculDm22yh"
      }
    },
    {
      "cell_type": "markdown",
      "source": [
        "## Common types of crime"
      ],
      "metadata": {
        "id": "ZARjVkuS4Rxk"
      }
    },
    {
      "cell_type": "code",
      "source": [
        "df['Crm Cd Desc'].value_counts().nlargest(10)"
      ],
      "metadata": {
        "colab": {
          "base_uri": "https://localhost:8080/"
        },
        "id": "99kBvRhW4lcK",
        "outputId": "d0533987-4c18-4b8d-9105-81853dd1d4ec"
      },
      "execution_count": null,
      "outputs": [
        {
          "output_type": "execute_result",
          "data": {
            "text/plain": [
              "VEHICLE - STOLEN                                           442\n",
              "BATTERY - SIMPLE ASSAULT                                   439\n",
              "BURGLARY FROM VEHICLE                                      396\n",
              "THEFT FROM MOTOR VEHICLE - GRAND ($950.01 AND OVER)        332\n",
              "THEFT PLAIN - PETTY ($950 & UNDER)                         328\n",
              "VANDALISM - FELONY ($400 & OVER, ALL CHURCH VANDALISMS)    294\n",
              "THEFT FROM MOTOR VEHICLE - PETTY ($950 & UNDER)            244\n",
              "ASSAULT WITH DEADLY WEAPON, AGGRAVATED ASSAULT             231\n",
              "BURGLARY                                                   222\n",
              "VANDALISM - MISDEAMEANOR ($399 OR UNDER)                   198\n",
              "Name: Crm Cd Desc, dtype: int64"
            ]
          },
          "metadata": {},
          "execution_count": 53
        }
      ]
    },
    {
      "cell_type": "code",
      "source": [
        "df['Weapon Desc'].value_counts()"
      ],
      "metadata": {
        "colab": {
          "base_uri": "https://localhost:8080/"
        },
        "id": "0IWHWzWS4ler",
        "outputId": "9f9b2acb-4209-4478-a5e8-929a4392a8fd"
      },
      "execution_count": null,
      "outputs": [
        {
          "output_type": "execute_result",
          "data": {
            "text/plain": [
              "STRONG-ARM (HANDS, FIST, FEET OR BODILY FORCE)    909\n",
              "UNKNOWN WEAPON/OTHER WEAPON                       193\n",
              "VERBAL THREAT                                     120\n",
              "HAND GUN                                           74\n",
              "OTHER KNIFE                                        38\n",
              "KNIFE WITH BLADE 6INCHES OR LESS                   29\n",
              "UNKNOWN FIREARM                                    23\n",
              "SEMI-AUTOMATIC PISTOL                              21\n",
              "MACE/PEPPER SPRAY                                  19\n",
              "BOTTLE                                             16\n",
              "STICK                                              15\n",
              "PIPE/METAL PIPE                                    13\n",
              "ROCK/THROWN OBJECT                                 12\n",
              "BLUNT INSTRUMENT                                   11\n",
              "KNIFE WITH BLADE OVER 6 INCHES IN LENGTH           10\n",
              "REVOLVER                                            9\n",
              "AIR PISTOL/REVOLVER/RIFLE/BB GUN                    9\n",
              "KITCHEN KNIFE                                       9\n",
              "SIMULATED GUN                                       9\n",
              "FOLDING KNIFE                                       7\n",
              "CLUB/BAT                                            7\n",
              "VEHICLE                                             7\n",
              "MACHETE                                             6\n",
              "OTHER CUTTING INSTRUMENT                            6\n",
              "FIRE                                                6\n",
              "HAMMER                                              5\n",
              "SCISSORS                                            5\n",
              "PHYSICAL PRESENCE                                   5\n",
              "UNKNOWN TYPE CUTTING INSTRUMENT                     5\n",
              "OTHER FIREARM                                       3\n",
              "SCREWDRIVER                                         3\n",
              "SWITCH BLADE                                        3\n",
              "BOMB THREAT                                         3\n",
              "SHOTGUN                                             3\n",
              "RIFLE                                               2\n",
              "DEMAND NOTE                                         2\n",
              "BELT FLAILING INSTRUMENT/CHAIN                      2\n",
              "STUN GUN                                            1\n",
              "AXE                                                 1\n",
              "ASSAULT WEAPON/UZI/AK47/ETC                         1\n",
              "ICE PICK                                            1\n",
              "BRASS KNUCKLES                                      1\n",
              "RAZOR                                               1\n",
              "GLASS                                               1\n",
              "ANTIQUE FIREARM                                     1\n",
              "Name: Weapon Desc, dtype: int64"
            ]
          },
          "metadata": {},
          "execution_count": 54
        }
      ]
    },
    {
      "cell_type": "code",
      "source": [
        "sns.barplot(x='Crime', y=top_crimes.values, hue='Weapon Type', data=df, palette=color_palette)\n"
      ],
      "metadata": {
        "id": "sViNIudR5r4n"
      },
      "execution_count": null,
      "outputs": []
    },
    {
      "cell_type": "markdown",
      "source": [
        "# Status of Criminal Cases"
      ],
      "metadata": {
        "id": "HzDOWTIsckOK"
      }
    },
    {
      "cell_type": "code",
      "source": [
        "status['Status Desc'].value_counts()"
      ],
      "metadata": {
        "colab": {
          "base_uri": "https://localhost:8080/"
        },
        "id": "D9CAqk20eC2e",
        "outputId": "5ecfe8c5-eb35-455d-a974-586c8c253435"
      },
      "execution_count": 37,
      "outputs": [
        {
          "output_type": "execute_result",
          "data": {
            "text/plain": [
              "Invest Cont     3426\n",
              "Adult Other      298\n",
              "Adult Arrest     283\n",
              "Juv Arrest        12\n",
              "Juv Other          2\n",
              "Name: Status Desc, dtype: int64"
            ]
          },
          "metadata": {},
          "execution_count": 37
        }
      ]
    },
    {
      "cell_type": "code",
      "source": [
        "status=df[['Crm Cd Desc','Status Desc']]"
      ],
      "metadata": {
        "id": "0EKAtJB0dAXF"
      },
      "execution_count": 38,
      "outputs": []
    },
    {
      "cell_type": "code",
      "source": [
        "subset_df = status[status['Status Desc'] == 'Adult Arrest']"
      ],
      "metadata": {
        "id": "pr8c75pid4kA"
      },
      "execution_count": 39,
      "outputs": []
    },
    {
      "cell_type": "code",
      "source": [
        "status[status['Status Desc'] == 'Juv Arrest']"
      ],
      "metadata": {
        "colab": {
          "base_uri": "https://localhost:8080/",
          "height": 425
        },
        "id": "biSiiFiefNZu",
        "outputId": "5d63a481-fb17-4fb8-e458-df90a835d598"
      },
      "execution_count": 43,
      "outputs": [
        {
          "output_type": "execute_result",
          "data": {
            "text/plain": [
              "                                            Crm Cd Desc Status Desc\n",
              "472                                             ROBBERY  Juv Arrest\n",
              "540            SHOPLIFTING - PETTY THEFT ($950 & UNDER)  Juv Arrest\n",
              "1442           VANDALISM - MISDEAMEANOR ($399 OR UNDER)  Juv Arrest\n",
              "1444                                  ATTEMPTED ROBBERY  Juv Arrest\n",
              "1536                                     RAPE, FORCIBLE  Juv Arrest\n",
              "1650  VANDALISM - FELONY ($400 & OVER, ALL CHURCH VA...  Juv Arrest\n",
              "1673                           BATTERY - SIMPLE ASSAULT  Juv Arrest\n",
              "1674                           BATTERY - SIMPLE ASSAULT  Juv Arrest\n",
              "2862                                            ROBBERY  Juv Arrest\n",
              "2986                                         KIDNAPPING  Juv Arrest\n",
              "3015                                   VEHICLE - STOLEN  Juv Arrest\n",
              "3122                                  ATTEMPTED ROBBERY  Juv Arrest"
            ],
            "text/html": [
              "\n",
              "  <div id=\"df-3040dd95-39ec-438f-94c7-90d2e9799f22\">\n",
              "    <div class=\"colab-df-container\">\n",
              "      <div>\n",
              "<style scoped>\n",
              "    .dataframe tbody tr th:only-of-type {\n",
              "        vertical-align: middle;\n",
              "    }\n",
              "\n",
              "    .dataframe tbody tr th {\n",
              "        vertical-align: top;\n",
              "    }\n",
              "\n",
              "    .dataframe thead th {\n",
              "        text-align: right;\n",
              "    }\n",
              "</style>\n",
              "<table border=\"1\" class=\"dataframe\">\n",
              "  <thead>\n",
              "    <tr style=\"text-align: right;\">\n",
              "      <th></th>\n",
              "      <th>Crm Cd Desc</th>\n",
              "      <th>Status Desc</th>\n",
              "    </tr>\n",
              "  </thead>\n",
              "  <tbody>\n",
              "    <tr>\n",
              "      <th>472</th>\n",
              "      <td>ROBBERY</td>\n",
              "      <td>Juv Arrest</td>\n",
              "    </tr>\n",
              "    <tr>\n",
              "      <th>540</th>\n",
              "      <td>SHOPLIFTING - PETTY THEFT ($950 &amp; UNDER)</td>\n",
              "      <td>Juv Arrest</td>\n",
              "    </tr>\n",
              "    <tr>\n",
              "      <th>1442</th>\n",
              "      <td>VANDALISM - MISDEAMEANOR ($399 OR UNDER)</td>\n",
              "      <td>Juv Arrest</td>\n",
              "    </tr>\n",
              "    <tr>\n",
              "      <th>1444</th>\n",
              "      <td>ATTEMPTED ROBBERY</td>\n",
              "      <td>Juv Arrest</td>\n",
              "    </tr>\n",
              "    <tr>\n",
              "      <th>1536</th>\n",
              "      <td>RAPE, FORCIBLE</td>\n",
              "      <td>Juv Arrest</td>\n",
              "    </tr>\n",
              "    <tr>\n",
              "      <th>1650</th>\n",
              "      <td>VANDALISM - FELONY ($400 &amp; OVER, ALL CHURCH VA...</td>\n",
              "      <td>Juv Arrest</td>\n",
              "    </tr>\n",
              "    <tr>\n",
              "      <th>1673</th>\n",
              "      <td>BATTERY - SIMPLE ASSAULT</td>\n",
              "      <td>Juv Arrest</td>\n",
              "    </tr>\n",
              "    <tr>\n",
              "      <th>1674</th>\n",
              "      <td>BATTERY - SIMPLE ASSAULT</td>\n",
              "      <td>Juv Arrest</td>\n",
              "    </tr>\n",
              "    <tr>\n",
              "      <th>2862</th>\n",
              "      <td>ROBBERY</td>\n",
              "      <td>Juv Arrest</td>\n",
              "    </tr>\n",
              "    <tr>\n",
              "      <th>2986</th>\n",
              "      <td>KIDNAPPING</td>\n",
              "      <td>Juv Arrest</td>\n",
              "    </tr>\n",
              "    <tr>\n",
              "      <th>3015</th>\n",
              "      <td>VEHICLE - STOLEN</td>\n",
              "      <td>Juv Arrest</td>\n",
              "    </tr>\n",
              "    <tr>\n",
              "      <th>3122</th>\n",
              "      <td>ATTEMPTED ROBBERY</td>\n",
              "      <td>Juv Arrest</td>\n",
              "    </tr>\n",
              "  </tbody>\n",
              "</table>\n",
              "</div>\n",
              "      <button class=\"colab-df-convert\" onclick=\"convertToInteractive('df-3040dd95-39ec-438f-94c7-90d2e9799f22')\"\n",
              "              title=\"Convert this dataframe to an interactive table.\"\n",
              "              style=\"display:none;\">\n",
              "        \n",
              "  <svg xmlns=\"http://www.w3.org/2000/svg\" height=\"24px\"viewBox=\"0 0 24 24\"\n",
              "       width=\"24px\">\n",
              "    <path d=\"M0 0h24v24H0V0z\" fill=\"none\"/>\n",
              "    <path d=\"M18.56 5.44l.94 2.06.94-2.06 2.06-.94-2.06-.94-.94-2.06-.94 2.06-2.06.94zm-11 1L8.5 8.5l.94-2.06 2.06-.94-2.06-.94L8.5 2.5l-.94 2.06-2.06.94zm10 10l.94 2.06.94-2.06 2.06-.94-2.06-.94-.94-2.06-.94 2.06-2.06.94z\"/><path d=\"M17.41 7.96l-1.37-1.37c-.4-.4-.92-.59-1.43-.59-.52 0-1.04.2-1.43.59L10.3 9.45l-7.72 7.72c-.78.78-.78 2.05 0 2.83L4 21.41c.39.39.9.59 1.41.59.51 0 1.02-.2 1.41-.59l7.78-7.78 2.81-2.81c.8-.78.8-2.07 0-2.86zM5.41 20L4 18.59l7.72-7.72 1.47 1.35L5.41 20z\"/>\n",
              "  </svg>\n",
              "      </button>\n",
              "      \n",
              "  <style>\n",
              "    .colab-df-container {\n",
              "      display:flex;\n",
              "      flex-wrap:wrap;\n",
              "      gap: 12px;\n",
              "    }\n",
              "\n",
              "    .colab-df-convert {\n",
              "      background-color: #E8F0FE;\n",
              "      border: none;\n",
              "      border-radius: 50%;\n",
              "      cursor: pointer;\n",
              "      display: none;\n",
              "      fill: #1967D2;\n",
              "      height: 32px;\n",
              "      padding: 0 0 0 0;\n",
              "      width: 32px;\n",
              "    }\n",
              "\n",
              "    .colab-df-convert:hover {\n",
              "      background-color: #E2EBFA;\n",
              "      box-shadow: 0px 1px 2px rgba(60, 64, 67, 0.3), 0px 1px 3px 1px rgba(60, 64, 67, 0.15);\n",
              "      fill: #174EA6;\n",
              "    }\n",
              "\n",
              "    [theme=dark] .colab-df-convert {\n",
              "      background-color: #3B4455;\n",
              "      fill: #D2E3FC;\n",
              "    }\n",
              "\n",
              "    [theme=dark] .colab-df-convert:hover {\n",
              "      background-color: #434B5C;\n",
              "      box-shadow: 0px 1px 3px 1px rgba(0, 0, 0, 0.15);\n",
              "      filter: drop-shadow(0px 1px 2px rgba(0, 0, 0, 0.3));\n",
              "      fill: #FFFFFF;\n",
              "    }\n",
              "  </style>\n",
              "\n",
              "      <script>\n",
              "        const buttonEl =\n",
              "          document.querySelector('#df-3040dd95-39ec-438f-94c7-90d2e9799f22 button.colab-df-convert');\n",
              "        buttonEl.style.display =\n",
              "          google.colab.kernel.accessAllowed ? 'block' : 'none';\n",
              "\n",
              "        async function convertToInteractive(key) {\n",
              "          const element = document.querySelector('#df-3040dd95-39ec-438f-94c7-90d2e9799f22');\n",
              "          const dataTable =\n",
              "            await google.colab.kernel.invokeFunction('convertToInteractive',\n",
              "                                                     [key], {});\n",
              "          if (!dataTable) return;\n",
              "\n",
              "          const docLinkHtml = 'Like what you see? Visit the ' +\n",
              "            '<a target=\"_blank\" href=https://colab.research.google.com/notebooks/data_table.ipynb>data table notebook</a>'\n",
              "            + ' to learn more about interactive tables.';\n",
              "          element.innerHTML = '';\n",
              "          dataTable['output_type'] = 'display_data';\n",
              "          await google.colab.output.renderOutput(dataTable, element);\n",
              "          const docLink = document.createElement('div');\n",
              "          docLink.innerHTML = docLinkHtml;\n",
              "          element.appendChild(docLink);\n",
              "        }\n",
              "      </script>\n",
              "    </div>\n",
              "  </div>\n",
              "  "
            ]
          },
          "metadata": {},
          "execution_count": 43
        }
      ]
    },
    {
      "cell_type": "markdown",
      "source": [
        " A quick look through Juvenile crime activities."
      ],
      "metadata": {
        "id": "5YF9csrCfgW1"
      }
    },
    {
      "cell_type": "code",
      "source": [
        "subset_df['Crm Cd Desc'].value_counts().nlargest(10)"
      ],
      "metadata": {
        "colab": {
          "base_uri": "https://localhost:8080/"
        },
        "id": "djMZC3v9eRBO",
        "outputId": "167cee73-a0b4-45e3-cd94-f07e82579436"
      },
      "execution_count": 44,
      "outputs": [
        {
          "output_type": "execute_result",
          "data": {
            "text/plain": [
              "ASSAULT WITH DEADLY WEAPON, AGGRAVATED ASSAULT             50\n",
              "INTIMATE PARTNER - SIMPLE ASSAULT                          26\n",
              "ROBBERY                                                    24\n",
              "VANDALISM - FELONY ($400 & OVER, ALL CHURCH VANDALISMS)    21\n",
              "INTIMATE PARTNER - AGGRAVATED ASSAULT                      20\n",
              "BURGLARY                                                   19\n",
              "CRIMINAL THREATS - NO WEAPON DISPLAYED                     15\n",
              "BATTERY - SIMPLE ASSAULT                                   12\n",
              "BRANDISH WEAPON                                             7\n",
              "SEX OFFENDER REGISTRANT OUT OF COMPLIANCE                   6\n",
              "Name: Crm Cd Desc, dtype: int64"
            ]
          },
          "metadata": {},
          "execution_count": 44
        }
      ]
    },
    {
      "cell_type": "code",
      "source": [
        "status[status['Crm Cd Desc'] == 'ASSAULT WITH DEADLY WEAPON, AGGRAVATED ASSAULT']"
      ],
      "metadata": {
        "colab": {
          "base_uri": "https://localhost:8080/",
          "height": 423
        },
        "id": "BZK0Rp5texna",
        "outputId": "683be5ba-5e70-41d5-ee3b-39c7a5a72e38"
      },
      "execution_count": 42,
      "outputs": [
        {
          "output_type": "execute_result",
          "data": {
            "text/plain": [
              "                                         Crm Cd Desc   Status Desc\n",
              "24    ASSAULT WITH DEADLY WEAPON, AGGRAVATED ASSAULT   Adult Other\n",
              "27    ASSAULT WITH DEADLY WEAPON, AGGRAVATED ASSAULT  Adult Arrest\n",
              "42    ASSAULT WITH DEADLY WEAPON, AGGRAVATED ASSAULT  Adult Arrest\n",
              "43    ASSAULT WITH DEADLY WEAPON, AGGRAVATED ASSAULT  Adult Arrest\n",
              "61    ASSAULT WITH DEADLY WEAPON, AGGRAVATED ASSAULT   Invest Cont\n",
              "...                                              ...           ...\n",
              "3917  ASSAULT WITH DEADLY WEAPON, AGGRAVATED ASSAULT   Invest Cont\n",
              "3980  ASSAULT WITH DEADLY WEAPON, AGGRAVATED ASSAULT   Invest Cont\n",
              "3981  ASSAULT WITH DEADLY WEAPON, AGGRAVATED ASSAULT   Invest Cont\n",
              "4010  ASSAULT WITH DEADLY WEAPON, AGGRAVATED ASSAULT  Adult Arrest\n",
              "4014  ASSAULT WITH DEADLY WEAPON, AGGRAVATED ASSAULT   Invest Cont\n",
              "\n",
              "[208 rows x 2 columns]"
            ],
            "text/html": [
              "\n",
              "  <div id=\"df-0efa11ef-2321-45ea-ba41-d82b4fafd6a9\">\n",
              "    <div class=\"colab-df-container\">\n",
              "      <div>\n",
              "<style scoped>\n",
              "    .dataframe tbody tr th:only-of-type {\n",
              "        vertical-align: middle;\n",
              "    }\n",
              "\n",
              "    .dataframe tbody tr th {\n",
              "        vertical-align: top;\n",
              "    }\n",
              "\n",
              "    .dataframe thead th {\n",
              "        text-align: right;\n",
              "    }\n",
              "</style>\n",
              "<table border=\"1\" class=\"dataframe\">\n",
              "  <thead>\n",
              "    <tr style=\"text-align: right;\">\n",
              "      <th></th>\n",
              "      <th>Crm Cd Desc</th>\n",
              "      <th>Status Desc</th>\n",
              "    </tr>\n",
              "  </thead>\n",
              "  <tbody>\n",
              "    <tr>\n",
              "      <th>24</th>\n",
              "      <td>ASSAULT WITH DEADLY WEAPON, AGGRAVATED ASSAULT</td>\n",
              "      <td>Adult Other</td>\n",
              "    </tr>\n",
              "    <tr>\n",
              "      <th>27</th>\n",
              "      <td>ASSAULT WITH DEADLY WEAPON, AGGRAVATED ASSAULT</td>\n",
              "      <td>Adult Arrest</td>\n",
              "    </tr>\n",
              "    <tr>\n",
              "      <th>42</th>\n",
              "      <td>ASSAULT WITH DEADLY WEAPON, AGGRAVATED ASSAULT</td>\n",
              "      <td>Adult Arrest</td>\n",
              "    </tr>\n",
              "    <tr>\n",
              "      <th>43</th>\n",
              "      <td>ASSAULT WITH DEADLY WEAPON, AGGRAVATED ASSAULT</td>\n",
              "      <td>Adult Arrest</td>\n",
              "    </tr>\n",
              "    <tr>\n",
              "      <th>61</th>\n",
              "      <td>ASSAULT WITH DEADLY WEAPON, AGGRAVATED ASSAULT</td>\n",
              "      <td>Invest Cont</td>\n",
              "    </tr>\n",
              "    <tr>\n",
              "      <th>...</th>\n",
              "      <td>...</td>\n",
              "      <td>...</td>\n",
              "    </tr>\n",
              "    <tr>\n",
              "      <th>3917</th>\n",
              "      <td>ASSAULT WITH DEADLY WEAPON, AGGRAVATED ASSAULT</td>\n",
              "      <td>Invest Cont</td>\n",
              "    </tr>\n",
              "    <tr>\n",
              "      <th>3980</th>\n",
              "      <td>ASSAULT WITH DEADLY WEAPON, AGGRAVATED ASSAULT</td>\n",
              "      <td>Invest Cont</td>\n",
              "    </tr>\n",
              "    <tr>\n",
              "      <th>3981</th>\n",
              "      <td>ASSAULT WITH DEADLY WEAPON, AGGRAVATED ASSAULT</td>\n",
              "      <td>Invest Cont</td>\n",
              "    </tr>\n",
              "    <tr>\n",
              "      <th>4010</th>\n",
              "      <td>ASSAULT WITH DEADLY WEAPON, AGGRAVATED ASSAULT</td>\n",
              "      <td>Adult Arrest</td>\n",
              "    </tr>\n",
              "    <tr>\n",
              "      <th>4014</th>\n",
              "      <td>ASSAULT WITH DEADLY WEAPON, AGGRAVATED ASSAULT</td>\n",
              "      <td>Invest Cont</td>\n",
              "    </tr>\n",
              "  </tbody>\n",
              "</table>\n",
              "<p>208 rows × 2 columns</p>\n",
              "</div>\n",
              "      <button class=\"colab-df-convert\" onclick=\"convertToInteractive('df-0efa11ef-2321-45ea-ba41-d82b4fafd6a9')\"\n",
              "              title=\"Convert this dataframe to an interactive table.\"\n",
              "              style=\"display:none;\">\n",
              "        \n",
              "  <svg xmlns=\"http://www.w3.org/2000/svg\" height=\"24px\"viewBox=\"0 0 24 24\"\n",
              "       width=\"24px\">\n",
              "    <path d=\"M0 0h24v24H0V0z\" fill=\"none\"/>\n",
              "    <path d=\"M18.56 5.44l.94 2.06.94-2.06 2.06-.94-2.06-.94-.94-2.06-.94 2.06-2.06.94zm-11 1L8.5 8.5l.94-2.06 2.06-.94-2.06-.94L8.5 2.5l-.94 2.06-2.06.94zm10 10l.94 2.06.94-2.06 2.06-.94-2.06-.94-.94-2.06-.94 2.06-2.06.94z\"/><path d=\"M17.41 7.96l-1.37-1.37c-.4-.4-.92-.59-1.43-.59-.52 0-1.04.2-1.43.59L10.3 9.45l-7.72 7.72c-.78.78-.78 2.05 0 2.83L4 21.41c.39.39.9.59 1.41.59.51 0 1.02-.2 1.41-.59l7.78-7.78 2.81-2.81c.8-.78.8-2.07 0-2.86zM5.41 20L4 18.59l7.72-7.72 1.47 1.35L5.41 20z\"/>\n",
              "  </svg>\n",
              "      </button>\n",
              "      \n",
              "  <style>\n",
              "    .colab-df-container {\n",
              "      display:flex;\n",
              "      flex-wrap:wrap;\n",
              "      gap: 12px;\n",
              "    }\n",
              "\n",
              "    .colab-df-convert {\n",
              "      background-color: #E8F0FE;\n",
              "      border: none;\n",
              "      border-radius: 50%;\n",
              "      cursor: pointer;\n",
              "      display: none;\n",
              "      fill: #1967D2;\n",
              "      height: 32px;\n",
              "      padding: 0 0 0 0;\n",
              "      width: 32px;\n",
              "    }\n",
              "\n",
              "    .colab-df-convert:hover {\n",
              "      background-color: #E2EBFA;\n",
              "      box-shadow: 0px 1px 2px rgba(60, 64, 67, 0.3), 0px 1px 3px 1px rgba(60, 64, 67, 0.15);\n",
              "      fill: #174EA6;\n",
              "    }\n",
              "\n",
              "    [theme=dark] .colab-df-convert {\n",
              "      background-color: #3B4455;\n",
              "      fill: #D2E3FC;\n",
              "    }\n",
              "\n",
              "    [theme=dark] .colab-df-convert:hover {\n",
              "      background-color: #434B5C;\n",
              "      box-shadow: 0px 1px 3px 1px rgba(0, 0, 0, 0.15);\n",
              "      filter: drop-shadow(0px 1px 2px rgba(0, 0, 0, 0.3));\n",
              "      fill: #FFFFFF;\n",
              "    }\n",
              "  </style>\n",
              "\n",
              "      <script>\n",
              "        const buttonEl =\n",
              "          document.querySelector('#df-0efa11ef-2321-45ea-ba41-d82b4fafd6a9 button.colab-df-convert');\n",
              "        buttonEl.style.display =\n",
              "          google.colab.kernel.accessAllowed ? 'block' : 'none';\n",
              "\n",
              "        async function convertToInteractive(key) {\n",
              "          const element = document.querySelector('#df-0efa11ef-2321-45ea-ba41-d82b4fafd6a9');\n",
              "          const dataTable =\n",
              "            await google.colab.kernel.invokeFunction('convertToInteractive',\n",
              "                                                     [key], {});\n",
              "          if (!dataTable) return;\n",
              "\n",
              "          const docLinkHtml = 'Like what you see? Visit the ' +\n",
              "            '<a target=\"_blank\" href=https://colab.research.google.com/notebooks/data_table.ipynb>data table notebook</a>'\n",
              "            + ' to learn more about interactive tables.';\n",
              "          element.innerHTML = '';\n",
              "          dataTable['output_type'] = 'display_data';\n",
              "          await google.colab.output.renderOutput(dataTable, element);\n",
              "          const docLink = document.createElement('div');\n",
              "          docLink.innerHTML = docLinkHtml;\n",
              "          element.appendChild(docLink);\n",
              "        }\n",
              "      </script>\n",
              "    </div>\n",
              "  </div>\n",
              "  "
            ]
          },
          "metadata": {},
          "execution_count": 42
        }
      ]
    },
    {
      "cell_type": "markdown",
      "source": [
        "There is an inconsistency between Criminal description and Status Description, that means deciding to arrest an adult or continue investigations depends on each specific case."
      ],
      "metadata": {
        "id": "LR2ppscZf-Zf"
      }
    }
  ]
}