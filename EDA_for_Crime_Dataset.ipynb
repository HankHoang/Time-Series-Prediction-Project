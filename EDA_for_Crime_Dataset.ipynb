{
  "nbformat": 4,
  "nbformat_minor": 0,
  "metadata": {
    "colab": {
      "provenance": [],
      "collapsed_sections": [
        "hAi3G4iVysCu",
        "St29CflvqDYL",
        "W0gkDMVapw7s",
        "R4oDliDo06NH"
      ],
      "authorship_tag": "ABX9TyMebUn5cvaykzet4If+9TVl"
    },
    "kernelspec": {
      "name": "python3",
      "display_name": "Python 3"
    },
    "language_info": {
      "name": "python"
    }
  },
  "cells": [
    {
      "cell_type": "markdown",
      "source": [
        "\n",
        "\n",
        "## Author: Hank Hoang\n",
        "**Date created: ** March 28th 2023<br>\n",
        "**Last modified: ** April 2nd 2023<br>"
      ],
      "metadata": {
        "id": "ZvIPPxsexMJq"
      }
    },
    {
      "cell_type": "markdown",
      "source": [
        "## Importing the necessary libraries and loading data"
      ],
      "metadata": {
        "id": "hAi3G4iVysCu"
      }
    },
    {
      "cell_type": "code",
      "source": [
        "import numpy as np\n",
        "import matplotlib as mpl\n",
        "import pandas as pd\n",
        "import seaborn as sns\n",
        "from sklearn.model_selection import train_test_split as tts\n",
        "from sklearn.metrics import accuracy_score \n",
        "from sklearn.svm import LinearSVC\n",
        "from sklearn.metrics import confusion_matrix\n",
        "%matplotlib inline"
      ],
      "metadata": {
        "id": "p1rLXlmStegG"
      },
      "execution_count": 1,
      "outputs": []
    },
    {
      "cell_type": "code",
      "source": [
        "#Reading the data\n",
        "df = pd.read_csv('data_0.csv')"
      ],
      "metadata": {
        "id": "7qJhsPcVy6B5"
      },
      "execution_count": 6,
      "outputs": []
    },
    {
      "cell_type": "code",
      "source": [
        "#Looking at data\n",
        "df.head()\n"
      ],
      "metadata": {
        "id": "ogjU8USHxDFk",
        "colab": {
          "base_uri": "https://localhost:8080/",
          "height": 560
        },
        "outputId": "f3ca9529-1906-4dc5-bb6c-daaa5a392c62"
      },
      "execution_count": 7,
      "outputs": [
        {
          "output_type": "execute_result",
          "data": {
            "text/plain": [
              "       DR_NO               Date Rptd                DATE OCC  TIME OCC  AREA  \\\n",
              "0   10304468  01/08/2020 12:00:00 AM  01/08/2020 12:00:00 AM      2230     3   \n",
              "1  190101086  01/02/2020 12:00:00 AM  01/01/2020 12:00:00 AM       330     1   \n",
              "2  200110444  04/14/2020 12:00:00 AM  02/13/2020 12:00:00 AM      1200     1   \n",
              "3  191501505  01/01/2020 12:00:00 AM  01/01/2020 12:00:00 AM      1730    15   \n",
              "4  191921269  01/01/2020 12:00:00 AM  01/01/2020 12:00:00 AM       415    19   \n",
              "\n",
              "     AREA NAME  Rpt Dist No  Part 1-2  Crm Cd  \\\n",
              "0    Southwest          377         2     624   \n",
              "1      Central          163         2     624   \n",
              "2      Central          155         2     845   \n",
              "3  N Hollywood         1543         2     745   \n",
              "4      Mission         1998         2     740   \n",
              "\n",
              "                                         Crm Cd Desc  ... Status  \\\n",
              "0                           BATTERY - SIMPLE ASSAULT  ...     AO   \n",
              "1                           BATTERY - SIMPLE ASSAULT  ...     IC   \n",
              "2          SEX OFFENDER REGISTRANT OUT OF COMPLIANCE  ...     AA   \n",
              "3           VANDALISM - MISDEAMEANOR ($399 OR UNDER)  ...     IC   \n",
              "4  VANDALISM - FELONY ($400 & OVER, ALL CHURCH VA...  ...     IC   \n",
              "\n",
              "    Status Desc Crm Cd 1 Crm Cd 2  Crm Cd 3 Crm Cd 4  \\\n",
              "0   Adult Other    624.0      NaN       NaN      NaN   \n",
              "1   Invest Cont    624.0      NaN       NaN      NaN   \n",
              "2  Adult Arrest    845.0      NaN       NaN      NaN   \n",
              "3   Invest Cont    745.0    998.0       NaN      NaN   \n",
              "4   Invest Cont    740.0      NaN       NaN      NaN   \n",
              "\n",
              "                                   LOCATION Cross Street      LAT       LON  \n",
              "0   1100 W  39TH                         PL          NaN  34.0141 -118.2978  \n",
              "1    700 S  HILL                         ST          NaN  34.0459 -118.2545  \n",
              "2    200 E  6TH                          ST          NaN  34.0448 -118.2474  \n",
              "3   5400    CORTEEN                      PL          NaN  34.1685 -118.4019  \n",
              "4  14400    TITUS                        ST          NaN  34.2198 -118.4468  \n",
              "\n",
              "[5 rows x 28 columns]"
            ],
            "text/html": [
              "\n",
              "  <div id=\"df-1feed2bc-fdf2-4647-a286-baf02303423e\">\n",
              "    <div class=\"colab-df-container\">\n",
              "      <div>\n",
              "<style scoped>\n",
              "    .dataframe tbody tr th:only-of-type {\n",
              "        vertical-align: middle;\n",
              "    }\n",
              "\n",
              "    .dataframe tbody tr th {\n",
              "        vertical-align: top;\n",
              "    }\n",
              "\n",
              "    .dataframe thead th {\n",
              "        text-align: right;\n",
              "    }\n",
              "</style>\n",
              "<table border=\"1\" class=\"dataframe\">\n",
              "  <thead>\n",
              "    <tr style=\"text-align: right;\">\n",
              "      <th></th>\n",
              "      <th>DR_NO</th>\n",
              "      <th>Date Rptd</th>\n",
              "      <th>DATE OCC</th>\n",
              "      <th>TIME OCC</th>\n",
              "      <th>AREA</th>\n",
              "      <th>AREA NAME</th>\n",
              "      <th>Rpt Dist No</th>\n",
              "      <th>Part 1-2</th>\n",
              "      <th>Crm Cd</th>\n",
              "      <th>Crm Cd Desc</th>\n",
              "      <th>...</th>\n",
              "      <th>Status</th>\n",
              "      <th>Status Desc</th>\n",
              "      <th>Crm Cd 1</th>\n",
              "      <th>Crm Cd 2</th>\n",
              "      <th>Crm Cd 3</th>\n",
              "      <th>Crm Cd 4</th>\n",
              "      <th>LOCATION</th>\n",
              "      <th>Cross Street</th>\n",
              "      <th>LAT</th>\n",
              "      <th>LON</th>\n",
              "    </tr>\n",
              "  </thead>\n",
              "  <tbody>\n",
              "    <tr>\n",
              "      <th>0</th>\n",
              "      <td>10304468</td>\n",
              "      <td>01/08/2020 12:00:00 AM</td>\n",
              "      <td>01/08/2020 12:00:00 AM</td>\n",
              "      <td>2230</td>\n",
              "      <td>3</td>\n",
              "      <td>Southwest</td>\n",
              "      <td>377</td>\n",
              "      <td>2</td>\n",
              "      <td>624</td>\n",
              "      <td>BATTERY - SIMPLE ASSAULT</td>\n",
              "      <td>...</td>\n",
              "      <td>AO</td>\n",
              "      <td>Adult Other</td>\n",
              "      <td>624.0</td>\n",
              "      <td>NaN</td>\n",
              "      <td>NaN</td>\n",
              "      <td>NaN</td>\n",
              "      <td>1100 W  39TH                         PL</td>\n",
              "      <td>NaN</td>\n",
              "      <td>34.0141</td>\n",
              "      <td>-118.2978</td>\n",
              "    </tr>\n",
              "    <tr>\n",
              "      <th>1</th>\n",
              "      <td>190101086</td>\n",
              "      <td>01/02/2020 12:00:00 AM</td>\n",
              "      <td>01/01/2020 12:00:00 AM</td>\n",
              "      <td>330</td>\n",
              "      <td>1</td>\n",
              "      <td>Central</td>\n",
              "      <td>163</td>\n",
              "      <td>2</td>\n",
              "      <td>624</td>\n",
              "      <td>BATTERY - SIMPLE ASSAULT</td>\n",
              "      <td>...</td>\n",
              "      <td>IC</td>\n",
              "      <td>Invest Cont</td>\n",
              "      <td>624.0</td>\n",
              "      <td>NaN</td>\n",
              "      <td>NaN</td>\n",
              "      <td>NaN</td>\n",
              "      <td>700 S  HILL                         ST</td>\n",
              "      <td>NaN</td>\n",
              "      <td>34.0459</td>\n",
              "      <td>-118.2545</td>\n",
              "    </tr>\n",
              "    <tr>\n",
              "      <th>2</th>\n",
              "      <td>200110444</td>\n",
              "      <td>04/14/2020 12:00:00 AM</td>\n",
              "      <td>02/13/2020 12:00:00 AM</td>\n",
              "      <td>1200</td>\n",
              "      <td>1</td>\n",
              "      <td>Central</td>\n",
              "      <td>155</td>\n",
              "      <td>2</td>\n",
              "      <td>845</td>\n",
              "      <td>SEX OFFENDER REGISTRANT OUT OF COMPLIANCE</td>\n",
              "      <td>...</td>\n",
              "      <td>AA</td>\n",
              "      <td>Adult Arrest</td>\n",
              "      <td>845.0</td>\n",
              "      <td>NaN</td>\n",
              "      <td>NaN</td>\n",
              "      <td>NaN</td>\n",
              "      <td>200 E  6TH                          ST</td>\n",
              "      <td>NaN</td>\n",
              "      <td>34.0448</td>\n",
              "      <td>-118.2474</td>\n",
              "    </tr>\n",
              "    <tr>\n",
              "      <th>3</th>\n",
              "      <td>191501505</td>\n",
              "      <td>01/01/2020 12:00:00 AM</td>\n",
              "      <td>01/01/2020 12:00:00 AM</td>\n",
              "      <td>1730</td>\n",
              "      <td>15</td>\n",
              "      <td>N Hollywood</td>\n",
              "      <td>1543</td>\n",
              "      <td>2</td>\n",
              "      <td>745</td>\n",
              "      <td>VANDALISM - MISDEAMEANOR ($399 OR UNDER)</td>\n",
              "      <td>...</td>\n",
              "      <td>IC</td>\n",
              "      <td>Invest Cont</td>\n",
              "      <td>745.0</td>\n",
              "      <td>998.0</td>\n",
              "      <td>NaN</td>\n",
              "      <td>NaN</td>\n",
              "      <td>5400    CORTEEN                      PL</td>\n",
              "      <td>NaN</td>\n",
              "      <td>34.1685</td>\n",
              "      <td>-118.4019</td>\n",
              "    </tr>\n",
              "    <tr>\n",
              "      <th>4</th>\n",
              "      <td>191921269</td>\n",
              "      <td>01/01/2020 12:00:00 AM</td>\n",
              "      <td>01/01/2020 12:00:00 AM</td>\n",
              "      <td>415</td>\n",
              "      <td>19</td>\n",
              "      <td>Mission</td>\n",
              "      <td>1998</td>\n",
              "      <td>2</td>\n",
              "      <td>740</td>\n",
              "      <td>VANDALISM - FELONY ($400 &amp; OVER, ALL CHURCH VA...</td>\n",
              "      <td>...</td>\n",
              "      <td>IC</td>\n",
              "      <td>Invest Cont</td>\n",
              "      <td>740.0</td>\n",
              "      <td>NaN</td>\n",
              "      <td>NaN</td>\n",
              "      <td>NaN</td>\n",
              "      <td>14400    TITUS                        ST</td>\n",
              "      <td>NaN</td>\n",
              "      <td>34.2198</td>\n",
              "      <td>-118.4468</td>\n",
              "    </tr>\n",
              "  </tbody>\n",
              "</table>\n",
              "<p>5 rows × 28 columns</p>\n",
              "</div>\n",
              "      <button class=\"colab-df-convert\" onclick=\"convertToInteractive('df-1feed2bc-fdf2-4647-a286-baf02303423e')\"\n",
              "              title=\"Convert this dataframe to an interactive table.\"\n",
              "              style=\"display:none;\">\n",
              "        \n",
              "  <svg xmlns=\"http://www.w3.org/2000/svg\" height=\"24px\"viewBox=\"0 0 24 24\"\n",
              "       width=\"24px\">\n",
              "    <path d=\"M0 0h24v24H0V0z\" fill=\"none\"/>\n",
              "    <path d=\"M18.56 5.44l.94 2.06.94-2.06 2.06-.94-2.06-.94-.94-2.06-.94 2.06-2.06.94zm-11 1L8.5 8.5l.94-2.06 2.06-.94-2.06-.94L8.5 2.5l-.94 2.06-2.06.94zm10 10l.94 2.06.94-2.06 2.06-.94-2.06-.94-.94-2.06-.94 2.06-2.06.94z\"/><path d=\"M17.41 7.96l-1.37-1.37c-.4-.4-.92-.59-1.43-.59-.52 0-1.04.2-1.43.59L10.3 9.45l-7.72 7.72c-.78.78-.78 2.05 0 2.83L4 21.41c.39.39.9.59 1.41.59.51 0 1.02-.2 1.41-.59l7.78-7.78 2.81-2.81c.8-.78.8-2.07 0-2.86zM5.41 20L4 18.59l7.72-7.72 1.47 1.35L5.41 20z\"/>\n",
              "  </svg>\n",
              "      </button>\n",
              "      \n",
              "  <style>\n",
              "    .colab-df-container {\n",
              "      display:flex;\n",
              "      flex-wrap:wrap;\n",
              "      gap: 12px;\n",
              "    }\n",
              "\n",
              "    .colab-df-convert {\n",
              "      background-color: #E8F0FE;\n",
              "      border: none;\n",
              "      border-radius: 50%;\n",
              "      cursor: pointer;\n",
              "      display: none;\n",
              "      fill: #1967D2;\n",
              "      height: 32px;\n",
              "      padding: 0 0 0 0;\n",
              "      width: 32px;\n",
              "    }\n",
              "\n",
              "    .colab-df-convert:hover {\n",
              "      background-color: #E2EBFA;\n",
              "      box-shadow: 0px 1px 2px rgba(60, 64, 67, 0.3), 0px 1px 3px 1px rgba(60, 64, 67, 0.15);\n",
              "      fill: #174EA6;\n",
              "    }\n",
              "\n",
              "    [theme=dark] .colab-df-convert {\n",
              "      background-color: #3B4455;\n",
              "      fill: #D2E3FC;\n",
              "    }\n",
              "\n",
              "    [theme=dark] .colab-df-convert:hover {\n",
              "      background-color: #434B5C;\n",
              "      box-shadow: 0px 1px 3px 1px rgba(0, 0, 0, 0.15);\n",
              "      filter: drop-shadow(0px 1px 2px rgba(0, 0, 0, 0.3));\n",
              "      fill: #FFFFFF;\n",
              "    }\n",
              "  </style>\n",
              "\n",
              "      <script>\n",
              "        const buttonEl =\n",
              "          document.querySelector('#df-1feed2bc-fdf2-4647-a286-baf02303423e button.colab-df-convert');\n",
              "        buttonEl.style.display =\n",
              "          google.colab.kernel.accessAllowed ? 'block' : 'none';\n",
              "\n",
              "        async function convertToInteractive(key) {\n",
              "          const element = document.querySelector('#df-1feed2bc-fdf2-4647-a286-baf02303423e');\n",
              "          const dataTable =\n",
              "            await google.colab.kernel.invokeFunction('convertToInteractive',\n",
              "                                                     [key], {});\n",
              "          if (!dataTable) return;\n",
              "\n",
              "          const docLinkHtml = 'Like what you see? Visit the ' +\n",
              "            '<a target=\"_blank\" href=https://colab.research.google.com/notebooks/data_table.ipynb>data table notebook</a>'\n",
              "            + ' to learn more about interactive tables.';\n",
              "          element.innerHTML = '';\n",
              "          dataTable['output_type'] = 'display_data';\n",
              "          await google.colab.output.renderOutput(dataTable, element);\n",
              "          const docLink = document.createElement('div');\n",
              "          docLink.innerHTML = docLinkHtml;\n",
              "          element.appendChild(docLink);\n",
              "        }\n",
              "      </script>\n",
              "    </div>\n",
              "  </div>\n",
              "  "
            ]
          },
          "metadata": {},
          "execution_count": 7
        }
      ]
    },
    {
      "cell_type": "markdown",
      "source": [
        "* Some observations showed that the reported date was later than the incident occurred to date. Therefore, I just selected the occurred incident date for model's prediction later.\n",
        "* The Date Occ column has repeated 12:00:00 AM text, it's invaluable information, so I deleted it and combined it with the time column next to it for further time series model."
      ],
      "metadata": {
        "id": "QtB0CEbw2A6p"
      }
    },
    {
      "cell_type": "code",
      "source": [
        "df['DATE OCC'] = df['DATE OCC'].str.replace('12:00:00 AM', '')"
      ],
      "metadata": {
        "id": "PJ3pcG0qh2ti"
      },
      "execution_count": 8,
      "outputs": []
    },
    {
      "cell_type": "code",
      "source": [
        "df['TIME OCC'] = df['TIME OCC'].apply(lambda x: '{0:0>4}'.format(x))\n",
        "df['TIME OCC'] = pd.to_datetime(df['TIME OCC'], format='%H%M').dt.strftime('%H:%M')"
      ],
      "metadata": {
        "id": "qxMlg6J7Ytiq"
      },
      "execution_count": 9,
      "outputs": []
    },
    {
      "cell_type": "code",
      "source": [
        "df.shape"
      ],
      "metadata": {
        "colab": {
          "base_uri": "https://localhost:8080/"
        },
        "id": "hgGwyBk7OLUI",
        "outputId": "a8ade8f0-2515-4982-d031-b6e6fb301164"
      },
      "execution_count": null,
      "outputs": [
        {
          "output_type": "execute_result",
          "data": {
            "text/plain": [
              "(5000, 28)"
            ]
          },
          "metadata": {},
          "execution_count": 33
        }
      ]
    },
    {
      "cell_type": "code",
      "source": [
        "# Combine date and time into a single datetime column\n",
        "df['datetime'] = pd.to_datetime(df['DATE OCC'] + ' ' + df['TIME OCC'])\n"
      ],
      "metadata": {
        "id": "Fiplv6sRZsoM"
      },
      "execution_count": 10,
      "outputs": []
    },
    {
      "cell_type": "markdown",
      "source": [
        "* Refine the dataset by removing unnecessary columns ( DR_NO, Crm Cd 3, Crm Cd 4, Location and Cross Street) \n",
        "* Crm Cd 2, Crm Cd 3, Crm Cd 4,Cross Street contains blank cells\n",
        "* Location attribute has a lot of incomplete information due to privacy reasons."
      ],
      "metadata": {
        "id": "gbsxk7l7h6VA"
      }
    },
    {
      "cell_type": "code",
      "source": [
        "# Refine the dataset by removing unnecessary columns ( DR_NO,Crm Cd 2, Crm Cd 3, Crm Cd 4)\n",
        "df = df.drop(columns=['DR_NO','Crm Cd 1','Crm Cd 2','Crm Cd 3','Crm Cd 4','Date Rptd','Cross Street','LOCATION'])"
      ],
      "metadata": {
        "id": "bKEb0_7fO1q9"
      },
      "execution_count": 11,
      "outputs": []
    },
    {
      "cell_type": "code",
      "source": [
        "df.describe()"
      ],
      "metadata": {
        "id": "XRDG9csQxDH6",
        "colab": {
          "base_uri": "https://localhost:8080/",
          "height": 300
        },
        "outputId": "6764935e-a5c5-4202-c25d-26e5ba911aea"
      },
      "execution_count": null,
      "outputs": [
        {
          "output_type": "execute_result",
          "data": {
            "text/plain": [
              "          TIME OCC         AREA  Rpt Dist No     Part 1-2       Crm Cd  \\\n",
              "count  5000.000000  5000.000000  5000.000000  5000.000000  5000.000000   \n",
              "mean   1350.911400     4.073000   455.251200     1.384000   501.036200   \n",
              "std     647.974031     3.796282   378.819536     0.486407   206.651939   \n",
              "min       1.000000     1.000000   101.000000     1.000000   110.000000   \n",
              "25%     925.000000     2.000000   212.000000     1.000000   331.000000   \n",
              "50%    1430.000000     3.000000   361.000000     1.000000   442.000000   \n",
              "75%    1900.000000     5.000000   509.000000     2.000000   626.000000   \n",
              "max    2359.000000    21.000000  2189.000000     2.000000   956.000000   \n",
              "\n",
              "          Vict Age    Premis Cd  Weapon Used Cd     Crm Cd 1          LAT  \\\n",
              "count  5000.000000  5000.000000     1627.000000  5000.000000  5000.000000   \n",
              "mean     30.770600   287.606800      373.540258   500.750200    33.998340   \n",
              "std      21.512706   223.954334      116.441831   206.442457     0.967106   \n",
              "min      -1.000000   101.000000      101.000000   110.000000     0.000000   \n",
              "25%      19.000000   101.000000      400.000000   331.000000    34.022000   \n",
              "50%      31.000000   122.000000      400.000000   442.000000    34.045900   \n",
              "75%      46.000000   501.000000      400.000000   626.000000    34.062400   \n",
              "max      99.000000   968.000000      515.000000   956.000000    34.320800   \n",
              "\n",
              "               LON  \n",
              "count  5000.000000  \n",
              "mean   -118.190827  \n",
              "std       3.345331  \n",
              "min    -118.650300  \n",
              "25%    -118.305825  \n",
              "50%    -118.274350  \n",
              "75%    -118.247400  \n",
              "max       0.000000  "
            ],
            "text/html": [
              "\n",
              "  <div id=\"df-54af1f8c-b820-4f26-bedb-10a1af6c0df6\">\n",
              "    <div class=\"colab-df-container\">\n",
              "      <div>\n",
              "<style scoped>\n",
              "    .dataframe tbody tr th:only-of-type {\n",
              "        vertical-align: middle;\n",
              "    }\n",
              "\n",
              "    .dataframe tbody tr th {\n",
              "        vertical-align: top;\n",
              "    }\n",
              "\n",
              "    .dataframe thead th {\n",
              "        text-align: right;\n",
              "    }\n",
              "</style>\n",
              "<table border=\"1\" class=\"dataframe\">\n",
              "  <thead>\n",
              "    <tr style=\"text-align: right;\">\n",
              "      <th></th>\n",
              "      <th>TIME OCC</th>\n",
              "      <th>AREA</th>\n",
              "      <th>Rpt Dist No</th>\n",
              "      <th>Part 1-2</th>\n",
              "      <th>Crm Cd</th>\n",
              "      <th>Vict Age</th>\n",
              "      <th>Premis Cd</th>\n",
              "      <th>Weapon Used Cd</th>\n",
              "      <th>Crm Cd 1</th>\n",
              "      <th>LAT</th>\n",
              "      <th>LON</th>\n",
              "    </tr>\n",
              "  </thead>\n",
              "  <tbody>\n",
              "    <tr>\n",
              "      <th>count</th>\n",
              "      <td>5000.000000</td>\n",
              "      <td>5000.000000</td>\n",
              "      <td>5000.000000</td>\n",
              "      <td>5000.000000</td>\n",
              "      <td>5000.000000</td>\n",
              "      <td>5000.000000</td>\n",
              "      <td>5000.000000</td>\n",
              "      <td>1627.000000</td>\n",
              "      <td>5000.000000</td>\n",
              "      <td>5000.000000</td>\n",
              "      <td>5000.000000</td>\n",
              "    </tr>\n",
              "    <tr>\n",
              "      <th>mean</th>\n",
              "      <td>1350.911400</td>\n",
              "      <td>4.073000</td>\n",
              "      <td>455.251200</td>\n",
              "      <td>1.384000</td>\n",
              "      <td>501.036200</td>\n",
              "      <td>30.770600</td>\n",
              "      <td>287.606800</td>\n",
              "      <td>373.540258</td>\n",
              "      <td>500.750200</td>\n",
              "      <td>33.998340</td>\n",
              "      <td>-118.190827</td>\n",
              "    </tr>\n",
              "    <tr>\n",
              "      <th>std</th>\n",
              "      <td>647.974031</td>\n",
              "      <td>3.796282</td>\n",
              "      <td>378.819536</td>\n",
              "      <td>0.486407</td>\n",
              "      <td>206.651939</td>\n",
              "      <td>21.512706</td>\n",
              "      <td>223.954334</td>\n",
              "      <td>116.441831</td>\n",
              "      <td>206.442457</td>\n",
              "      <td>0.967106</td>\n",
              "      <td>3.345331</td>\n",
              "    </tr>\n",
              "    <tr>\n",
              "      <th>min</th>\n",
              "      <td>1.000000</td>\n",
              "      <td>1.000000</td>\n",
              "      <td>101.000000</td>\n",
              "      <td>1.000000</td>\n",
              "      <td>110.000000</td>\n",
              "      <td>-1.000000</td>\n",
              "      <td>101.000000</td>\n",
              "      <td>101.000000</td>\n",
              "      <td>110.000000</td>\n",
              "      <td>0.000000</td>\n",
              "      <td>-118.650300</td>\n",
              "    </tr>\n",
              "    <tr>\n",
              "      <th>25%</th>\n",
              "      <td>925.000000</td>\n",
              "      <td>2.000000</td>\n",
              "      <td>212.000000</td>\n",
              "      <td>1.000000</td>\n",
              "      <td>331.000000</td>\n",
              "      <td>19.000000</td>\n",
              "      <td>101.000000</td>\n",
              "      <td>400.000000</td>\n",
              "      <td>331.000000</td>\n",
              "      <td>34.022000</td>\n",
              "      <td>-118.305825</td>\n",
              "    </tr>\n",
              "    <tr>\n",
              "      <th>50%</th>\n",
              "      <td>1430.000000</td>\n",
              "      <td>3.000000</td>\n",
              "      <td>361.000000</td>\n",
              "      <td>1.000000</td>\n",
              "      <td>442.000000</td>\n",
              "      <td>31.000000</td>\n",
              "      <td>122.000000</td>\n",
              "      <td>400.000000</td>\n",
              "      <td>442.000000</td>\n",
              "      <td>34.045900</td>\n",
              "      <td>-118.274350</td>\n",
              "    </tr>\n",
              "    <tr>\n",
              "      <th>75%</th>\n",
              "      <td>1900.000000</td>\n",
              "      <td>5.000000</td>\n",
              "      <td>509.000000</td>\n",
              "      <td>2.000000</td>\n",
              "      <td>626.000000</td>\n",
              "      <td>46.000000</td>\n",
              "      <td>501.000000</td>\n",
              "      <td>400.000000</td>\n",
              "      <td>626.000000</td>\n",
              "      <td>34.062400</td>\n",
              "      <td>-118.247400</td>\n",
              "    </tr>\n",
              "    <tr>\n",
              "      <th>max</th>\n",
              "      <td>2359.000000</td>\n",
              "      <td>21.000000</td>\n",
              "      <td>2189.000000</td>\n",
              "      <td>2.000000</td>\n",
              "      <td>956.000000</td>\n",
              "      <td>99.000000</td>\n",
              "      <td>968.000000</td>\n",
              "      <td>515.000000</td>\n",
              "      <td>956.000000</td>\n",
              "      <td>34.320800</td>\n",
              "      <td>0.000000</td>\n",
              "    </tr>\n",
              "  </tbody>\n",
              "</table>\n",
              "</div>\n",
              "      <button class=\"colab-df-convert\" onclick=\"convertToInteractive('df-54af1f8c-b820-4f26-bedb-10a1af6c0df6')\"\n",
              "              title=\"Convert this dataframe to an interactive table.\"\n",
              "              style=\"display:none;\">\n",
              "        \n",
              "  <svg xmlns=\"http://www.w3.org/2000/svg\" height=\"24px\"viewBox=\"0 0 24 24\"\n",
              "       width=\"24px\">\n",
              "    <path d=\"M0 0h24v24H0V0z\" fill=\"none\"/>\n",
              "    <path d=\"M18.56 5.44l.94 2.06.94-2.06 2.06-.94-2.06-.94-.94-2.06-.94 2.06-2.06.94zm-11 1L8.5 8.5l.94-2.06 2.06-.94-2.06-.94L8.5 2.5l-.94 2.06-2.06.94zm10 10l.94 2.06.94-2.06 2.06-.94-2.06-.94-.94-2.06-.94 2.06-2.06.94z\"/><path d=\"M17.41 7.96l-1.37-1.37c-.4-.4-.92-.59-1.43-.59-.52 0-1.04.2-1.43.59L10.3 9.45l-7.72 7.72c-.78.78-.78 2.05 0 2.83L4 21.41c.39.39.9.59 1.41.59.51 0 1.02-.2 1.41-.59l7.78-7.78 2.81-2.81c.8-.78.8-2.07 0-2.86zM5.41 20L4 18.59l7.72-7.72 1.47 1.35L5.41 20z\"/>\n",
              "  </svg>\n",
              "      </button>\n",
              "      \n",
              "  <style>\n",
              "    .colab-df-container {\n",
              "      display:flex;\n",
              "      flex-wrap:wrap;\n",
              "      gap: 12px;\n",
              "    }\n",
              "\n",
              "    .colab-df-convert {\n",
              "      background-color: #E8F0FE;\n",
              "      border: none;\n",
              "      border-radius: 50%;\n",
              "      cursor: pointer;\n",
              "      display: none;\n",
              "      fill: #1967D2;\n",
              "      height: 32px;\n",
              "      padding: 0 0 0 0;\n",
              "      width: 32px;\n",
              "    }\n",
              "\n",
              "    .colab-df-convert:hover {\n",
              "      background-color: #E2EBFA;\n",
              "      box-shadow: 0px 1px 2px rgba(60, 64, 67, 0.3), 0px 1px 3px 1px rgba(60, 64, 67, 0.15);\n",
              "      fill: #174EA6;\n",
              "    }\n",
              "\n",
              "    [theme=dark] .colab-df-convert {\n",
              "      background-color: #3B4455;\n",
              "      fill: #D2E3FC;\n",
              "    }\n",
              "\n",
              "    [theme=dark] .colab-df-convert:hover {\n",
              "      background-color: #434B5C;\n",
              "      box-shadow: 0px 1px 3px 1px rgba(0, 0, 0, 0.15);\n",
              "      filter: drop-shadow(0px 1px 2px rgba(0, 0, 0, 0.3));\n",
              "      fill: #FFFFFF;\n",
              "    }\n",
              "  </style>\n",
              "\n",
              "      <script>\n",
              "        const buttonEl =\n",
              "          document.querySelector('#df-54af1f8c-b820-4f26-bedb-10a1af6c0df6 button.colab-df-convert');\n",
              "        buttonEl.style.display =\n",
              "          google.colab.kernel.accessAllowed ? 'block' : 'none';\n",
              "\n",
              "        async function convertToInteractive(key) {\n",
              "          const element = document.querySelector('#df-54af1f8c-b820-4f26-bedb-10a1af6c0df6');\n",
              "          const dataTable =\n",
              "            await google.colab.kernel.invokeFunction('convertToInteractive',\n",
              "                                                     [key], {});\n",
              "          if (!dataTable) return;\n",
              "\n",
              "          const docLinkHtml = 'Like what you see? Visit the ' +\n",
              "            '<a target=\"_blank\" href=https://colab.research.google.com/notebooks/data_table.ipynb>data table notebook</a>'\n",
              "            + ' to learn more about interactive tables.';\n",
              "          element.innerHTML = '';\n",
              "          dataTable['output_type'] = 'display_data';\n",
              "          await google.colab.output.renderOutput(dataTable, element);\n",
              "          const docLink = document.createElement('div');\n",
              "          docLink.innerHTML = docLinkHtml;\n",
              "          element.appendChild(docLink);\n",
              "        }\n",
              "      </script>\n",
              "    </div>\n",
              "  </div>\n",
              "  "
            ]
          },
          "metadata": {},
          "execution_count": 10
        }
      ]
    },
    {
      "cell_type": "code",
      "source": [
        "df.corr()"
      ],
      "metadata": {
        "colab": {
          "base_uri": "https://localhost:8080/",
          "height": 331
        },
        "id": "djrP2Sy4jcuq",
        "outputId": "3abd097a-c669-4916-9039-8adeb2231d6b"
      },
      "execution_count": null,
      "outputs": [
        {
          "output_type": "execute_result",
          "data": {
            "text/plain": [
              "                    AREA  Rpt Dist No  Part 1-2    Crm Cd  Vict Age  \\\n",
              "AREA            1.000000     0.997536 -0.049200 -0.088031  0.047660   \n",
              "Rpt Dist No     0.997536     1.000000 -0.049703 -0.089606  0.049294   \n",
              "Part 1-2       -0.049200    -0.049703  1.000000  0.772139  0.153901   \n",
              "Crm Cd         -0.088031    -0.089606  0.772139  1.000000 -0.030879   \n",
              "Vict Age        0.047660     0.049294  0.153901 -0.030879  1.000000   \n",
              "Premis Cd      -0.013425    -0.015304  0.236385  0.158251  0.094391   \n",
              "Weapon Used Cd -0.031132    -0.030515  0.388567  0.315192  0.067697   \n",
              "LAT             0.004149     0.002408 -0.008624 -0.024282  0.017668   \n",
              "LON            -0.003985    -0.002469  0.007242  0.020784 -0.014454   \n",
              "\n",
              "                Premis Cd  Weapon Used Cd       LAT       LON  \n",
              "AREA            -0.013425       -0.031132  0.004149 -0.003985  \n",
              "Rpt Dist No     -0.015304       -0.030515  0.002408 -0.002469  \n",
              "Part 1-2         0.236385        0.388567 -0.008624  0.007242  \n",
              "Crm Cd           0.158251        0.315192 -0.024282  0.020784  \n",
              "Vict Age         0.094391        0.067697  0.017668 -0.014454  \n",
              "Premis Cd        1.000000        0.205529  0.010638 -0.010882  \n",
              "Weapon Used Cd   0.205529        1.000000  0.056080  0.015447  \n",
              "LAT              0.010638        0.056080  1.000000 -0.994993  \n",
              "LON             -0.010882        0.015447 -0.994993  1.000000  "
            ],
            "text/html": [
              "\n",
              "  <div id=\"df-5aa47bc9-ac00-415b-8faf-42e9f6e225ab\">\n",
              "    <div class=\"colab-df-container\">\n",
              "      <div>\n",
              "<style scoped>\n",
              "    .dataframe tbody tr th:only-of-type {\n",
              "        vertical-align: middle;\n",
              "    }\n",
              "\n",
              "    .dataframe tbody tr th {\n",
              "        vertical-align: top;\n",
              "    }\n",
              "\n",
              "    .dataframe thead th {\n",
              "        text-align: right;\n",
              "    }\n",
              "</style>\n",
              "<table border=\"1\" class=\"dataframe\">\n",
              "  <thead>\n",
              "    <tr style=\"text-align: right;\">\n",
              "      <th></th>\n",
              "      <th>AREA</th>\n",
              "      <th>Rpt Dist No</th>\n",
              "      <th>Part 1-2</th>\n",
              "      <th>Crm Cd</th>\n",
              "      <th>Vict Age</th>\n",
              "      <th>Premis Cd</th>\n",
              "      <th>Weapon Used Cd</th>\n",
              "      <th>LAT</th>\n",
              "      <th>LON</th>\n",
              "    </tr>\n",
              "  </thead>\n",
              "  <tbody>\n",
              "    <tr>\n",
              "      <th>AREA</th>\n",
              "      <td>1.000000</td>\n",
              "      <td>0.997536</td>\n",
              "      <td>-0.049200</td>\n",
              "      <td>-0.088031</td>\n",
              "      <td>0.047660</td>\n",
              "      <td>-0.013425</td>\n",
              "      <td>-0.031132</td>\n",
              "      <td>0.004149</td>\n",
              "      <td>-0.003985</td>\n",
              "    </tr>\n",
              "    <tr>\n",
              "      <th>Rpt Dist No</th>\n",
              "      <td>0.997536</td>\n",
              "      <td>1.000000</td>\n",
              "      <td>-0.049703</td>\n",
              "      <td>-0.089606</td>\n",
              "      <td>0.049294</td>\n",
              "      <td>-0.015304</td>\n",
              "      <td>-0.030515</td>\n",
              "      <td>0.002408</td>\n",
              "      <td>-0.002469</td>\n",
              "    </tr>\n",
              "    <tr>\n",
              "      <th>Part 1-2</th>\n",
              "      <td>-0.049200</td>\n",
              "      <td>-0.049703</td>\n",
              "      <td>1.000000</td>\n",
              "      <td>0.772139</td>\n",
              "      <td>0.153901</td>\n",
              "      <td>0.236385</td>\n",
              "      <td>0.388567</td>\n",
              "      <td>-0.008624</td>\n",
              "      <td>0.007242</td>\n",
              "    </tr>\n",
              "    <tr>\n",
              "      <th>Crm Cd</th>\n",
              "      <td>-0.088031</td>\n",
              "      <td>-0.089606</td>\n",
              "      <td>0.772139</td>\n",
              "      <td>1.000000</td>\n",
              "      <td>-0.030879</td>\n",
              "      <td>0.158251</td>\n",
              "      <td>0.315192</td>\n",
              "      <td>-0.024282</td>\n",
              "      <td>0.020784</td>\n",
              "    </tr>\n",
              "    <tr>\n",
              "      <th>Vict Age</th>\n",
              "      <td>0.047660</td>\n",
              "      <td>0.049294</td>\n",
              "      <td>0.153901</td>\n",
              "      <td>-0.030879</td>\n",
              "      <td>1.000000</td>\n",
              "      <td>0.094391</td>\n",
              "      <td>0.067697</td>\n",
              "      <td>0.017668</td>\n",
              "      <td>-0.014454</td>\n",
              "    </tr>\n",
              "    <tr>\n",
              "      <th>Premis Cd</th>\n",
              "      <td>-0.013425</td>\n",
              "      <td>-0.015304</td>\n",
              "      <td>0.236385</td>\n",
              "      <td>0.158251</td>\n",
              "      <td>0.094391</td>\n",
              "      <td>1.000000</td>\n",
              "      <td>0.205529</td>\n",
              "      <td>0.010638</td>\n",
              "      <td>-0.010882</td>\n",
              "    </tr>\n",
              "    <tr>\n",
              "      <th>Weapon Used Cd</th>\n",
              "      <td>-0.031132</td>\n",
              "      <td>-0.030515</td>\n",
              "      <td>0.388567</td>\n",
              "      <td>0.315192</td>\n",
              "      <td>0.067697</td>\n",
              "      <td>0.205529</td>\n",
              "      <td>1.000000</td>\n",
              "      <td>0.056080</td>\n",
              "      <td>0.015447</td>\n",
              "    </tr>\n",
              "    <tr>\n",
              "      <th>LAT</th>\n",
              "      <td>0.004149</td>\n",
              "      <td>0.002408</td>\n",
              "      <td>-0.008624</td>\n",
              "      <td>-0.024282</td>\n",
              "      <td>0.017668</td>\n",
              "      <td>0.010638</td>\n",
              "      <td>0.056080</td>\n",
              "      <td>1.000000</td>\n",
              "      <td>-0.994993</td>\n",
              "    </tr>\n",
              "    <tr>\n",
              "      <th>LON</th>\n",
              "      <td>-0.003985</td>\n",
              "      <td>-0.002469</td>\n",
              "      <td>0.007242</td>\n",
              "      <td>0.020784</td>\n",
              "      <td>-0.014454</td>\n",
              "      <td>-0.010882</td>\n",
              "      <td>0.015447</td>\n",
              "      <td>-0.994993</td>\n",
              "      <td>1.000000</td>\n",
              "    </tr>\n",
              "  </tbody>\n",
              "</table>\n",
              "</div>\n",
              "      <button class=\"colab-df-convert\" onclick=\"convertToInteractive('df-5aa47bc9-ac00-415b-8faf-42e9f6e225ab')\"\n",
              "              title=\"Convert this dataframe to an interactive table.\"\n",
              "              style=\"display:none;\">\n",
              "        \n",
              "  <svg xmlns=\"http://www.w3.org/2000/svg\" height=\"24px\"viewBox=\"0 0 24 24\"\n",
              "       width=\"24px\">\n",
              "    <path d=\"M0 0h24v24H0V0z\" fill=\"none\"/>\n",
              "    <path d=\"M18.56 5.44l.94 2.06.94-2.06 2.06-.94-2.06-.94-.94-2.06-.94 2.06-2.06.94zm-11 1L8.5 8.5l.94-2.06 2.06-.94-2.06-.94L8.5 2.5l-.94 2.06-2.06.94zm10 10l.94 2.06.94-2.06 2.06-.94-2.06-.94-.94-2.06-.94 2.06-2.06.94z\"/><path d=\"M17.41 7.96l-1.37-1.37c-.4-.4-.92-.59-1.43-.59-.52 0-1.04.2-1.43.59L10.3 9.45l-7.72 7.72c-.78.78-.78 2.05 0 2.83L4 21.41c.39.39.9.59 1.41.59.51 0 1.02-.2 1.41-.59l7.78-7.78 2.81-2.81c.8-.78.8-2.07 0-2.86zM5.41 20L4 18.59l7.72-7.72 1.47 1.35L5.41 20z\"/>\n",
              "  </svg>\n",
              "      </button>\n",
              "      \n",
              "  <style>\n",
              "    .colab-df-container {\n",
              "      display:flex;\n",
              "      flex-wrap:wrap;\n",
              "      gap: 12px;\n",
              "    }\n",
              "\n",
              "    .colab-df-convert {\n",
              "      background-color: #E8F0FE;\n",
              "      border: none;\n",
              "      border-radius: 50%;\n",
              "      cursor: pointer;\n",
              "      display: none;\n",
              "      fill: #1967D2;\n",
              "      height: 32px;\n",
              "      padding: 0 0 0 0;\n",
              "      width: 32px;\n",
              "    }\n",
              "\n",
              "    .colab-df-convert:hover {\n",
              "      background-color: #E2EBFA;\n",
              "      box-shadow: 0px 1px 2px rgba(60, 64, 67, 0.3), 0px 1px 3px 1px rgba(60, 64, 67, 0.15);\n",
              "      fill: #174EA6;\n",
              "    }\n",
              "\n",
              "    [theme=dark] .colab-df-convert {\n",
              "      background-color: #3B4455;\n",
              "      fill: #D2E3FC;\n",
              "    }\n",
              "\n",
              "    [theme=dark] .colab-df-convert:hover {\n",
              "      background-color: #434B5C;\n",
              "      box-shadow: 0px 1px 3px 1px rgba(0, 0, 0, 0.15);\n",
              "      filter: drop-shadow(0px 1px 2px rgba(0, 0, 0, 0.3));\n",
              "      fill: #FFFFFF;\n",
              "    }\n",
              "  </style>\n",
              "\n",
              "      <script>\n",
              "        const buttonEl =\n",
              "          document.querySelector('#df-5aa47bc9-ac00-415b-8faf-42e9f6e225ab button.colab-df-convert');\n",
              "        buttonEl.style.display =\n",
              "          google.colab.kernel.accessAllowed ? 'block' : 'none';\n",
              "\n",
              "        async function convertToInteractive(key) {\n",
              "          const element = document.querySelector('#df-5aa47bc9-ac00-415b-8faf-42e9f6e225ab');\n",
              "          const dataTable =\n",
              "            await google.colab.kernel.invokeFunction('convertToInteractive',\n",
              "                                                     [key], {});\n",
              "          if (!dataTable) return;\n",
              "\n",
              "          const docLinkHtml = 'Like what you see? Visit the ' +\n",
              "            '<a target=\"_blank\" href=https://colab.research.google.com/notebooks/data_table.ipynb>data table notebook</a>'\n",
              "            + ' to learn more about interactive tables.';\n",
              "          element.innerHTML = '';\n",
              "          dataTable['output_type'] = 'display_data';\n",
              "          await google.colab.output.renderOutput(dataTable, element);\n",
              "          const docLink = document.createElement('div');\n",
              "          docLink.innerHTML = docLinkHtml;\n",
              "          element.appendChild(docLink);\n",
              "        }\n",
              "      </script>\n",
              "    </div>\n",
              "  </div>\n",
              "  "
            ]
          },
          "metadata": {},
          "execution_count": 36
        }
      ]
    },
    {
      "cell_type": "markdown",
      "source": [
        "## Exploratory data analysis"
      ],
      "metadata": {
        "id": "oTDCjf-xxDxW"
      }
    },
    {
      "cell_type": "code",
      "source": [
        "# Importing libraries\n",
        "import seaborn as sns\n",
        "import matplotlib.pyplot as plt\n",
        "import numpy as np"
      ],
      "metadata": {
        "id": "0kmfapNpxwKp"
      },
      "execution_count": 14,
      "outputs": []
    },
    {
      "cell_type": "code",
      "source": [],
      "metadata": {
        "id": "0cZdJaZHxwSe"
      },
      "execution_count": null,
      "outputs": []
    },
    {
      "cell_type": "code",
      "source": [
        "# create a histogram plot with 20 bins\n",
        "plt.hist(df['Vict Age'], bins=20, color= 'red')\n",
        "\n",
        "# add title and labels\n",
        "plt.title('Histogram Plot')\n",
        "plt.xlabel('Age')\n",
        "plt.ylabel('Frequency')\n",
        "\n",
        "# show the plot\n",
        "plt.show()"
      ],
      "metadata": {
        "colab": {
          "base_uri": "https://localhost:8080/",
          "height": 472
        },
        "id": "P9on44guRQlS",
        "outputId": "4b23809d-cff0-447b-8a40-5567dc39f2db"
      },
      "execution_count": null,
      "outputs": [
        {
          "output_type": "display_data",
          "data": {
            "text/plain": [
              "<Figure size 640x480 with 1 Axes>"
            ],
            "image/png": "[encoded data removed]"
          },
          "metadata": {}
        }
      ]
    },
    {
      "cell_type": "markdown",
      "source": [
        "## What time of day do criminal activities happen the most? "
      ],
      "metadata": {
        "id": "St29CflvqDYL"
      }
    },
    {
      "cell_type": "code",
      "source": [
        "time=df['TIME OCC'].value_counts().nlargest(10)\n",
        "time"
      ],
      "metadata": {
        "colab": {
          "base_uri": "https://localhost:8080/"
        },
        "id": "zyJczpWHrwEl",
        "outputId": "8dc790dd-fa0c-4249-deb6-dbf28e302192"
      },
      "execution_count": 22,
      "outputs": [
        {
          "output_type": "execute_result",
          "data": {
            "text/plain": [
              "12:00    164\n",
              "20:00    159\n",
              "19:00    148\n",
              "18:00    132\n",
              "17:00    124\n",
              "15:00    123\n",
              "22:00    123\n",
              "21:00    108\n",
              "16:00    107\n",
              "13:00    100\n",
              "Name: TIME OCC, dtype: int64"
            ]
          },
          "metadata": {},
          "execution_count": 22
        }
      ]
    },
    {
      "cell_type": "code",
      "source": [
        "plt.figure(figsize=(10,5))\n",
        "sns.barplot(x=time.index, y=time.values)\n",
        "plt.title('Top 10 Most Frequent Time with Criminal Activities')\n",
        "plt.xlabel('Time of Occurrence')\n",
        "plt.ylabel('Number of cases')\n",
        "plt.show()"
      ],
      "metadata": {
        "colab": {
          "base_uri": "https://localhost:8080/",
          "height": 487
        },
        "id": "1MJlocvSqD_k",
        "outputId": "350bc60c-16be-4c3f-9541-7d3b314d4705"
      },
      "execution_count": 48,
      "outputs": [
        {
          "output_type": "display_data",
          "data": {
            "text/plain": [
              "<Figure size 1000x500 with 1 Axes>"
            ],
            "image/png": "[encoded data removed]"
          },
          "metadata": {}
        }
      ]
    },
    {
      "cell_type": "markdown",
      "source": [
        "*Surprisingly, most criminal activities happened at noon.*\n",
        "\n",
        "**What type of crime happened at that time?**"
      ],
      "metadata": {
        "id": "ozVJATc_tW0u"
      }
    },
    {
      "cell_type": "code",
      "source": [
        "subset_df = df.loc[df['TIME OCC'] == \"12:00\", :]\n",
        "type_crim=subset_df['Crm Cd Desc'].value_counts().nlargest(3)"
      ],
      "metadata": {
        "id": "0RRxbmcDqEj4"
      },
      "execution_count": 38,
      "outputs": []
    },
    {
      "cell_type": "code",
      "source": [
        "plt.figure(figsize=(12,5))\n",
        "sns.barplot(x=type_crim.index, y=type_crim.values)\n",
        "plt.title('Top 3 Most Frequent Activities in midday')\n",
        "plt.xlabel('Time of Occurrence')\n",
        "plt.ylabel('Count')\n",
        "plt.show()"
      ],
      "metadata": {
        "colab": {
          "base_uri": "https://localhost:8080/",
          "height": 487
        },
        "id": "lt2KOCBTwWzb",
        "outputId": "df737bed-d661-44af-c282-bffcb93d64cc"
      },
      "execution_count": 41,
      "outputs": [
        {
          "output_type": "display_data",
          "data": {
            "text/plain": [
              "<Figure size 1200x500 with 1 Axes>"
            ],
            "image/png": "[encoded data removed]"
          },
          "metadata": {}
        }
      ]
    },
    {
      "cell_type": "markdown",
      "source": [
        "Most of incidents in the midday were related to theft."
      ],
      "metadata": {
        "id": "AZGqxE1VyEAc"
      }
    },
    {
      "cell_type": "code",
      "source": [
        "premises = subset_df['Premis Desc'].value_counts().nlargest(3)\n",
        "plt.figure(figsize=(12,5))\n",
        "sns.barplot(x=type_crim.index, y=type_crim.values)\n",
        "plt.title('Top 3 Most Frequent Premises in midday')\n",
        "plt.xlabel('Premises')\n",
        "plt.ylabel('Count')\n",
        "plt.show()"
      ],
      "metadata": {
        "colab": {
          "base_uri": "https://localhost:8080/",
          "height": 487
        },
        "id": "clKOjIpnw6KB",
        "outputId": "3cbce54a-0c9f-4524-93c4-b333c24faf49"
      },
      "execution_count": 46,
      "outputs": [
        {
          "output_type": "display_data",
          "data": {
            "text/plain": [
              "<Figure size 1200x500 with 1 Axes>"
            ],
            "image/png": "[encoded data removed]"
          },
          "metadata": {}
        }
      ]
    },
    {
      "cell_type": "markdown",
      "source": [
        "Houses and streets are the most common places where incidents happened in the midday.\n",
        "\n",
        "**Hypothesis:** midday is when people and police have less caution about criminals, and criminals tend to choose places where there's no sign of police.  "
      ],
      "metadata": {
        "id": "vVzYcaMdycuR"
      }
    },
    {
      "cell_type": "markdown",
      "source": [
        "## Victim Descent"
      ],
      "metadata": {
        "id": "W0gkDMVapw7s"
      }
    },
    {
      "cell_type": "code",
      "source": [
        "mapping = {'A': 'Asian', 'B': 'Black', 'C': 'Chinese','F':'Filipino','H':'Hispanic/Latin/Mexican','I':'Indian', 'K':'Korean', 'O':'Others', 'V':'Vietnamese','W':'White','X':'Unknowns'}\n",
        "df['Vict Descent'].map(mapping).value_counts()"
      ],
      "metadata": {
        "colab": {
          "base_uri": "https://localhost:8080/"
        },
        "id": "LcSIeZrXqJOf",
        "outputId": "e6f60efb-85ca-4fd0-887f-8d0f3963c221"
      },
      "execution_count": null,
      "outputs": [
        {
          "output_type": "execute_result",
          "data": {
            "text/plain": [
              "Hispanic/Latin/Mexican    1693\n",
              "White                      933\n",
              "Black                      780\n",
              "Unknowns                   525\n",
              "Others                     300\n",
              "Asian                      155\n",
              "Chinese                     15\n",
              "Filipino                    14\n",
              "Korean                      14\n",
              "Indian                      10\n",
              "Vietnamese                   4\n",
              "Name: Vict Descent, dtype: int64"
            ]
          },
          "metadata": {},
          "execution_count": 14
        }
      ]
    },
    {
      "cell_type": "markdown",
      "source": [
        "* Because the number of Chinese, Filipino, Korean, Indian and Vietnamese are not significant and can group them into Asian group.\n",
        "\n",
        "\n",
        "* Others and Unknowns cases can group together into one group."
      ],
      "metadata": {
        "id": "ObnwqtXmtsib"
      }
    },
    {
      "cell_type": "code",
      "source": [
        "# Count the values\n",
        "df1 = df['Vict Descent'].map(mapping).value_counts().reset_index()\n",
        "\n",
        "# Rename the columns\n",
        "df1.columns = ['Vict Descent', 'count']"
      ],
      "metadata": {
        "id": "Gw4ANBHWwANP"
      },
      "execution_count": null,
      "outputs": []
    },
    {
      "cell_type": "code",
      "source": [
        "df1.loc[3, 'Vict Descent'] = 'Others'\n",
        "df1.loc[6, 'Vict Descent'] = 'Asian'\n",
        "df1.loc[7, 'Vict Descent'] = 'Asian'\n",
        "df1.loc[8, 'Vict Descent'] = 'Asian'\n",
        "df1.loc[9, 'Vict Descent'] = 'Asian'\n",
        "df1.loc[10, 'Vict Descent'] = 'Asian'"
      ],
      "metadata": {
        "id": "5vNi3DL0wTFf"
      },
      "execution_count": null,
      "outputs": []
    },
    {
      "cell_type": "code",
      "source": [
        "grouped=df1.groupby('Vict Descent').sum()"
      ],
      "metadata": {
        "id": "tBkztUftxZpE"
      },
      "execution_count": null,
      "outputs": []
    },
    {
      "cell_type": "code",
      "source": [
        "grouped"
      ],
      "metadata": {
        "colab": {
          "base_uri": "https://localhost:8080/",
          "height": 237
        },
        "id": "e6RHtm0942sQ",
        "outputId": "6389c036-0ae2-43ad-f484-ae186dbfeef0"
      },
      "execution_count": null,
      "outputs": [
        {
          "output_type": "execute_result",
          "data": {
            "text/plain": [
              "                        count\n",
              "Vict Descent                 \n",
              "Asian                     212\n",
              "Black                     780\n",
              "Hispanic/Latin/Mexican   1693\n",
              "Others                    825\n",
              "White                     933"
            ],
            "text/html": [
              "\n",
              "  <div id=\"df-3f3b4676-6ad0-4455-aca3-d3d02867f52b\">\n",
              "    <div class=\"colab-df-container\">\n",
              "      <div>\n",
              "<style scoped>\n",
              "    .dataframe tbody tr th:only-of-type {\n",
              "        vertical-align: middle;\n",
              "    }\n",
              "\n",
              "    .dataframe tbody tr th {\n",
              "        vertical-align: top;\n",
              "    }\n",
              "\n",
              "    .dataframe thead th {\n",
              "        text-align: right;\n",
              "    }\n",
              "</style>\n",
              "<table border=\"1\" class=\"dataframe\">\n",
              "  <thead>\n",
              "    <tr style=\"text-align: right;\">\n",
              "      <th></th>\n",
              "      <th>count</th>\n",
              "    </tr>\n",
              "    <tr>\n",
              "      <th>Vict Descent</th>\n",
              "      <th></th>\n",
              "    </tr>\n",
              "  </thead>\n",
              "  <tbody>\n",
              "    <tr>\n",
              "      <th>Asian</th>\n",
              "      <td>212</td>\n",
              "    </tr>\n",
              "    <tr>\n",
              "      <th>Black</th>\n",
              "      <td>780</td>\n",
              "    </tr>\n",
              "    <tr>\n",
              "      <th>Hispanic/Latin/Mexican</th>\n",
              "      <td>1693</td>\n",
              "    </tr>\n",
              "    <tr>\n",
              "      <th>Others</th>\n",
              "      <td>825</td>\n",
              "    </tr>\n",
              "    <tr>\n",
              "      <th>White</th>\n",
              "      <td>933</td>\n",
              "    </tr>\n",
              "  </tbody>\n",
              "</table>\n",
              "</div>\n",
              "      <button class=\"colab-df-convert\" onclick=\"convertToInteractive('df-3f3b4676-6ad0-4455-aca3-d3d02867f52b')\"\n",
              "              title=\"Convert this dataframe to an interactive table.\"\n",
              "              style=\"display:none;\">\n",
              "        \n",
              "  <svg xmlns=\"http://www.w3.org/2000/svg\" height=\"24px\"viewBox=\"0 0 24 24\"\n",
              "       width=\"24px\">\n",
              "    <path d=\"M0 0h24v24H0V0z\" fill=\"none\"/>\n",
              "    <path d=\"M18.56 5.44l.94 2.06.94-2.06 2.06-.94-2.06-.94-.94-2.06-.94 2.06-2.06.94zm-11 1L8.5 8.5l.94-2.06 2.06-.94-2.06-.94L8.5 2.5l-.94 2.06-2.06.94zm10 10l.94 2.06.94-2.06 2.06-.94-2.06-.94-.94-2.06-.94 2.06-2.06.94z\"/><path d=\"M17.41 7.96l-1.37-1.37c-.4-.4-.92-.59-1.43-.59-.52 0-1.04.2-1.43.59L10.3 9.45l-7.72 7.72c-.78.78-.78 2.05 0 2.83L4 21.41c.39.39.9.59 1.41.59.51 0 1.02-.2 1.41-.59l7.78-7.78 2.81-2.81c.8-.78.8-2.07 0-2.86zM5.41 20L4 18.59l7.72-7.72 1.47 1.35L5.41 20z\"/>\n",
              "  </svg>\n",
              "      </button>\n",
              "      \n",
              "  <style>\n",
              "    .colab-df-container {\n",
              "      display:flex;\n",
              "      flex-wrap:wrap;\n",
              "      gap: 12px;\n",
              "    }\n",
              "\n",
              "    .colab-df-convert {\n",
              "      background-color: #E8F0FE;\n",
              "      border: none;\n",
              "      border-radius: 50%;\n",
              "      cursor: pointer;\n",
              "      display: none;\n",
              "      fill: #1967D2;\n",
              "      height: 32px;\n",
              "      padding: 0 0 0 0;\n",
              "      width: 32px;\n",
              "    }\n",
              "\n",
              "    .colab-df-convert:hover {\n",
              "      background-color: #E2EBFA;\n",
              "      box-shadow: 0px 1px 2px rgba(60, 64, 67, 0.3), 0px 1px 3px 1px rgba(60, 64, 67, 0.15);\n",
              "      fill: #174EA6;\n",
              "    }\n",
              "\n",
              "    [theme=dark] .colab-df-convert {\n",
              "      background-color: #3B4455;\n",
              "      fill: #D2E3FC;\n",
              "    }\n",
              "\n",
              "    [theme=dark] .colab-df-convert:hover {\n",
              "      background-color: #434B5C;\n",
              "      box-shadow: 0px 1px 3px 1px rgba(0, 0, 0, 0.15);\n",
              "      filter: drop-shadow(0px 1px 2px rgba(0, 0, 0, 0.3));\n",
              "      fill: #FFFFFF;\n",
              "    }\n",
              "  </style>\n",
              "\n",
              "      <script>\n",
              "        const buttonEl =\n",
              "          document.querySelector('#df-3f3b4676-6ad0-4455-aca3-d3d02867f52b button.colab-df-convert');\n",
              "        buttonEl.style.display =\n",
              "          google.colab.kernel.accessAllowed ? 'block' : 'none';\n",
              "\n",
              "        async function convertToInteractive(key) {\n",
              "          const element = document.querySelector('#df-3f3b4676-6ad0-4455-aca3-d3d02867f52b');\n",
              "          const dataTable =\n",
              "            await google.colab.kernel.invokeFunction('convertToInteractive',\n",
              "                                                     [key], {});\n",
              "          if (!dataTable) return;\n",
              "\n",
              "          const docLinkHtml = 'Like what you see? Visit the ' +\n",
              "            '<a target=\"_blank\" href=https://colab.research.google.com/notebooks/data_table.ipynb>data table notebook</a>'\n",
              "            + ' to learn more about interactive tables.';\n",
              "          element.innerHTML = '';\n",
              "          dataTable['output_type'] = 'display_data';\n",
              "          await google.colab.output.renderOutput(dataTable, element);\n",
              "          const docLink = document.createElement('div');\n",
              "          docLink.innerHTML = docLinkHtml;\n",
              "          element.appendChild(docLink);\n",
              "        }\n",
              "      </script>\n",
              "    </div>\n",
              "  </div>\n",
              "  "
            ]
          },
          "metadata": {},
          "execution_count": 61
        }
      ]
    },
    {
      "cell_type": "code",
      "source": [
        "grouped = df1.groupby('Vict Descent').sum().reset_index()\n",
        "\n",
        "# Create barplot using Seaborn\n",
        "sns.barplot(x='count', y='Vict Descent', data=grouped, orient='h')\n",
        "\n",
        "# Add labels and title\n",
        "plt.xlabel('Victim Descent')\n",
        "plt.ylabel('Number of cases')\n",
        "plt.title('Total Number of Victims by Descent')\n",
        "\n",
        "# Show plot\n",
        "plt.show()"
      ],
      "metadata": {
        "colab": {
          "base_uri": "https://localhost:8080/",
          "height": 472
        },
        "id": "Ib6Uwwym7sX7",
        "outputId": "d8235943-3ba8-45e3-f8e4-a12787a74e96"
      },
      "execution_count": null,
      "outputs": [
        {
          "output_type": "display_data",
          "data": {
            "text/plain": [
              "<Figure size 640x480 with 1 Axes>"
            ],
            "image/png": "[encoded data removed]"
          },
          "metadata": {}
        }
      ]
    },
    {
      "cell_type": "code",
      "source": [
        "# Create pie chart using Matplotlib\n",
        "plt.pie(grouped['count'], labels=grouped['Vict Descent'], autopct='%1.1f%%')\n",
        "\n",
        "# Add title\n",
        "plt.title('Proportion of Victims Descent')\n",
        "# Show plot\n",
        "plt.show()"
      ],
      "metadata": {
        "colab": {
          "base_uri": "https://localhost:8080/",
          "height": 428
        },
        "id": "7-8rQC0x8sBS",
        "outputId": "3eacb055-7d61-45c2-b18f-54b479befd17"
      },
      "execution_count": null,
      "outputs": [
        {
          "output_type": "display_data",
          "data": {
            "text/plain": [
              "<Figure size 640x480 with 1 Axes>"
            ],
            "image/png": "[encoded data removed]"
          },
          "metadata": {}
        }
      ]
    },
    {
      "cell_type": "markdown",
      "source": [
        "## Sex of the victims"
      ],
      "metadata": {
        "id": "R4oDliDo06NH"
      }
    },
    {
      "cell_type": "code",
      "source": [
        "sns.countplot(x='Vict Sex', data=df)\n"
      ],
      "metadata": {
        "colab": {
          "base_uri": "https://localhost:8080/",
          "height": 467
        },
        "id": "xtUIcKYQ1bl7",
        "outputId": "9d27f289-c357-45b1-bd3f-2cfb0fa75061"
      },
      "execution_count": 51,
      "outputs": [
        {
          "output_type": "execute_result",
          "data": {
            "text/plain": [
              "<Axes: xlabel='Vict Sex', ylabel='count'>"
            ]
          },
          "metadata": {},
          "execution_count": 51
        },
        {
          "output_type": "display_data",
          "data": {
            "text/plain": [
              "<Figure size 640x480 with 1 Axes>"
            ],
            "image/png": "[encoded data removed]"
          },
          "metadata": {}
        }
      ]
    },
    {
      "cell_type": "markdown",
      "source": [
        "Male victims are more than female victims."
      ],
      "metadata": {
        "id": "lUYculDm22yh"
      }
    },
    {
      "cell_type": "markdown",
      "source": [
        "## Common types of crime"
      ],
      "metadata": {
        "id": "ZARjVkuS4Rxk"
      }
    },
    {
      "cell_type": "code",
      "source": [
        "df['Crm Cd Desc'].value_counts().nlargest(10)"
      ],
      "metadata": {
        "colab": {
          "base_uri": "https://localhost:8080/"
        },
        "id": "99kBvRhW4lcK",
        "outputId": "d0533987-4c18-4b8d-9105-81853dd1d4ec"
      },
      "execution_count": 53,
      "outputs": [
        {
          "output_type": "execute_result",
          "data": {
            "text/plain": [
              "VEHICLE - STOLEN                                           442\n",
              "BATTERY - SIMPLE ASSAULT                                   439\n",
              "BURGLARY FROM VEHICLE                                      396\n",
              "THEFT FROM MOTOR VEHICLE - GRAND ($950.01 AND OVER)        332\n",
              "THEFT PLAIN - PETTY ($950 & UNDER)                         328\n",
              "VANDALISM - FELONY ($400 & OVER, ALL CHURCH VANDALISMS)    294\n",
              "THEFT FROM MOTOR VEHICLE - PETTY ($950 & UNDER)            244\n",
              "ASSAULT WITH DEADLY WEAPON, AGGRAVATED ASSAULT             231\n",
              "BURGLARY                                                   222\n",
              "VANDALISM - MISDEAMEANOR ($399 OR UNDER)                   198\n",
              "Name: Crm Cd Desc, dtype: int64"
            ]
          },
          "metadata": {},
          "execution_count": 53
        }
      ]
    },
    {
      "cell_type": "code",
      "source": [
        "df['Weapon Desc'].value_counts()"
      ],
      "metadata": {
        "colab": {
          "base_uri": "https://localhost:8080/"
        },
        "id": "0IWHWzWS4ler",
        "outputId": "9f9b2acb-4209-4478-a5e8-929a4392a8fd"
      },
      "execution_count": 54,
      "outputs": [
        {
          "output_type": "execute_result",
          "data": {
            "text/plain": [
              "STRONG-ARM (HANDS, FIST, FEET OR BODILY FORCE)    909\n",
              "UNKNOWN WEAPON/OTHER WEAPON                       193\n",
              "VERBAL THREAT                                     120\n",
              "HAND GUN                                           74\n",
              "OTHER KNIFE                                        38\n",
              "KNIFE WITH BLADE 6INCHES OR LESS                   29\n",
              "UNKNOWN FIREARM                                    23\n",
              "SEMI-AUTOMATIC PISTOL                              21\n",
              "MACE/PEPPER SPRAY                                  19\n",
              "BOTTLE                                             16\n",
              "STICK                                              15\n",
              "PIPE/METAL PIPE                                    13\n",
              "ROCK/THROWN OBJECT                                 12\n",
              "BLUNT INSTRUMENT                                   11\n",
              "KNIFE WITH BLADE OVER 6 INCHES IN LENGTH           10\n",
              "REVOLVER                                            9\n",
              "AIR PISTOL/REVOLVER/RIFLE/BB GUN                    9\n",
              "KITCHEN KNIFE                                       9\n",
              "SIMULATED GUN                                       9\n",
              "FOLDING KNIFE                                       7\n",
              "CLUB/BAT                                            7\n",
              "VEHICLE                                             7\n",
              "MACHETE                                             6\n",
              "OTHER CUTTING INSTRUMENT                            6\n",
              "FIRE                                                6\n",
              "HAMMER                                              5\n",
              "SCISSORS                                            5\n",
              "PHYSICAL PRESENCE                                   5\n",
              "UNKNOWN TYPE CUTTING INSTRUMENT                     5\n",
              "OTHER FIREARM                                       3\n",
              "SCREWDRIVER                                         3\n",
              "SWITCH BLADE                                        3\n",
              "BOMB THREAT                                         3\n",
              "SHOTGUN                                             3\n",
              "RIFLE                                               2\n",
              "DEMAND NOTE                                         2\n",
              "BELT FLAILING INSTRUMENT/CHAIN                      2\n",
              "STUN GUN                                            1\n",
              "AXE                                                 1\n",
              "ASSAULT WEAPON/UZI/AK47/ETC                         1\n",
              "ICE PICK                                            1\n",
              "BRASS KNUCKLES                                      1\n",
              "RAZOR                                               1\n",
              "GLASS                                               1\n",
              "ANTIQUE FIREARM                                     1\n",
              "Name: Weapon Desc, dtype: int64"
            ]
          },
          "metadata": {},
          "execution_count": 54
        }
      ]
    },
    {
      "cell_type": "code",
      "source": [
        "sns.barplot(x='Crime', y=top_crimes.values, hue='Weapon Type', data=df, palette=color_palette)\n"
      ],
      "metadata": {
        "id": "sViNIudR5r4n"
      },
      "execution_count": null,
      "outputs": []
    }
  ]
}